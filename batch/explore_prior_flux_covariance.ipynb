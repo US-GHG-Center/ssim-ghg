{
 "cells": [
  {
   "cell_type": "code",
   "execution_count": null,
   "id": "b13ce113-a570-4c13-9275-39c197d218a2",
   "metadata": {},
   "outputs": [],
   "source": [
    "####################################################################\n",
    "#  THIS CELL IS ALL SETUP FOR EACH OF THE NOTEBOOKS\n",
    "####################################################################\n",
    "\n",
    "#-- Look for locally installed packages on NASA JupyterHub Resources\n",
    ".libPaths(new=c(\"/home/rstudio/shared/lib/R-4.3/x86_64-pc-linux-gnu\",.libPaths())) \n",
    ".libPaths()\n",
    "\n",
    "if(Sys.getenv(\"AWS_WEB_IDENTITY_TOKEN_FILE\") == \"\"){\n",
    " code_dir <- \"/projects/ssim-ghg-2024/\"\n",
    " data_dir <-  \"/Users/aschuh/SSIM-GHG/data/\"\n",
    " output_dir <- \"~/temp/output/\"\n",
    " }else{\n",
    " code_dir <-  \"~/ssim-ghg-2024/\"\n",
    " data_dir <-  \"~/shared/ssim-ghg-data/inversion_examples/\"\n",
    " output_dir <- \"../../output/\"\n",
    " }\n",
    "\n",
    "Rcode_dir <- file.path(code_dir,\"batch/\")\n",
    "\n",
    "setwd(Rcode_dir)\n",
    "\n",
    "#######################################################\n",
    "#-- ***Parent Directory and code for ALL inversions***\n",
    "#######################################################\n",
    "###############################################\n",
    "#-- Load Code\n",
    "##############################################\n",
    "source(file.path(Rcode_dir,\"util_code_032024.R\"))\n",
    "source(file.path(Rcode_dir,\"plot_concentrations.R\"))\n",
    "source(file.path(Rcode_dir,\"inversion_032024.R\"))\n",
    "source(file.path(Rcode_dir,\"write_inversion_2_netcdf_032024.R\"))\n",
    "source(file.path(Rcode_dir,\"generate_transcom_flux_ensemble_from_inversion.R\"))\n",
    "       \n",
    "###############################################\n",
    "#-- Required Libraries\n",
    "###############################################\n",
    "require(ncdf4)\n",
    "require(plyr)\n",
    "require(dplyr)\n",
    "require(parallel)\n",
    "require(ggplot2)\n",
    "require(abind)\n",
    "require(Matrix)\n",
    "require(lattice)\n",
    "require(memuse)\n",
    "require(EnvStats)\n",
    "require(gridExtra)\n",
    "require(mvtnorm)\n",
    "require(plotly)\n",
    "\n",
    "########################\n",
    "#--  Detect Cores\n",
    "########################\n",
    "print(paste(\"Num CPUs:\",detectCores(),\"cores\"))\n",
    "memuse::Sys.meminfo()\n",
    "memuse::Sys.procmem()"
   ]
  },
  {
   "cell_type": "code",
   "execution_count": null,
   "id": "ab410eb9-f60e-4f6e-b365-af09c5be31e9",
   "metadata": {},
   "outputs": [],
   "source": [
    "###############################################\n",
    "#--  Load sensitivity matrices \n",
    "###############################################\n",
    "\n",
    "load(file.path(data_dir,\"jacobians/\",\"trunc_full_jacob_030624_with_dimnames_sib4_4x5_mask.rda\"))\n",
    "load(file.path(data_dir,\"jacobians/\",\"jacob_bgd_021624.rda\"))\n",
    "\n",
    "#-- We have units error somewhere here, need this for now\n",
    "jacob <- jacob * 12/44\n",
    "jacob_bgd <- jacob_bgd \n",
    "\n",
    "fire_fixed <- jacob_bgd[,2]\n",
    "fossil_fixed <- jacob_bgd[,3]\n",
    "###################################################################\n",
    "#-- END END END ***Parent Directory and code for ALL inversions***\n",
    "###################################################################\n"
   ]
  },
  {
   "cell_type": "code",
   "execution_count": null,
   "id": "a88569e4-d10b-4bb5-ba1b-a1d1f0e4f74f",
   "metadata": {},
   "outputs": [],
   "source": [
    "\n",
    "##################################################################\n",
    "#- Inversion #1   *************************\n",
    "##################################################################\n",
    "\n",
    "#################################\n",
    "#- Target truth in state space\n",
    "#################################\n",
    "\n",
    "##################################################################\n",
    "#-- This array holds ratios of OCO2v10MIP fluxes and SiB4 fluxes\n",
    "#-- as examples of \"scalings\" to be recovered. It also holds corresponding\n",
    "#-- differences if the inversion attempts to directly solve for flux\n",
    "#-- truth_array(24 months, 23 transcom, 98 inversions, (ratio, difference) )\n",
    "##################################################################\n",
    "\n",
    "#load(\"/projects/sandbox/inversion_workshop_scripts/truth_array.rda\")\n",
    "load(file.path(data_dir,\"misc/truth_array.rda\"))\n",
    "\n",
    "xx = truth_array[,-1,1,1]\n",
    "\n",
    "#state_vector_true= tm(as.vector(truth_array[,-1,1,1]),-1,1)\n",
    "\n",
    "state_vector_true = c(rep(0.5,24*11),rep(-0.5,24*11))\n",
    "\n",
    "#state_vector_mat = matrix(state_vector_true,nrow=24,byrow=FALSE)\n",
    "#dim(state_vector_mat)\n",
    "#state_vector_mat[,15]"
   ]
  },
  {
   "cell_type": "code",
   "execution_count": null,
   "id": "f544ec1d-253a-4c42-a33e-ac02f74bd641",
   "metadata": {},
   "outputs": [],
   "source": [
    "#########################################################\n",
    "# Generate a prior flux covariance matrix P_0\n",
    "# Long term, a catalog of predefined choices is best here I think\n",
    "#########################################################\n",
    "land_prior_sd = 0.5\n",
    "ocean_prior_sd = 1 \n",
    "\n",
    "\n",
    "#-- induce temporal correlations\n",
    "#sigma = bdiag(rep(list(ar_covariance(24, 0.5)), 22))\n",
    "sigma = diag(rep(1,528))\n",
    "\n",
    "#-- scale by variance for land/ocean\n",
    "var_scaling_diagonal = diag(c(rep(land_prior_sd,24*11),rep(ocean_prior_sd,24*11)))\n",
    "sigma = var_scaling_diagonal %*% sigma %*% t(var_scaling_diagonal)\n",
    "#diag(sigma) = NA\n",
    "#levelplot(as.matrix(sigma)[1:24,1:24],col.regions=my.col(20),at=seq(-0.5,0.5,length=20))"
   ]
  },
  {
   "cell_type": "code",
   "execution_count": null,
   "id": "430d1ee9-5842-4e8f-96a7-eb5dfc329d7a",
   "metadata": {},
   "outputs": [],
   "source": [
    "####################################################################################\n",
    "#-- WHICH obs do you want to use in the inversion? \n",
    "#-- examples of selecting on stations, type of data, lat/lon box,etc\n",
    "####################################################################################\n",
    "\n",
    "#load(file.path(data_dir,\"obs/obs_catalog_030624.rda\")) # obs_catalog object\n",
    "load(file.path(data_dir,\"obs/obs_catalog_042424_unit_pulse_hour_timestamp_witherrors_withdates.rda\")) \n",
    "\n",
    "\n",
    "#subset_indicator_obs=rep(FALSE,dim(jacob)[1])\n",
    "subset_indicator_obs=rep(TRUE,dim(jacob)[1])\n",
    "\n",
    "#subset_indicator_obs=c(rep(TRUE,156383),rep(FALSE,1000000))\n",
    "\n",
    "############################\n",
    "#-- SAMPLE BY TYPE EXAMPLE\n",
    "############################\n",
    "#subset_indicator_obs[obs_catalog$TYPE == \"TCCON\"] = TRUE\n",
    "#subset_indicator_obs1 = rep(FALSE,length(subset_indicator_obs))\n",
    "#subset_indicator_obs2 = rep(FALSE,length(subset_indicator_obs))\n",
    "\n",
    "#subset_indicator_obs1[obs_catalog$TYPE == \"OCO2\"] = TRUE\n",
    "#subset_indicator_obs2[seq(1,1156383,by=2)] = TRUE\n",
    "#subset_indicator_obs = subset_indicator_obs1 & subset_indicator_obs2\n",
    "\n",
    "\n",
    "############################\n",
    "#-- SAMPLE BY NOAA STATION EXAMPLE\n",
    "############################\n",
    "#subset_indicator_obs[grep(\"spo\",obs_catalog$ID)] = TRUE\n",
    "#subset_indicator_obs[grep(\"lef\",obs_catalog$ID)] = TRUE\n",
    "\n",
    "############################\n",
    "#-- SAMPLE BY TIME EXAMPLE\n",
    "############################\n",
    "#subset_indicator_obs[obs_catalog$TIME > 8738000] = TRUE\n",
    "\n",
    "############################\n",
    "#-- SAMPLE BY LON & LAT EXAMPLE\n",
    "############################\n",
    "#subset_indicator_obs[obs_catalog$LON < -10 & obs_catalog$LAT > 10] = TRUE\n",
    "\n",
    "#subset_indicator_obs=c(rep(TRUE,1156382),rep(FALSE,1))\n",
    "#subset_indicator_obs[seq(1,1156383,by=100)] = TRUE\n",
    "#table(subset_indicator_obs)\n",
    "\n",
    "############################\n",
    "#-- Downsample if necessary\n",
    "############################\n",
    "\n",
    "if(sum(subset_indicator_obs) > 0.5*length(subset_indicator_obs)) {\n",
    "  new_ind = rep(FALSE,length(subset_indicator_obs))\n",
    "  new_ind[sample(x=grep(TRUE,subset_indicator_obs),size=floor(0.5*length(subset_indicator_obs)))] = TRUE\n",
    "  print(paste(\"downsampling from\",sum(subset_indicator_obs),\"to\",\n",
    "              floor(0.5*length(subset_indicator_obs)),\"observations\"))\n",
    "  subset_indicator_obs = new_ind\n",
    "    }\n",
    "\n",
    "#-- LEAVE THIS AS IT SUMMARIZES THE NUMBER OF OBS USED\n",
    "print(paste(\"using\",sum(subset_indicator_obs),\"of\",length(subset_indicator_obs),\"observations\"))"
   ]
  },
  {
   "cell_type": "code",
   "execution_count": null,
   "id": "76e52525-cbb5-424b-8dc7-6a7a1a0dffe7",
   "metadata": {},
   "outputs": [],
   "source": [
    "##########################################################\n",
    "#-- sd for Gaussian i.i.d. errors, jacob is sens matrix\n",
    "##########################################################\n",
    "R_diagonal_in = rep(0.00001,(dim(jacob)[1]))\n",
    "#R_diagonal_in = obs_catalog$SD"
   ]
  },
  {
   "cell_type": "code",
   "execution_count": null,
   "id": "10db9f7d-5129-48b0-b5e0-39ac59a300f3",
   "metadata": {},
   "outputs": [],
   "source": [
    "#############################################################\n",
    "#-- Generate obs, 'y',  set.seed() ????\n",
    "#-- currently leaving out bgd and all fixed\n",
    "#-- non-optimizable contributions including fire and fossil\n",
    "#############################################################\n",
    "\n",
    "y_in = jacob %*% (1+state_vector_true) + rnorm(length(R_diagonal_in),sd=R_diagonal_in)\n"
   ]
  },
  {
   "cell_type": "markdown",
   "id": "25277386-ddbe-4d90-8f1e-5740a911a0d7",
   "metadata": {},
   "source": [
    "$$\n",
    "\\newcommand{\\transpose}[1]{{#1^{\\scriptscriptstyle T}}} \n",
    "J(x) = \\transpose{(x_0 - x)} {\\Sigma_x\n",
    "}^{-1}(x_0 - x) + \\transpose{(z - Hx)} {\\Sigma_z}^{-1}(z - Hx)\\\\\n",
    "$$\n",
    "\n",
    "$$\n",
    "\\newcommand{\\transpose}[1]{{#1^{\\scriptscriptstyle T}}} \n",
    "\\hat{x} = (\\transpose{H}{\\Sigma_z}^{-1}H + {\\Sigma_x}^{-1})^{-1}(\\transpose{H}{\\Sigma_z}^{-1}(z-Hx)+{\\Sigma_x}^{-1}x_0)\n",
    "$$\n",
    "\n",
    "$$\n",
    "\\newcommand{\\transpose}[1]{{#1^{\\scriptscriptstyle T}}} \n",
    "\\Sigma_{\\hat{x}} = {({\\Sigma_x}^{-1} + \\transpose{H}{\\Sigma_z}^{-1}H )}^{-1}\n",
    "$$\n",
    "\n",
    "\n",
    "\n",
    "\n",
    "\n"
   ]
  },
  {
   "cell_type": "code",
   "execution_count": null,
   "id": "01f4de4e-5572-4c49-93cd-d8aa155a3805",
   "metadata": {},
   "outputs": [],
   "source": [
    "############################\n",
    "#-- Run the actual inversion\n",
    "############################\n",
    "\n",
    "ret2 = invert_clean(H=jacob,R_diagonal=R_diagonal_in,P_0=sigma,y=y_in,H_bgd=jacob_bgd,\n",
    "                    subset_indicator_obs=subset_indicator_obs,DOF=TRUE,output_Kalman_Gain=FALSE)\n",
    "\n"
   ]
  },
  {
   "cell_type": "raw",
   "id": "2da291d9-003b-4093-a288-4778f30d3441",
   "metadata": {},
   "source": [
    "The first diagnostic we perform is the compare the flux scalings we are using as \"truth\" to that which we are estimating from the inversion process.  These are the \"actual\" scaling terms that need to be added to 1, to produce our best posterior mean guess for the unknown fluxes."
   ]
  },
  {
   "cell_type": "code",
   "execution_count": null,
   "id": "d47a9c1c-b3df-4957-bfd9-849f25c1b7bc",
   "metadata": {},
   "outputs": [],
   "source": [
    "#hist(ret2$posterior$x_hat[,1])\n",
    "options(repr.plot.width=8, repr.plot.height=8)\n",
    "plot(state_vector_true,ret2$posterior$x_hat,pch=16,cex=1.5,col=c(rep(\"orange\",264),rep(\"blue\",264)),\n",
    "     xlab=\"True State Scaling\",ylab=\"Estimated State Scaling\",main=\"Estimated state vector vs true state vector (all time and regions)\")"
   ]
  },
  {
   "cell_type": "code",
   "execution_count": null,
   "id": "bb033cd5-1175-4f00-aba5-219f71b6cf16",
   "metadata": {},
   "outputs": [],
   "source": [
    "org_data = generate_transcom_flux_ensemble_from_inversion(inv_object=ret2,samples=1000)"
   ]
  },
  {
   "cell_type": "code",
   "execution_count": null,
   "id": "a383a4f2-d9e4-423b-a987-07b25085ea20",
   "metadata": {},
   "outputs": [],
   "source": [
    "#-- induce temporal correlations\n",
    "#sigma = bdiag(rep(list(ar_covariance(24, 0.5)), 22))\n",
    "sigma = diag(rep(1,528))\n",
    "\n",
    "#-- scale by variance for land/ocean\n",
    "var_scaling_diagonal = diag(c(rep(land_prior_sd,24*11),rep(ocean_prior_sd,24*11)))\n",
    "sigma = var_scaling_diagonal %*% sigma %*% t(var_scaling_diagonal)\n",
    "#diag(sigma) = NA\n",
    "#levelplot(as.matrix(sigma)[1:24,1:24],col.regions=my.col(20),at=seq(-0.5,0.5,length=20))"
   ]
  },
  {
   "cell_type": "code",
   "execution_count": null,
   "id": "5969436e-f7b4-47ce-acaa-cde22c6b796f",
   "metadata": {},
   "outputs": [],
   "source": [
    "ret3 = invert_clean(H=jacob,R_diagonal=R_diagonal_in,P_0=sigma,y=y_in,H_bgd=jacob_bgd,\n",
    "                    subset_indicator_obs=subset_indicator_obs,DOF=TRUE,output_Kalman_Gain=FALSE)\n"
   ]
  },
  {
   "cell_type": "code",
   "execution_count": null,
   "id": "d5440a23-d42a-4525-8d54-19010ad52692",
   "metadata": {},
   "outputs": [],
   "source": [
    "org_data2 = generate_transcom_flux_ensemble_from_inversion(inv_object=ret3,samples=1000)"
   ]
  },
  {
   "cell_type": "raw",
   "id": "520ab2f9-f487-44b7-a5cc-0395bde7fd81",
   "metadata": {},
   "source": [
    "Here we will plot annual flux average for 9/2014 - 8/2016 for each Transcom Region."
   ]
  },
  {
   "cell_type": "code",
   "execution_count": null,
   "id": "82d69704-2dbc-4529-9bda-f0d554c0e07a",
   "metadata": {},
   "outputs": [],
   "source": [
    "plot_timeseries_flux_bytranscom(ret=org_data)"
   ]
  },
  {
   "cell_type": "code",
   "execution_count": null,
   "id": "1fc14381-d74d-4ca4-b1aa-1908c454e754",
   "metadata": {},
   "outputs": [],
   "source": [
    "plot_timeseries_flux_bytranscom(ret=org_data2)"
   ]
  },
  {
   "cell_type": "raw",
   "id": "e1990f7b-1bc7-4c20-bd2c-75cc4e1001b5",
   "metadata": {},
   "source": [
    "In this next section of code we will plot the posterior \"credible intervals\" for each transcom region as a function of month from 9/2014 to 8/2016."
   ]
  },
  {
   "cell_type": "code",
   "execution_count": null,
   "id": "3861a331-8f5c-46e0-ac27-19ccae41b5ff",
   "metadata": {},
   "outputs": [],
   "source": [
    "plot_transcom_flux_by_month(ret=org_data)"
   ]
  },
  {
   "cell_type": "code",
   "execution_count": null,
   "id": "3b48130f-2e72-49ec-a771-d5cc5aa7faae",
   "metadata": {},
   "outputs": [],
   "source": [
    "plot_transcom_flux_by_month(ret=org_data2)"
   ]
  },
  {
   "cell_type": "code",
   "execution_count": null,
   "id": "29d4307a-3c7f-4db1-82f0-c470e907bd4e",
   "metadata": {},
   "outputs": [],
   "source": [
    "#-- Plotting prior/post correlation across 2 year flux average\n",
    "#-- Correlations are estimated from sample in orig_data hence\n",
    "#-- Prior shows \"some\" correlation when none exists due to noise\n",
    "\n",
    "plot_inversion_correlations(org_data = org_data) \n"
   ]
  },
  {
   "cell_type": "code",
   "execution_count": null,
   "id": "5109f2df-cb5c-4679-8986-8569090208f6",
   "metadata": {},
   "outputs": [],
   "source": [
    "plot_inversion_correlations_by_transcom(org_data=org_data)"
   ]
  },
  {
   "cell_type": "code",
   "execution_count": null,
   "id": "e1387cb9-1d26-4e92-900d-83f5e9eb674b",
   "metadata": {},
   "outputs": [],
   "source": [
    "plot_concentrations(inversion=ret2,add_prior_nee=FALSE,add_fossil=FALSE,add_fire=FALSE)"
   ]
  },
  {
   "cell_type": "code",
   "execution_count": null,
   "id": "19aba0ef-85ca-417f-8993-f1ffdc506862",
   "metadata": {},
   "outputs": [],
   "source": [
    "sessionInfo()"
   ]
  },
  {
   "cell_type": "code",
   "execution_count": null,
   "id": "66066cd8-1b6b-4ee5-a8f6-928d26e626e0",
   "metadata": {},
   "outputs": [],
   "source": []
  }
 ],
 "metadata": {
  "language_info": {
   "name": "R"
  }
 },
 "nbformat": 4,
 "nbformat_minor": 5
}
