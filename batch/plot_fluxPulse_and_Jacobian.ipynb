{
 "cells": [
  {
   "cell_type": "markdown",
   "id": "6e58e5d8-aa3b-4337-bf8b-04209beeacf6",
   "metadata": {},
   "source": [
    "## Andrew's Musings on the Jacobian/Sensitivity/H matrix."
   ]
  },
  {
   "cell_type": "code",
   "execution_count": null,
   "id": "c46672f4-a04d-4f1c-84c6-602b4fb41035",
   "metadata": {},
   "outputs": [],
   "source": [
    "######################################################################\n",
    "#-- Read settings for location of data and set up, NO NEED TO CHANGE\n",
    "######################################################################\n",
    "orig_dir = getwd()\n",
    "require(yaml,warn.conflicts = FALSE)\n",
    "dat = yaml.load_file(\"../site_settings.yml\")\n",
    "Rcode_dir <- getwd()\n",
    "data_dir = dat$global_paths$input_folder\n",
    "output_dir = dat$global_paths$output_folder\n",
    "\n",
    "#--  Load utility code file w/ setup()\n",
    "source(file.path(Rcode_dir,\"util_code_032024.R\"))\n",
    "setup()\n"
   ]
  },
  {
   "cell_type": "markdown",
   "id": "f56350d9-b57d-46d8-a022-28d796a02738",
   "metadata": {},
   "source": [
    "#### Pieces of an inversion\n",
    "\n",
    "Recall that there are several parts that go into an inversion:\n",
    "\n",
    "- The state space $\\mathbf{x}$, it's prior mean $\\mathbf{x}_0$, and prior covariance $\\mathbf{S}_0$\n",
    "- Observations $\\mathbf{z}$, with error covariance $\\mathbf{S}_z$\n",
    "- Jacobian mapping state to obs: $\\mathbf{H}$\n",
    "\n",
    "We load and explore the Jacobian $\\mathbf{H}$ below, the \"sensitivity\" matrix"
   ]
  },
  {
   "cell_type": "markdown",
   "id": "db869e6b-d9fe-4904-a7ec-78d59fd4dbaf",
   "metadata": {},
   "source": [
    "#### Baseline Sensitivity Matrices (H and H^t)\n",
    "\n",
    "These precalculated sensitivity matrices (jacob object) detail the sensitivity of 1,156,383 different observations to the basis functions, which consist of 22 regions, 11 land and 11 ocean, over 24 different months. The jacob_bgd object consists of the sensitivity of the observations to emission sources which will not be optimized here, particularly fire emissions (e.g. forest/grassland fires) and fossil fuel emissions.  At end we assign these objects to 'H' to match the notation through rest of exercises/slides."
   ]
  },
  {
   "cell_type": "code",
   "execution_count": null,
   "id": "7188e3c1-e63d-4e7f-97dd-b748716dd16f",
   "metadata": {},
   "outputs": [],
   "source": [
    "###############################################\n",
    "#--  Load sensitivity matrices \n",
    "###############################################\n",
    "\n",
    "d = load.ncdf(file.path(data_dir,\"jacobians\",\"trunc_full_jacob_030624_with_dimnames_sib4_4x5_mask.nc4\"))\n",
    "\n",
    "#-- Difference in forward runs from GEOS-CHem resulted in CO2 vs C diff in mass is why 12/44 is here (note)\n",
    "#-- Assign the jacob objects to H to match notation\n",
    "\n",
    "H <- d$jacobian * 12/44\n",
    "dimnames(H)[[1]] = d$observation.id\n",
    "dimnames(H)[[2]] = d$pulse.id\n",
    "rm(d)\n",
    "\n",
    "###################################################################\n",
    "#-- END END END ***Parent Directory and code for ALL inversions***\n",
    "###################################################################"
   ]
  },
  {
   "cell_type": "code",
   "execution_count": null,
   "id": "fa69b423-e14a-4313-a629-e94c4aab9ffc",
   "metadata": {},
   "outputs": [],
   "source": [
    "#- Load \"catalog\" of observations, subset to every 5th obs to match \"short\" Jacobians\n",
    "load(file.path(data_dir,\"obs/obs_catalog_042424_unit_pulse_hour_timestamp_witherrors_withdates.rda\")) \n",
    "\n",
    "#how many obs of each type, and some sample observations locations/times\n",
    "table(obs_catalog$TYPE)\n",
    "print(\"Ten random rows of obs_catalog:\")\n",
    "obs_catalog[sample(1:dim(obs_catalog)[1],10),]\n"
   ]
  },
  {
   "cell_type": "markdown",
   "id": "ec40118c-2105-479c-bf5b-92a78ba34444",
   "metadata": {},
   "source": [
    "## Plot the \"pulses\" we are tracking \n",
    "There are 528 net CO2 flux (NEE) \"pulses\" that we look to track and adjust/optimize.  There are 22 different geographic regions (11 land and 11 ocean) and 24 months (Sept 2014 - Aug 2016, Month 1=Sept 2014, Month 2=Oct 2014, etc), i.e. 22*24 = 528. This function allows you to plot the pulses for various month and region combinations. The general structure of the function call is:\n",
    "\n",
    "plot_base_pulse_flux(month=c(11),transcom_region=c(2))  # plot Aug 2015 and Transcom Region 2 (Temperature N.A.)\n",
    "plot_base_pulse_flux(month=c(11,12),transcom_region=c(1,2))  # plot Aug 2015, Sept 2015 and Transcom Region 1 (Boreal N.A.) and 2 (Temperature N.A.)\n",
    "\n",
    "#### Notes\n",
    "\n",
    "1) the \"flux\" here is identical over the entire month, just an average (not totally realistic).\n",
    "2) the flux is not identical over the entire geographic region, but is a \"pattern\" that is fixed"
   ]
  },
  {
   "cell_type": "code",
   "execution_count": null,
   "id": "5d88eb94-9602-4ac7-9c13-d9c0adb84182",
   "metadata": {},
   "outputs": [],
   "source": [
    "options(repr.plot.width = 12, repr.plot.height = 8, repr.plot.res = 150)\n",
    "\n",
    "plot_base_pulse_flux(month=c(1:24),transcom_region=c(1))"
   ]
  },
  {
   "cell_type": "markdown",
   "id": "001a6e92-3332-4eaf-8d0c-19f8ef2304c0",
   "metadata": {},
   "source": [
    "### Plotting a COLUMN of the Jacobian/Sensitivity Matrix \n",
    "The following function finds all rows (observations) corresponding to a sampling \"location\" and then plots the sensitivity of that site to a particular column of Jacobian (transcom region & month) over time. In essence, this is plotting a \"piece\" of a single column of the Jacobian, hence the function being called plot_Jacobian_cols_*. \n",
    "\n",
    "Note these are all in situ we're plotting but we could do similar analysis by subsetting the OCO-2 observation to a small lat-lon box.  Didn't get to that : )"
   ]
  },
  {
   "cell_type": "code",
   "execution_count": null,
   "id": "612c5318-d769-402f-a343-74d90b0357f1",
   "metadata": {},
   "outputs": [],
   "source": [
    "#- Keep in mind Month 1 is Sept 2014, Month 12 is Aug 2015, Month 24 is Aug 2016\n",
    "#- Different sites plotted below...\n",
    "#- \"co2_mlo_surface-insitu_1_allvalid\" : Mauna Loa, Hawaii\n",
    "#- \"co2_brw_surface-insitu_1_allvalid\" : Barrow, Alaska\n",
    "#- \"co2_smo_surface-insitu_1_allvalid\" : American Samoa, South Pacific Ocean\n",
    "#- \"co2_spo_surface-insitu_1_allvalid\" : South Pole\n",
    "#- \"co2_lef_tower-insitu_1_allvalid-396magl\" : Park Falls, Wisconsin\n",
    "\n",
    "#- Single pulse example: transcom_region=1,month=12\n",
    "#- Mult pulse example: transcom_region=c(1,2),month=c(11,12)\n",
    "#- transcom_region: vector of integers between 1 and 22\n",
    "#- month: vector of integers between 1 and 24\n",
    "#- plot_sum: this sums all the pulse contributions into a single variable to be plotted (called \"VALUE\"), \n",
    "#-  otherwise individual pulses plotted, plot_sum has to be FALSE if you just select one pulse region (1 time and 1 region)\n",
    "\n",
    "options(repr.plot.width = 20, repr.plot.height = 4, repr.plot.res = 150)\n",
    "\n",
    "plot_Jacobian_cols_observations(transcom_region=c(1),month=c(11),\n",
    "                                plot_sum=FALSE,\n",
    "                                site_strings=c(\"co2_mlo_surface-insitu_1_allvalid\",\n",
    "                                   \"co2_brw_surface-insitu_1_allvalid\",\n",
    "                                   \"co2_smo_surface-insitu_1_allvalid\",\n",
    "                                   \"co2_spo_surface-insitu_1_allvalid\",\n",
    "                                   \"co2_lef_tower-insitu_1_allvalid-396magl\"))\n",
    "\n"
   ]
  },
  {
   "cell_type": "markdown",
   "id": "1a1f4605-c3aa-4112-bc21-89370b2a6943",
   "metadata": {},
   "source": [
    "### Plotting ROW of Jacobian/Sensitivity Matrix \n",
    "The following function ingests a row number corresponding to a single observation in time.  It then plots the sensitivity of the observation to each Transcom Region over the 24 months.  Essentially, this function plots a \"row\" of the Jacobian."
   ]
  },
  {
   "cell_type": "code",
   "execution_count": null,
   "id": "282fbb86-31ad-43d5-bf56-242df73a4dfb",
   "metadata": {},
   "outputs": [],
   "source": [
    "#-- some representative samples\n",
    "#-- I'm plotting the rows, sorting output by time for clarity\n",
    "#-- 772122: MLO flask (Hawaii, US 12/31/2014)\n",
    "#-- 768131: wbi in-situ (Iowa, US 12/24/2014)\n",
    "#-- 924951: wbi in-situ (Iowa, US 8/10/2015)\n",
    "#-- 1156374: spo flask ( South Pole 8/31/2016 )\n",
    "#-- ....need a few more....\n",
    "\n",
    "options(repr.plot.width = 20, repr.plot.height = 4, repr.plot.res = 150)\n",
    "\n",
    "plot_Jacobian_rows_fluxes(772122)"
   ]
  },
  {
   "cell_type": "markdown",
   "id": "6ac9a430-b75c-4cae-a2a8-0b44cf4b93c3",
   "metadata": {},
   "source": [
    "#### Volunteers to explain the previous samples\n",
    "\n",
    "1) Iowa, US 12/24/2014\n",
    "2) Iowa, US 8/10/2015\n",
    "3) South Pole 8/31/2016\n",
    "4) Any other interesting one somebody sees?\n",
    "5) (BONUS) Can you *roughly* gauge how long it takes for air to move from Canada to South Pole by these plots? or 'bracket' it at all?"
   ]
  },
  {
   "cell_type": "markdown",
   "id": "a7119331-51cc-4fea-9b9d-294a48c9b9c2",
   "metadata": {},
   "source": [
    "###  BONUS: Fixed components to Jacobian/Sensitivity Matrix, things we \"add\" but don't plan to optimize\n",
    "In actual inversion problems, you are usually optimizing a piece of the emissions, relative to prior guess fluxes, but often also adding other fixed contributions which you don't plan to optimize.  In the global CO2 flux problem, this usually manifests itself as adding in fossil fuel CO2 and biomass fire CO2 as fixed/unoptimized components and then trying to optimize the \"natural\" part due to photosynthesis/decomposition (NEE) and net ocean exchange.  Here we show both fossil and fires as single columns of the Jacobian (sensitivity of obs to a single \"pulse\") and plot the sensitivity of different sampling sites to the emission over time."
   ]
  },
  {
   "cell_type": "code",
   "execution_count": null,
   "id": "eb9f2c73-7c6a-4c4d-b074-c4c7d0e17544",
   "metadata": {},
   "outputs": [],
   "source": [
    "#-- These represent the fossil and biomass burning contributions to the observations (from fixed emission runs)\n",
    "load(file.path(data_dir,\"jacobians/\",\"jacob_bgd_060524.rda\"))\n",
    "H_bgd <- jacob_bgd \n",
    "fire_fixed <- H_bgd[,2]\n",
    "fossil_fixed <- H_bgd[,3]\n",
    "\n",
    "#-- Note the row dimension is length of observations, the 5 rows are five possible extra fixed contributions,\n",
    "#-- including fire and fossil as 2 of the columns\n",
    "#paste(\"Dimension H_bgd:\",dim(H_bgd)[1],\" rows by \",dim(H_bgd)[2],\" cols\",sep=\"\")\n",
    "\n",
    "\n"
   ]
  },
  {
   "cell_type": "code",
   "execution_count": null,
   "id": "f77bb738-f33d-40fb-9c32-ca80a857083d",
   "metadata": {},
   "outputs": [],
   "source": [
    "#-- This secret argument, \"plot_fossil_instead\" and \"plot_fossil_instead\" bypass the region and month argument\n",
    "#-- and allow you to plot the \"fixed\" fossil and fires additions to the concentrations\n",
    "#-- Note \"izo\" is Izana, Canary Islands, off the NW coast of Africa\n",
    "\n",
    "options(repr.plot.width = 20, repr.plot.height = 4, repr.plot.res = 150)\n",
    "\n",
    "plot_Jacobian_cols_observations(transcom_region=1,month=12,site_strings=c(\"izo_surface\",\"brw_surface-insitu\",\"mlo_surface-flask\",\"smo_surface-insitu\",\n",
    "                                                          \"co2_spo_surface-flask\",\n",
    "                                                          \"lef\",\"wkt\",\"wbi\",\"nwr\",\"hun\",\"cgo\",\"cpt\"),plot_fires_instead=TRUE,\n",
    "                                                           plot_fossil_instead=FALSE)"
   ]
  },
  {
   "cell_type": "markdown",
   "id": "3e99b3db-33b2-4da7-bc4e-7edb23f7f1cd",
   "metadata": {},
   "source": [
    "### Discussion\n",
    "\n",
    "Have a few volunteers contrast what possible Jacobians *in their research* problem might look like compared to these.  Furthermore, what are the optimizable components and what might be fixed additions?"
   ]
  },
  {
   "cell_type": "code",
   "execution_count": null,
   "id": "577db5a0-4165-4a3d-80b7-2e7f87c1f8a6",
   "metadata": {},
   "outputs": [],
   "source": []
  }
 ],
 "metadata": {
  "language_info": {
   "name": "R"
  }
 },
 "nbformat": 4,
 "nbformat_minor": 5
}
