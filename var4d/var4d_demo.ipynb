{
 "cells": [
  {
   "cell_type": "markdown",
   "metadata": {},
   "source": [
    "A variational inversion minimizes the following cost function\n",
    "\n",
    "$$ J = (\\mathbf{z} - \\mathbf{Hx})^\\text{T} \\mathbf{S_z}^{-1} (\\mathbf{z}-\\mathbf{Hx}) + (\\mathbf{x}-\\mathbf{x}_0)^\\text{T} \\mathbf{S_0}^{-1} (\\mathbf{x}-\\mathbf{x}_0) $$\n",
    "\n",
    "iteratively. A minimizer is called that accepts -- for each $\\mathbf{x}$ -- the cost function and its gradient. The gradient is evaluated by the adjoint model. As explained in `bits_and_pieces.ipynb`, the minimization is done as a function of $\\xi$ instead of $\\mathbf{x}$."
   ]
  },
  {
   "cell_type": "code",
   "execution_count": null,
   "metadata": {},
   "outputs": [],
   "source": [
    "from var4d_components import Var4D_Components\n",
    "from visualize_results import Visualize_Obs, Visualize_Fluxes, Diagnostic_Plots"
   ]
  },
  {
   "cell_type": "markdown",
   "metadata": {},
   "source": [
    "# First example\n",
    "\n",
    "* Only assimilate flask data from NOAA observatories Mauna Loa (MLO), Barrow (BRW), Samoa (SMO) and South Pole (SPO)\n",
    "* Error in flux = 0.25 $\\times$ absolute NEE on land, 0.5 $\\times$ absolute ocean flux on ocean (a similar config is often the default in inversions)\n",
    "* Temporal correlation of 2 months in prior flux error, no spatial (cross-region) correlation\n",
    "* Print out and store intermediate cost functions and gradient norms"
   ]
  },
  {
   "cell_type": "code",
   "execution_count": null,
   "metadata": {},
   "outputs": [],
   "source": [
    "var4d = Var4D_Components('only_noaa_observatories', verbose=True, store_intermediate=True) # change verbose to False to see fancy progress bars and suppress prints\n",
    "flux_corr_structure = {'temp_corr': 2.0} # 2-month temporal correlation, no horizontal correlation\n",
    "obs_assim_dict = {'sites': ['mlo', 'spo', 'brw', 'smo']} # just the four observatories\n",
    "prior_flux_unc_dict = {'prior_unc_source': 'nee', 'prior_unc_scale': {'land': 0.25, 'ocean': 0.5}}\n",
    "var4d.var4d_setup(obs_to_assim=obs_assim_dict, corr_structure=flux_corr_structure, **prior_flux_unc_dict)"
   ]
  },
  {
   "cell_type": "markdown",
   "metadata": {},
   "source": [
    "The default maximum number of iterations is 500, and convergence is said to be achieved if $\\left\\Vert\\partial J/\\partial\\xi\\right\\Vert_2 \\leq 10^{-4}$. These can be changed with the `max_iter` and `gradnorm` keywords to `var4d_chain`. The default optimization scheme is BFGS, and an alternative can be specified with the `optim_method` keyword. A full list of optimizers and their options can be found [here](https://docs.scipy.org/doc/scipy-1.13.1/reference/generated/scipy.optimize.minimize.html)."
   ]
  },
  {
   "cell_type": "code",
   "execution_count": null,
   "metadata": {},
   "outputs": [],
   "source": [
    "var4d.var4d_chain(gradnorm=1.0E-5)"
   ]
  },
  {
   "cell_type": "markdown",
   "metadata": {},
   "source": [
    "### Visualize the results\n",
    "\n",
    "The intermediate cost functions and gradient norms as a function of iteration.\n",
    "\n",
    "__Question: Why are there more cost function and gradient evaluations than there are iterations?__\n",
    "\n",
    "__Question: What would happen if you had less or more observations to assimilate?__\n",
    "\n",
    "__Question: Try a different minimizer (see full documentation [here](https://docs.scipy.org/doc/scipy-1.13.1/reference/generated/scipy.optimize.minimize.html))__\n",
    "\n",
    "__Question: How loose of a convergence criterion can your model tolerate and still get good results?__"
   ]
  },
  {
   "cell_type": "code",
   "execution_count": null,
   "metadata": {},
   "outputs": [],
   "source": [
    "diag = Diagnostic_Plots('only_noaa_observatories')\n",
    "diag.plot_convergence()"
   ]
  },
  {
   "cell_type": "markdown",
   "metadata": {},
   "source": [
    "#### How well did the inversion fit the atmospheric observations?\n",
    "* We assimilated SPO, MLO, SMO and BRW. Were those fit well?\n",
    "* We __dit not__ assimilate any other sites, so let's see how well some of them were fit, such as KUM (Kumukahi, Hawai'i), AMT (Argyle, Maine), LEF (Park Falls, Wisconsin) and CRZ (Crozet Island, southern Indian Ocean)\n",
    "* __Question: In what seasons were these latter sites fit well/poorly and why?__"
   ]
  },
  {
   "cell_type": "code",
   "execution_count": null,
   "metadata": {},
   "outputs": [],
   "source": [
    "po1 = Visualize_Obs('only_noaa_observatories')\n",
    "po1.plot_site(['spo','mlo','smo', 'brw'])\n",
    "po1.plot_site(['kum','amt','lef','crz'])"
   ]
  },
  {
   "cell_type": "code",
   "execution_count": null,
   "metadata": {},
   "outputs": [],
   "source": [
    "vf1 = Visualize_Fluxes('only_noaa_observatories')\n",
    "vf1.plot_region(['North American Boreal', 'North American Temperate', 'South American Tropical', 'South American Temperate'])"
   ]
  },
  {
   "cell_type": "markdown",
   "metadata": {},
   "source": [
    "## Convergence criterion\n",
    "In the run above, we chose a convergence criterion that said that $\\left\\Vert\\partial J/\\partial\\xi\\right\\Vert_2 \\leq 10^{-5}$. However, judging by the graphs of the cost function, it plateaued long before we reached that stage. So in addition, we could set a condition such as \"stop if the cost function does not change by more than `XX` between successive iterations\" with the `max_func_change` keyword. In general the value of `XX` is something you can set as some fraction of $J(\\mathbf{x}_0)$. Since our $J(\\mathbf{x}_0) \\sim 3\\times 10^4$, we could stop caring about innovations once reductions in $J$ are $\\sim 0.3$, or $10^5$ smaller than $J(\\mathbf{x}_0)$."
   ]
  },
  {
   "cell_type": "code",
   "execution_count": null,
   "metadata": {},
   "outputs": [],
   "source": [
    "var4d = Var4D_Components('only_noaa_observatories_fastconv', verbose=True, store_intermediate=True) # change verbose to False to see fancy progress bars and suppress prints\n",
    "flux_corr_structure = {'temp_corr': 2.0} # 2-month temporal correlation, no horizontal correlation\n",
    "obs_assim_dict = {'sites': ['mlo', 'spo', 'brw', 'smo']} # just the four observatories\n",
    "prior_flux_unc_dict = {'prior_unc_source': 'nee', 'prior_unc_scale': {'land': 0.25, 'ocean': 0.5}}\n",
    "var4d.var4d_setup(obs_to_assim=obs_assim_dict, corr_structure=flux_corr_structure, **prior_flux_unc_dict)\n",
    "var4d.var4d_chain(gradnorm=1.0E-5, max_func_change=0.3)"
   ]
  },
  {
   "cell_type": "code",
   "execution_count": null,
   "metadata": {},
   "outputs": [],
   "source": [
    "diag = Diagnostic_Plots('only_noaa_observatories_fastconv')\n",
    "diag.plot_convergence()"
   ]
  },
  {
   "cell_type": "markdown",
   "metadata": {},
   "source": [
    "#### It did converge faster, but is the solution still good?"
   ]
  },
  {
   "cell_type": "code",
   "execution_count": null,
   "metadata": {},
   "outputs": [],
   "source": [
    "po1 = Visualize_Obs('only_noaa_observatories_fastconv')\n",
    "po1.plot_site(['spo','mlo','smo', 'brw'])\n",
    "po1.plot_site(['kum','amt','lef','crz'])"
   ]
  },
  {
   "cell_type": "code",
   "execution_count": null,
   "metadata": {},
   "outputs": [],
   "source": [
    "vf1 = Visualize_Fluxes('only_noaa_observatories_fastconv')\n",
    "vf1.plot_region(['North American Boreal', 'North American Temperate', 'South American Tropical', 'South American Temperate'])"
   ]
  },
  {
   "cell_type": "markdown",
   "metadata": {},
   "source": [
    "## Change the error setting to key off ecosystem respiration instead of NEE\n",
    "\n",
    "* Error in flux = 0.5 $\\times$ absolute flux for oceans, 0.25 $\\times$ ecosystem respiration for land"
   ]
  },
  {
   "cell_type": "code",
   "execution_count": null,
   "metadata": {},
   "outputs": [],
   "source": [
    "var4d = Var4D_Components('only_noaa_observatories_reco', verbose=False, store_intermediate=True) # change verbose to True to see the progress of the optimizer\n",
    "flux_corr_structure = {'temp_corr': 2.0} # 2-month temporal correlation, no horizontal correlation\n",
    "obs_assim_dict = {'sites': ['mlo', 'spo', 'brw', 'smo']} # just the four observatories\n",
    "prior_flux_unc_dict = {'prior_unc_source': 'reco', 'prior_unc_scale': {'land': 0.25, 'ocean': 0.5}}\n",
    "var4d.var4d_setup(obs_to_assim=obs_assim_dict, corr_structure=flux_corr_structure, **prior_flux_unc_dict)"
   ]
  },
  {
   "cell_type": "code",
   "execution_count": null,
   "metadata": {},
   "outputs": [],
   "source": [
    "var4d.var4d_chain(gradnorm=1.0E-5, max_func_change=0.3)"
   ]
  },
  {
   "cell_type": "code",
   "execution_count": null,
   "metadata": {},
   "outputs": [],
   "source": [
    "diag = Diagnostic_Plots('only_noaa_observatories_reco')\n",
    "diag.plot_convergence()"
   ]
  },
  {
   "cell_type": "markdown",
   "metadata": {},
   "source": [
    "##### Note that this took longer to converge"
   ]
  },
  {
   "cell_type": "code",
   "execution_count": null,
   "metadata": {},
   "outputs": [],
   "source": [
    "po1 = Visualize_Obs('only_noaa_observatories_reco')\n",
    "po1.plot_site(['spo','mlo','smo', 'brw'])\n",
    "po1.plot_site(['kum','amt','lef','crz'])"
   ]
  },
  {
   "cell_type": "markdown",
   "metadata": {},
   "source": [
    "##### But the simulation of non-assimilated obs is better!"
   ]
  },
  {
   "cell_type": "code",
   "execution_count": null,
   "metadata": {},
   "outputs": [],
   "source": [
    "vf1 = Visualize_Fluxes('only_noaa_observatories_reco')\n",
    "vf1.plot_region(['North American Boreal', 'North American Temperate', 'South American Tropical', 'South American Temperate'])"
   ]
  },
  {
   "cell_type": "markdown",
   "metadata": {},
   "source": [
    "##### Recovery of true fluxes over the Tropics is also better (Why?)"
   ]
  },
  {
   "cell_type": "markdown",
   "metadata": {},
   "source": [
    "# Second (example) inversion\n",
    "* Assimilate all in situ observations that were assimilated in the OCO2 MIP\n",
    "* Same error structure as before, NEE error keyed off ecosystem respiration\n",
    "* Temporal correlation of 2 months in prior flux error, no spatial (cross-region) correlation\n",
    "* Print out and store intermediate cost functions and gradient norms\n",
    "\n",
    "Now we don't want to use the same termination condition as before, since a change of $J$ by $0.3$ may be more or less strict than necessary because $J(\\mathbf{x}_0)$ will be different from the previous example. Instead, we can say \"stop when $J$ is reduced by a factor of $10^5$\". Stacking termination conditions together means that the optimizer will converge when any one of them is met."
   ]
  },
  {
   "cell_type": "code",
   "execution_count": null,
   "metadata": {},
   "outputs": [],
   "source": [
    "obs_to_assim = {'is': True}\n",
    "flux_corr_structure = {'temp_corr': 2.0} # 2-month temporal correlation, no horizontal correlation\n",
    "prior_flux_unc_dict = {'prior_unc_source': 'reco', 'prior_unc_scale': {'land': 0.25, 'ocean': 0.5}}\n",
    "var4d = Var4D_Components('all_insitu', verbose=True, store_intermediate=True)\n",
    "var4d.var4d_setup(obs_to_assim=obs_to_assim, corr_structure=flux_corr_structure, **prior_flux_unc_dict)\n",
    "var4d.var4d_chain(max_iter=500, optim_method='BFGS', rel_func_change=1.0E-5, gradnorm=1.0E-5, max_func_change=0.1)"
   ]
  },
  {
   "cell_type": "code",
   "execution_count": null,
   "metadata": {},
   "outputs": [],
   "source": [
    "diag = Diagnostic_Plots('all_insitu')\n",
    "diag.plot_convergence()"
   ]
  },
  {
   "cell_type": "code",
   "execution_count": null,
   "metadata": {},
   "outputs": [],
   "source": [
    "po2 = Visualize_Obs('all_insitu')\n",
    "po2.plot_site(['spo','mlo','smo', 'brw'])\n",
    "po2.plot_site(['kum','amt','lef','crz'])"
   ]
  },
  {
   "cell_type": "markdown",
   "metadata": {},
   "source": [
    "Now **all** sites are fit well, as expected. The fluxes are also much closer to the truth."
   ]
  },
  {
   "cell_type": "code",
   "execution_count": null,
   "metadata": {},
   "outputs": [],
   "source": [
    "vf2 = Visualize_Fluxes('all_insitu')\n",
    "vf2.plot_region(['North American Boreal', 'North American Temperate', 'South American Tropical', 'South American Temperate'])"
   ]
  }
 ],
 "metadata": {
  "language_info": {
   "name": "python"
  }
 },
 "nbformat": 4,
 "nbformat_minor": 4
}
