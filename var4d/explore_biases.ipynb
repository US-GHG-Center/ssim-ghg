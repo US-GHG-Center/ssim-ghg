{
 "cells": [
  {
   "cell_type": "code",
   "execution_count": null,
   "id": "2f0a42ca-209d-4584-968e-bf956479cf59",
   "metadata": {},
   "outputs": [],
   "source": [
    "from var4d_components import Var4D_Components\n",
    "from visualize_results import Visualize_Obs, Visualize_Fluxes"
   ]
  },
  {
   "cell_type": "markdown",
   "id": "662c59bb-54d2-4123-8304-47b392fa3c2b",
   "metadata": {},
   "source": [
    "# An inversion with all OCO2 observations and no biases"
   ]
  },
  {
   "cell_type": "code",
   "execution_count": null,
   "id": "581544d6-26fe-4273-9bc5-91d3693bae57",
   "metadata": {},
   "outputs": [],
   "source": [
    "flux_corr_structure = {'temp_corr': 2.0} # 2-month temporal correlation, no horizontal correlation\n",
    "prior_flux_unc_dict = {'prior_unc_source': 'reco', 'prior_unc_scale': {'land': 0.25, 'ocean': 0.5}}\n",
    "obs_assim_dict = {'oco2': True}\n",
    "var4d = Var4D_Components('all_oco2', verbose=False, store_intermediate=False)\n",
    "var4d.var4d_setup(obs_to_assim=obs_assim_dict, corr_structure=flux_corr_structure, **prior_flux_unc_dict)\n",
    "var4d.var4d_chain(gradnorm=1.0E-5)"
   ]
  },
  {
   "cell_type": "markdown",
   "id": "e0fad9a4-c032-404b-a587-80aeba23ef7b",
   "metadata": {},
   "source": [
    "# Same inversion but with a 0.5 ppm bias over North Africa"
   ]
  },
  {
   "cell_type": "code",
   "execution_count": null,
   "id": "509842d4-839c-4b70-ad22-708ccb3068b7",
   "metadata": {},
   "outputs": [],
   "source": [
    "flux_corr_structure = {'temp_corr': 2.0} # 2-month temporal correlation, no horizontal correlation\n",
    "prior_flux_unc_dict = {'prior_unc_source': 'reco', 'prior_unc_scale': {'land': 0.25, 'ocean': 0.5}}\n",
    "obs_assim_dict = {'oco2': True}\n",
    "var4d = Var4D_Components('all_oco2_nafrica_bias', verbose=False, store_intermediate=False)\n",
    "var4d.var4d_setup(obs_to_assim=obs_assim_dict, corr_structure=flux_corr_structure, **prior_flux_unc_dict) # prior flux error = 0.25 * abs(prior flux)\n",
    "var4d.add_obs_bias(0.5, platform='oco2', lat_min=0., lat_max=32., lon_min=-15., lon_max=50.)\n",
    "var4d.var4d_chain(gradnorm=1.0E-5)"
   ]
  },
  {
   "cell_type": "markdown",
   "id": "d85b3514-08a0-4063-abaf-655e5eb0b51d",
   "metadata": {},
   "source": [
    "## Summarize the annual fluxes\n",
    "### Without bias"
   ]
  },
  {
   "cell_type": "code",
   "execution_count": null,
   "id": "41051e8d-f8b9-4555-afe5-572e5ee41a6e",
   "metadata": {},
   "outputs": [],
   "source": [
    "vf_nobias = Visualize_Fluxes('all_oco2')\n",
    "vf_nobias.print_annual_totals()\n",
    "vf_nobias.plot_region(['Globe', 'Tropical Africa', 'Africa', 'Europe'])"
   ]
  },
  {
   "cell_type": "markdown",
   "id": "dce609dc-2293-4fb4-acad-f7dfb7d7b3e0",
   "metadata": {},
   "source": [
    "### With bias"
   ]
  },
  {
   "cell_type": "code",
   "execution_count": null,
   "id": "37028f8b-c7e4-4a7b-923d-5cb92a0bc35a",
   "metadata": {},
   "outputs": [],
   "source": [
    "vf_bias = Visualize_Fluxes('all_oco2_nafrica_bias')\n",
    "vf_bias.print_annual_totals()\n",
    "vf_bias.plot_region(['Globe', 'Tropical Africa', 'Africa', 'Europe'])"
   ]
  },
  {
   "cell_type": "markdown",
   "id": "3185a615-cfc1-4420-b7cb-0380f6c7cf53",
   "metadata": {},
   "source": [
    "# An inversion with all in situ observations and no biases"
   ]
  },
  {
   "cell_type": "code",
   "execution_count": null,
   "id": "fba15185-fa68-42f3-b5dc-38f0b089908c",
   "metadata": {},
   "outputs": [],
   "source": [
    "flux_corr_structure = {'temp_corr': 2.0} # 2-month temporal correlation, no horizontal correlation\n",
    "prior_flux_unc_dict = {'prior_unc_source': 'reco', 'prior_unc_scale': {'land': 0.25, 'ocean': 0.5}}\n",
    "obs_assim_dict = {'is': True}\n",
    "var4d = Var4D_Components('all_is', verbose=False, store_intermediate=False)\n",
    "var4d.var4d_setup(obs_to_assim=obs_assim_dict, corr_structure=flux_corr_structure, **prior_flux_unc_dict)\n",
    "var4d.var4d_chain(gradnorm=1.0E-5)"
   ]
  },
  {
   "cell_type": "markdown",
   "id": "d7db629b-4f67-4a10-a328-0bdde7aa2c6c",
   "metadata": {},
   "source": [
    "# Same inversion but with a -0.5 ppm bias for all Tropical samples"
   ]
  },
  {
   "cell_type": "code",
   "execution_count": null,
   "id": "587ebe24-31d7-4566-86ea-1a4fdbaf3996",
   "metadata": {},
   "outputs": [],
   "source": [
    "flux_corr_structure = {'temp_corr': 2.0} # 2-month temporal correlation, no horizontal correlation\n",
    "prior_flux_unc_dict = {'prior_unc_source': 'reco', 'prior_unc_scale': {'land': 0.25, 'ocean': 0.5}}\n",
    "obs_assim_dict = {'oco2': True}\n",
    "var4d = Var4D_Components('all_is_trop_bias', verbose=False, store_intermediate=False)\n",
    "var4d.var4d_setup(obs_to_assim=obs_assim_dict, corr_structure=flux_corr_structure, **prior_flux_unc_dict) # prior flux error = 0.25 * abs(prior flux)\n",
    "var4d.add_obs_bias(-0.5, platform='is', lat_min=-25., lat_max=25.)\n",
    "var4d.var4d_chain(gradnorm=1.0E-5)"
   ]
  },
  {
   "cell_type": "markdown",
   "id": "47721706-1582-41f0-8230-3b8c84f35119",
   "metadata": {},
   "source": [
    "## Summarize the annual fluxes\n",
    "### Without bias"
   ]
  },
  {
   "cell_type": "code",
   "execution_count": null,
   "id": "7edd37d6-c038-4d99-983d-5d14ba63ff6e",
   "metadata": {},
   "outputs": [],
   "source": [
    "vf_nobias = Visualize_Fluxes('all_is')\n",
    "vf_nobias.print_annual_totals()"
   ]
  },
  {
   "cell_type": "code",
   "execution_count": null,
   "id": "96d826d7-74f2-4d89-9c58-5587f2796fed",
   "metadata": {},
   "outputs": [],
   "source": [
    "vf_bias = Visualize_Fluxes('all_is_samtrop_bias')\n",
    "vf_bias.print_annual_totals()"
   ]
  },
  {
   "cell_type": "code",
   "execution_count": null,
   "id": "11d02941-c8ad-496e-bbdd-9866a14317df",
   "metadata": {},
   "outputs": [],
   "source": []
  }
 ],
 "metadata": {
  "language_info": {
   "name": "python"
  }
 },
 "nbformat": 4,
 "nbformat_minor": 5
}
