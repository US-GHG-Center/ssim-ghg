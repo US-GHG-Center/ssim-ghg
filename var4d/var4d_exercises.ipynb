{
 "cells": [
  {
   "cell_type": "code",
   "execution_count": null,
   "id": "a86484eb-69dd-4eca-a92a-6b3e386ece31",
   "metadata": {},
   "outputs": [],
   "source": [
    "from var4d_components import Var4D_Components\n",
    "from visualize_results import Visualize_Obs, Visualize_Fluxes, Diagnostic_Plots"
   ]
  },
  {
   "cell_type": "markdown",
   "id": "e7b335d1-b57d-4eef-8530-717b0ebb5504",
   "metadata": {},
   "source": [
    "# Balancing data and prior uncertainty\n",
    "Surface flux inversions are Bayesian estimates that trade off between our knowledge of fluxes prior to making atmospheric observations and our knowledge of the atmospheric state as reflected in observations. The former is represented by $\\mathbf{S_x}^{-1}$ (smaller the uncertainty, \"better\" the knowledge) and the latter is represented by $\\mathbf{S_z}^{-1}$. In this exercise, we will vary the balance between the two and see what the solution looks like.\n",
    "## Set up an inversion to assimilate only NOAA surface observatories circa 1960\n",
    "The surface sites of Mauna Loa (MLO) and South Pole (SPO) represent the longest atmospheric record from NOAA. As a base case, let's just assimilate those."
   ]
  },
  {
   "cell_type": "code",
   "execution_count": null,
   "id": "a5301770-a81e-483d-8b2e-3f8d28f82926",
   "metadata": {},
   "outputs": [],
   "source": [
    "var4d = Var4D_Components('explore_unc_balance', verbose=False, store_intermediate=True) # change verbose to False to see fancy progress bars and suppress prints\n",
    "flux_corr_structure = {'temp_corr': 2.0} # 2-month temporal correlation, no horizontal correlation\n",
    "obs_assim_dict = {'sites': ['mlo', 'spo']} # just two observatories"
   ]
  },
  {
   "cell_type": "markdown",
   "id": "df5238c0-155c-4fa5-ae19-254af8276163",
   "metadata": {},
   "source": [
    "First, do the base case of NEE uncertainty = 0.25 $\\times$ abs(NEE) and ocean flux uncertainty = 0.5 $\\times$ abs(ocean flux)"
   ]
  },
  {
   "cell_type": "code",
   "execution_count": null,
   "id": "84cc8cf6-e585-4fbe-899e-a59452848e96",
   "metadata": {},
   "outputs": [],
   "source": [
    "prior_flux_unc_dict = {'prior_unc_source': 'nee', 'prior_unc_scale': {'land': 0.25, 'ocean': 0.5}}\n",
    "var4d.var4d_setup(obs_to_assim=obs_assim_dict, corr_structure=flux_corr_structure, **prior_flux_unc_dict)"
   ]
  },
  {
   "cell_type": "code",
   "execution_count": null,
   "id": "d8863d33-307c-463c-ba64-3c7a890180a8",
   "metadata": {},
   "outputs": [],
   "source": [
    "var4d.var4d_chain(gradnorm=1.0E-5)"
   ]
  },
  {
   "cell_type": "code",
   "execution_count": null,
   "id": "d4a2a8a4-e08c-4ddf-82a1-c11d4a4c80c7",
   "metadata": {},
   "outputs": [],
   "source": [
    "po1 = Visualize_Obs('explore_unc_balance')\n",
    "po1.plot_site(['spo','mlo','smo', 'brw'])"
   ]
  },
  {
   "cell_type": "markdown",
   "id": "b6d1ba8c-b19a-4cb8-9182-886696add8af",
   "metadata": {},
   "source": [
    "Now let's tighten the prior flux uncertainty by a factor of 10. *What do you expect?*"
   ]
  },
  {
   "cell_type": "code",
   "execution_count": null,
   "id": "f403d1ce-0bbb-49b5-9781-f82f12a03ec9",
   "metadata": {},
   "outputs": [],
   "source": [
    "prior_flux_unc_dict = {'prior_unc_source': 'nee', 'prior_unc_scale': {'land': 0.025, 'ocean': 0.05}}\n",
    "var4d.var4d_setup(obs_to_assim=obs_assim_dict, corr_structure=flux_corr_structure, **prior_flux_unc_dict)"
   ]
  },
  {
   "cell_type": "code",
   "execution_count": null,
   "id": "842b225f-615a-4697-993c-92a319042198",
   "metadata": {},
   "outputs": [],
   "source": [
    "var4d.var4d_chain(gradnorm=1.0E-5)"
   ]
  },
  {
   "cell_type": "code",
   "execution_count": null,
   "id": "04486d01-174f-4040-8a77-dbc0aadd46f0",
   "metadata": {},
   "outputs": [],
   "source": [
    "po1 = Visualize_Obs('explore_unc_balance')\n",
    "po1.plot_site(['spo','mlo','smo', 'brw'])"
   ]
  },
  {
   "cell_type": "markdown",
   "id": "cd385fa8-0a7d-4924-afe9-d11d4aa2be35",
   "metadata": {},
   "source": [
    "# What does the adjoint forcing look like?"
   ]
  },
  {
   "cell_type": "markdown",
   "id": "f85dc2d4-6d4e-46e5-815a-e63d95cabcb5",
   "metadata": {},
   "source": [
    "# Different ways of constructing $\\mathbf{S_x}$"
   ]
  }
 ],
 "metadata": {
  "language_info": {
   "name": "python"
  }
 },
 "nbformat": 4,
 "nbformat_minor": 5
}
