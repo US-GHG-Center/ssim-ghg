{
 "cells": [
  {
   "cell_type": "code",
   "execution_count": null,
   "id": "a86484eb-69dd-4eca-a92a-6b3e386ece31",
   "metadata": {},
   "outputs": [],
   "source": [
    "from var4d_components import Var4D_Components\n",
    "from visualize_results import Visualize_Obs, Visualize_Fluxes, Diagnostic_Plots"
   ]
  },
  {
   "cell_type": "markdown",
   "id": "e7b335d1-b57d-4eef-8530-717b0ebb5504",
   "metadata": {},
   "source": [
    "# Balancing data and prior uncertainty"
   ]
  },
  {
   "cell_type": "markdown",
   "id": "cd385fa8-0a7d-4924-afe9-d11d4aa2be35",
   "metadata": {},
   "source": [
    "# What does the adjoint forcing look like?"
   ]
  },
  {
   "cell_type": "markdown",
   "id": "f85dc2d4-6d4e-46e5-815a-e63d95cabcb5",
   "metadata": {},
   "source": [
    "# Different ways of constructing $\\mathbf{S_x}$"
   ]
  }
 ],
 "metadata": {
  "language_info": {
   "name": "python"
  }
 },
 "nbformat": 4,
 "nbformat_minor": 5
}
