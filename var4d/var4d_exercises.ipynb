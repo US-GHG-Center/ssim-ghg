{
 "cells": [
  {
   "cell_type": "code",
   "execution_count": null,
   "id": "a86484eb-69dd-4eca-a92a-6b3e386ece31",
   "metadata": {},
   "outputs": [],
   "source": [
    "from var4d_components import Var4D_Components\n",
    "from visualize_results import Visualize_Obs, Visualize_Fluxes, Diagnostic_Plots"
   ]
  },
  {
   "cell_type": "markdown",
   "id": "e7b335d1-b57d-4eef-8530-717b0ebb5504",
   "metadata": {},
   "source": [
    "# Balancing data and prior uncertainty\n",
    "Surface flux inversions are Bayesian estimates that trade off between our knowledge of fluxes prior to making atmospheric observations and our knowledge of the atmospheric state as reflected in observations. The former is represented by $\\mathbf{S_0}^{-1}$ (smaller the uncertainty, \"better\" the knowledge) and the latter is represented by $\\mathbf{S_z}^{-1}$. In this exercise, we will vary the balance between the two and see what the solution looks like.\n",
    "## Set up an inversion to assimilate only NOAA surface observatories\n",
    "Let's assimilate just the four NOAA observatories at Barrow, Mauna Loa, Samoa, and South Pole."
   ]
  },
  {
   "cell_type": "code",
   "execution_count": null,
   "id": "a5301770-a81e-483d-8b2e-3f8d28f82926",
   "metadata": {},
   "outputs": [],
   "source": [
    "var4d = Var4D_Components('only_noaa_observatories', verbose=False, store_intermediate=True) # change verbose to False to see fancy progress bars and suppress prints\n",
    "flux_corr_structure = {'temp_corr': 2.0} # 2-month temporal correlation, no horizontal correlation\n",
    "obs_assim_dict = {'sites': ['mlo', 'spo', 'brw', 'smo']} # just four observatories"
   ]
  },
  {
   "cell_type": "markdown",
   "id": "df5238c0-155c-4fa5-ae19-254af8276163",
   "metadata": {},
   "source": [
    "First, do the base case of NEE uncertainty = 0.25 $\\times$ abs(NEE) and ocean flux uncertainty = 0.5 $\\times$ abs(ocean flux)"
   ]
  },
  {
   "cell_type": "code",
   "execution_count": null,
   "id": "84cc8cf6-e585-4fbe-899e-a59452848e96",
   "metadata": {},
   "outputs": [],
   "source": [
    "prior_flux_unc_dict = {'prior_unc_source': 'nee', 'prior_unc_scale': {'land': 0.25, 'ocean': 0.5}}\n",
    "var4d.var4d_setup(obs_to_assim=obs_assim_dict, corr_structure=flux_corr_structure, **prior_flux_unc_dict)\n",
    "var4d.var4d_chain(gradnorm=1.0E-5)"
   ]
  },
  {
   "cell_type": "markdown",
   "id": "b8616f2e-3887-4e8f-a258-1bf5977f53da",
   "metadata": {},
   "source": [
    "How well did we fit the obs, assimilated and un-assimilated?"
   ]
  },
  {
   "cell_type": "code",
   "execution_count": null,
   "id": "d4a2a8a4-e08c-4ddf-82a1-c11d4a4c80c7",
   "metadata": {},
   "outputs": [],
   "source": [
    "po1 = Visualize_Obs('only_noaa_observatories')\n",
    "po1.plot_site(['spo','mlo','smo', 'brw'])"
   ]
  },
  {
   "cell_type": "markdown",
   "id": "a64ea154-1dad-4f57-8926-09b5bef8e564",
   "metadata": {},
   "source": [
    "How well did we reproduce the __true__ fluxes, which is the end goal?"
   ]
  },
  {
   "cell_type": "code",
   "execution_count": null,
   "id": "2d17feb8-c718-4b35-b897-8015d8efd406",
   "metadata": {},
   "outputs": [],
   "source": [
    "vf1 = Visualize_Fluxes('only_noaa_observatories')\n",
    "vf1.plot_region(['Globe', 'North American Boreal', 'North American Temperate', 'South American Tropical'])"
   ]
  },
  {
   "cell_type": "markdown",
   "id": "b6d1ba8c-b19a-4cb8-9182-886696add8af",
   "metadata": {},
   "source": [
    "Now let's __tighten__ the prior flux uncertainty by a factor of __100__. **What do you expect?**"
   ]
  },
  {
   "cell_type": "code",
   "execution_count": null,
   "id": "f403d1ce-0bbb-49b5-9781-f82f12a03ec9",
   "metadata": {},
   "outputs": [],
   "source": [
    "var4d = Var4D_Components('explore_unc_balance', verbose=False, store_intermediate=True) # change verbose to False to see fancy progress bars and suppress prints\n",
    "flux_corr_structure = {'temp_corr': 2.0} # 2-month temporal correlation, no horizontal correlation\n",
    "prior_flux_unc_dict = {'prior_unc_source': 'nee', 'prior_unc_scale': {'land': 0.0025, 'ocean': 0.005}}\n",
    "var4d.var4d_setup(obs_to_assim=obs_assim_dict, corr_structure=flux_corr_structure, **prior_flux_unc_dict)\n",
    "var4d.var4d_chain(gradnorm=1.0E-5)"
   ]
  },
  {
   "cell_type": "code",
   "execution_count": null,
   "id": "04486d01-174f-4040-8a77-dbc0aadd46f0",
   "metadata": {},
   "outputs": [],
   "source": [
    "po2 = Visualize_Obs('explore_unc_balance')\n",
    "po2.plot_site(['spo','mlo','smo', 'brw'])"
   ]
  },
  {
   "cell_type": "code",
   "execution_count": null,
   "id": "74f44a10-2dcb-4d67-bbb4-f5b7e9b46a13",
   "metadata": {},
   "outputs": [],
   "source": [
    "vf2 = Visualize_Fluxes('explore_unc_balance')\n",
    "vf2.plot_region(['Globe', 'North American Boreal', 'North American Temperate', 'South American Tropical'])"
   ]
  },
  {
   "cell_type": "markdown",
   "id": "c809ac69-83ea-4795-a24d-4d9791033e28",
   "metadata": {},
   "source": [
    "What if we __loosen__ prior flux uncertainty by a factor of __100__?"
   ]
  },
  {
   "cell_type": "code",
   "execution_count": null,
   "id": "8574b79f-544f-4c6c-8e58-9334d904c8df",
   "metadata": {},
   "outputs": [],
   "source": [
    "prior_flux_unc_dict = {'prior_unc_source': 'nee', 'prior_unc_scale': {'land': 25.0, 'ocean': 50.0}}\n",
    "var4d.var4d_setup(obs_to_assim=obs_assim_dict, corr_structure=flux_corr_structure, **prior_flux_unc_dict)\n",
    "var4d.var4d_chain(gradnorm=1.0E-5)"
   ]
  },
  {
   "cell_type": "code",
   "execution_count": null,
   "id": "a8864f86-6372-4ac5-93b7-328c82811ffb",
   "metadata": {},
   "outputs": [],
   "source": [
    "po3 = Visualize_Obs('explore_unc_balance')\n",
    "po3.plot_site(['spo','mlo','smo', 'brw'])"
   ]
  },
  {
   "cell_type": "code",
   "execution_count": null,
   "id": "eff7fbe5-8a6f-4520-83db-3c09180c6dd1",
   "metadata": {},
   "outputs": [],
   "source": [
    "vf3 = Visualize_Fluxes('explore_unc_balance')\n",
    "vf3.plot_region(['Globe', 'North American Boreal', 'North American Temperate', 'South American Tropical'])"
   ]
  },
  {
   "cell_type": "markdown",
   "id": "1ae9dfb6-fe10-49ec-8dd0-82073a8bb158",
   "metadata": {},
   "source": [
    "What if construct a pathological $\\mathbf{S}_0$ which is extremely tight over land but very loose over the ocean?"
   ]
  },
  {
   "cell_type": "code",
   "execution_count": null,
   "id": "d79febd6-2f3e-4090-98a8-401b1852226e",
   "metadata": {},
   "outputs": [],
   "source": [
    "var4d = Var4D_Components('explore_unc_balance', verbose=False, store_intermediate=True) # change verbose to False to see fancy progress bars and suppress prints\n",
    "flux_corr_structure = {'temp_corr': 2.0} # 2-month temporal correlation, no horizontal correlation\n",
    "prior_flux_unc_dict = {'prior_unc_source': 'nee', 'prior_unc_scale': {'land': 0.001, 'ocean': 50.0}}\n",
    "var4d.var4d_setup(obs_to_assim=obs_assim_dict, corr_structure=flux_corr_structure, **prior_flux_unc_dict)\n",
    "var4d.var4d_chain(gradnorm=1.0E-5)"
   ]
  },
  {
   "cell_type": "code",
   "execution_count": null,
   "id": "b9d5ef4c-136d-4d51-be36-517c3da1465d",
   "metadata": {},
   "outputs": [],
   "source": [
    "po4 = Visualize_Obs('explore_unc_balance')\n",
    "po4.plot_site(['spo','mlo','smo', 'brw'])"
   ]
  },
  {
   "cell_type": "code",
   "execution_count": null,
   "id": "359e7f61-b98c-4b81-a091-e58d8a6a2b4e",
   "metadata": {},
   "outputs": [],
   "source": [
    "vf4 = Visualize_Fluxes('explore_unc_balance')\n",
    "vf4.plot_region(['Globe', 'Pacific Ocean', 'North American Temperate', 'South American Tropical'])"
   ]
  },
  {
   "cell_type": "markdown",
   "id": "f85dc2d4-6d4e-46e5-815a-e63d95cabcb5",
   "metadata": {},
   "source": [
    "# Different ways of constructing $\\mathbf{S_x}$\n",
    "We have been setting the NEE error to be a factor $\\times$ NEE. As discussed in the class, that's not always the best choice, especially in shoulder seasons or over regions where a small net flux is the result of large gross fluxes (such as the Tropics). Let's look at the base case, NEE uncertainty = 0.25 $\\times$ NEE, and a \"problem\" region."
   ]
  },
  {
   "cell_type": "code",
   "execution_count": null,
   "id": "9bfd148f-e107-4c82-82ab-2076893a5247",
   "metadata": {},
   "outputs": [],
   "source": [
    "vf1 = Visualize_Fluxes('only_noaa_observatories')\n",
    "vf1.plot_region(['North American Boreal', 'South American Tropical', 'Tropical Asia', 'Tropical Africa'])"
   ]
  },
  {
   "cell_type": "markdown",
   "id": "8d724fdd-e6a5-42f6-9beb-7d90927bd28d",
   "metadata": {},
   "source": [
    "We did pretty good in the boreal region, but not so good in the Tropics. Let's try setting the uncertainty with ecosystem respiration."
   ]
  },
  {
   "cell_type": "code",
   "execution_count": null,
   "id": "5796bab3-7c8a-43c1-a857-0a2568d7a779",
   "metadata": {},
   "outputs": [],
   "source": [
    "var4d = Var4D_Components('explore_nee_unc_source', verbose=False, store_intermediate=True) # change verbose to True to see the progress of the optimizer\n",
    "flux_corr_structure = {'temp_corr': 2.0} # 2-month temporal correlation, no horizontal correlation\n",
    "obs_assim_dict = {'sites': ['mlo', 'spo', 'brw', 'smo']} # just the four observatories\n",
    "prior_flux_unc_dict = {'prior_unc_source': 'reco', 'prior_unc_scale': {'land': 0.25, 'ocean': 0.5}}\n",
    "var4d.var4d_setup(obs_to_assim=obs_assim_dict, corr_structure=flux_corr_structure, **prior_flux_unc_dict)\n",
    "var4d.var4d_chain(gradnorm=1.0E-5)"
   ]
  },
  {
   "cell_type": "code",
   "execution_count": null,
   "id": "35351917-8f91-402a-aea5-4ebea99befa4",
   "metadata": {},
   "outputs": [],
   "source": [
    "vf2 = Visualize_Fluxes('explore_nee_unc_source')\n",
    "vf2.plot_region(['North American Boreal', 'South American Tropical', 'Tropical Asia', 'Tropical Africa'])"
   ]
  },
  {
   "cell_type": "markdown",
   "id": "fefe05a2-131b-4e96-a2de-0afee4095a33",
   "metadata": {},
   "source": [
    "We did **much** better over the Tropical regions! Can we see this \"improvement\" in obs space? Let's plot the fits w.r.t. sites we *did not assimilate*."
   ]
  },
  {
   "cell_type": "code",
   "execution_count": null,
   "id": "1fd468d5-9682-4747-94d8-117aef4754d9",
   "metadata": {},
   "outputs": [],
   "source": [
    "po1 = Visualize_Obs('only_noaa_observatories')\n",
    "po1.plot_site(['kum','amt','lef', 'crz'])"
   ]
  },
  {
   "cell_type": "code",
   "execution_count": null,
   "id": "fe3e2535-5941-41dd-9113-1bd0ba9a707b",
   "metadata": {},
   "outputs": [],
   "source": [
    "po2 = Visualize_Obs('explore_nee_unc_source')\n",
    "po2.plot_site(['kum','amt','lef', 'crz'])"
   ]
  },
  {
   "cell_type": "markdown",
   "id": "9082485b-f601-4954-a8d3-38792783833b",
   "metadata": {},
   "source": [
    "Our fits to stuff we did not assimilate improved! So this is probably a **better** inversion."
   ]
  }
 ],
 "metadata": {
  "language_info": {
   "name": "python"
  }
 },
 "nbformat": 4,
 "nbformat_minor": 5
}
