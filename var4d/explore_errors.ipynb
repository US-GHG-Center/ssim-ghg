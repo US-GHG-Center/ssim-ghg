{
 "cells": [
  {
   "cell_type": "code",
   "execution_count": null,
   "id": "c210afbf-83ec-419a-a2dd-f311b6ff72a5",
   "metadata": {},
   "outputs": [],
   "source": [
    "from var4d_components import Var4D_Components\n",
    "from visualize_results import Monte_Carlo_avg"
   ]
  },
  {
   "cell_type": "markdown",
   "id": "0434d2c4-e2f2-41fe-8763-df174ee2aa68",
   "metadata": {},
   "source": [
    "# Estimate errors in fluxes from an ensemble of inversions\n",
    "\n",
    "A variational inversion, unlike a Batch inversion, does not automatically provide the posterior covariance matrix $\\mathbf{\\hat{S}_x}$. There are a few ways to calculate an approximation to that, two being most common.\n",
    "\n",
    "### Use a Monte Carlo ensemble (brute force)\n",
    "\n",
    "By definition, $\\mathbf{\\hat{S}_x}$ reflects the probability distribution of the posterior flux if the probability distribution of the prior and the observations are specified by $\\mathbf{S_x}$ and $\\mathbf{S_z}$ respectively. Therefore, if we do a number of inversions with different priors whose distribution is consistent with $\\mathbf{S_x}$, and different observations whose distribution is consistent with $\\mathbf{S_z}$, then the distribution of the posterior fluxes __should__ give us $\\mathbf{\\hat{S}_x}$. \n",
    "\n",
    "Creating random prior fluxes and observations for this is non-trivial because of off-diagonal elements in $\\mathbf{S_x}$ and $\\mathbf{S_z}$ which represent the joint probability distribution between fluxes or observations at different times and locations. This is where preconditioning comes in handy, because the transformation\n",
    "\n",
    "$$\n",
    "\\mathbf{x} = \\mathbf{L}\\xi + \\mathbf{x}_0, \\quad \\text{where}\\,\\, \\mathbf{S_x} = \\mathbf{L}\\mathbf{L}^\\text{T}\n",
    "$$\n",
    "\n",
    "ensures that if the elements of $\\xi$ are independently and normally distributed (mean zero, standard deviation one), then $\\mathbf{x}$ will have the covariance $\\mathbf{S_x}$. We could similarly produce an ensemble of correlated random observations through \"preconditioning\" them according to $\\mathbf{S_z}$ if required.\n",
    "\n",
    "### Use the approximation of the inverse Hessian from the optimizer\n",
    "\n",
    "Some optimizers (including BFGS, which we will be primarily using) produce an approximation of the inverse Hessian, where the Hessian is $\\cal{H} = (\\partial^2 J/\\partial\\xi^2)$. This is typical of conjugate gradient optimizers, which try to construct the leading eigenvalues and eigenvectors of the Hessian matrix. The posterior covariance we need is $\\mathbf{\\hat{S}_x} = (\\partial^2 J/\\partial\\mathbf{x}^2)^{-1}$. __Use the transformation between $\\mathbf{x}$ and $\\xi$ above to show that $\\mathbf{\\hat{S}_x} = \\mathbf{L}^\\text{T} \\cal{H}^{-1} \\mathbf{L}$__. If the optimizer gives us an approximation of $\\cal{H}^{-1}$, we can transform that into $\\mathbf{\\hat{S}_x}$.\n",
    "\n",
    "### Construct uncertainties on aggregates from the full covariance matrix\n",
    "\n",
    "<span style=\"color:red\"> Add text here on how to calculate errors on space/time aggregates. </span>\n",
    "\n",
    "## Example 1: Assimilate all in situ observations\n",
    "### Step 1: Ensemble of inversions with perturbed priors and observations\n",
    "\n",
    "Do __not__ execute this cell unless you have time to wait. We have already performed this ensemble of inversions. To use that output, copy over `~/shared/ssim-ghg-data/precomputed_output/inversion_examples/var4d/mip_is_mc_reco` to your output folder `~/inversion_output/` with\n",
    "```\n",
    "rsync -av ~/shared/ssim-ghg-data/precomputed_output/inversion_examples/var4d/mip_is_mc_reco ~/inversion_output/\n",
    "```"
   ]
  },
  {
   "cell_type": "code",
   "execution_count": null,
   "id": "48fdf534-d6db-49c0-b2f8-ddccb626c10f",
   "metadata": {},
   "outputs": [],
   "source": [
    "prior_flux_unc_dict = {'prior_unc_source': 'reco', 'prior_unc_scale': {'land': 0.25, 'ocean': 0.5}}\n",
    "flux_corr_structure = {'temp_corr': 2.0} # 2-month temporal correlation, no horizontal correlation\n",
    "obs_assim_dict = {'is': True} # all in situ obs from the MIP\n",
    "for i in range(1,101):\n",
    "    inv_name = 'mip_is_mc_reco/%03i'%i\n",
    "    var4d = Var4D_Components(inv_name, verbose=True, store_intermediate=False)\n",
    "    var4d.var4d_setup(obs_to_assim=obs_assim_dict, corr_structure=flux_corr_structure, perturb_obs=True, perturb_flux=True, **prior_flux_unc_dict)\n",
    "    var4d.var4d_chain(max_iter=500, optim_method='BFGS')"
   ]
  },
  {
   "cell_type": "markdown",
   "id": "8e553e5c-283f-4e9e-b2fb-43a199e80cf3",
   "metadata": {
    "scrolled": true
   },
   "source": [
    "### Step 2: A single inversion with unperturbed prior and observations"
   ]
  },
  {
   "cell_type": "code",
   "execution_count": null,
   "id": "2afc5b24-42df-4354-bee2-b13646d01a43",
   "metadata": {},
   "outputs": [],
   "source": [
    "flux_corr_structure = {'temp_corr': 2.0} # 2-month temporal correlation, no horizontal correlation\n",
    "obs_assim_dict = {'is': True} # all in situ obs from the MIP\n",
    "prior_flux_unc_dict = {'prior_unc_source': 'reco', 'prior_unc_scale': {'land': 0.25, 'ocean': 0.5}}\n",
    "var4d = Var4D_Components('mip_is_reco', verbose=False, store_intermediate=True)\n",
    "var4d.var4d_setup(obs_to_assim=obs_assim_dict, corr_structure=flux_corr_structure, **prior_flux_unc_dict)\n",
    "var4d.var4d_chain(max_iter=500, optim_method='BFGS')"
   ]
  },
  {
   "cell_type": "markdown",
   "id": "af22332b-4e76-4f4e-902f-b2c3ee685f64",
   "metadata": {},
   "source": [
    "### Step 3: Summarize the ensemble runs"
   ]
  },
  {
   "cell_type": "code",
   "execution_count": null,
   "id": "0a91ca9b-f4d5-44ed-9f54-24779d957fe1",
   "metadata": {},
   "outputs": [],
   "source": [
    "from visualize_results import Monte_Carlo_avg\n",
    "mc = Monte_Carlo_avg('mip_is_mc_reco')\n",
    "mc.summarize_observations()\n",
    "mc.summarize_emissions()"
   ]
  },
  {
   "cell_type": "markdown",
   "id": "5d50c147-24a3-4738-aeda-2bef683bd1ab",
   "metadata": {},
   "source": [
    "### Step 4: Plot regional flux totals and observations with uncertainties"
   ]
  },
  {
   "cell_type": "code",
   "execution_count": null,
   "id": "b862e1db-1ced-459e-9309-56030baff4a7",
   "metadata": {},
   "outputs": [],
   "source": [
    "from visualize_results import Visualize_Fluxes, Visualize_Obs"
   ]
  },
  {
   "cell_type": "markdown",
   "id": "29ba9a95-2eb2-42ca-9265-2652887fab23",
   "metadata": {},
   "source": [
    "#### Regional fluxes\n",
    "##### Using the Monte Carlo ensemble to calculate errors"
   ]
  },
  {
   "cell_type": "code",
   "execution_count": null,
   "id": "6c76f9fb-2d71-45d5-9c42-0b65cd16a78e",
   "metadata": {},
   "outputs": [],
   "source": [
    "vf = Visualize_Fluxes('mip_is_reco')\n",
    "vf.plot_region(['North America', 'South America', 'South American Tropical', 'Tropical Asia'], plot_errs=True)"
   ]
  },
  {
   "cell_type": "markdown",
   "id": "e0facf61-2845-491f-8ac5-f9abd95120f4",
   "metadata": {},
   "source": [
    "##### Using the BFGS-derived approximation to the Hessian to calculate errors"
   ]
  },
  {
   "cell_type": "code",
   "execution_count": null,
   "id": "59ee7011-c32b-491e-a563-ca77659af35a",
   "metadata": {},
   "outputs": [],
   "source": [
    "vf.plot_region(['North America', 'South America', 'South American Tropical', 'Tropical Asia'], plot_errs=True, err_source='hessian')"
   ]
  },
  {
   "cell_type": "markdown",
   "id": "65ede9fa-af27-4f2c-b0b2-c0d9280cb1fc",
   "metadata": {},
   "source": [
    "#### In situ observations"
   ]
  },
  {
   "cell_type": "code",
   "execution_count": null,
   "id": "32e82a3f-c960-405b-bfd4-37aa2fd614ca",
   "metadata": {},
   "outputs": [],
   "source": [
    "po = Visualize_Obs('mip_is_reco')\n",
    "# po.plot_site(['mlo','wkt','amt', 'smo'])\n",
    "po.plot_site(['mlo','wkt','amt', 'smo'], plot_errs=True)"
   ]
  },
  {
   "cell_type": "markdown",
   "id": "e9d1cd9c-7035-4b20-9af5-8a85dfbcfd13",
   "metadata": {},
   "source": [
    "#### Correlations between annual fluxes"
   ]
  },
  {
   "cell_type": "code",
   "execution_count": null,
   "id": "1784ccb9-79c6-4820-b684-003b8f0d14aa",
   "metadata": {},
   "outputs": [],
   "source": [
    "mc = Monte_Carlo_avg('mip_is_mc_reco')\n",
    "mc.plot_annual_correlations()"
   ]
  },
  {
   "cell_type": "markdown",
   "id": "d4219429-f2c3-4813-83d9-af29b9fa115a",
   "metadata": {},
   "source": [
    "## Example 2: Assimilate just the flask obs from NOAA observatories MLO, SMO, SPO, BRW\n",
    "### Step 1: Ensemble of inversions with perturbed priors and observations\n",
    "Do __not__ execute this cell unless you have time to wait. We have already performed this ensemble of inversions. To use that output, copy over `~/shared/ssim-ghg-data/precomputed_output/inversion_examples/var4d/noaa_observatories_mc_reco` to your output folder `~/inversion_output/`."
   ]
  },
  {
   "cell_type": "code",
   "execution_count": null,
   "id": "9057b3cc-362d-41b1-ae4b-37ed51e01d7d",
   "metadata": {},
   "outputs": [],
   "source": [
    "flux_corr_structure = {'temp_corr': 2.0} # 2-month temporal correlation, no horizontal correlation\n",
    "obs_assim_dict = {'sites': ['mlo', 'spo', 'brw', 'smo']} # just the four observatories\n",
    "prior_flux_unc_dict = {'prior_unc_source': 'reco', 'prior_unc_scale': {'land': 0.25, 'ocean': 0.5}}\n",
    "for i in range(73,101): # finish incomplete inversion ensemble\n",
    "    inv_name = 'noaa_observatories_mc_reco/%03i'%i\n",
    "    var4d = Var4D_Components(inv_name, verbose=True, store_intermediate=False)\n",
    "    var4d.var4d_setup(obs_to_assim=obs_assim_dict, corr_structure=flux_corr_structure, perturb_obs=True, perturb_flux=True, **prior_flux_unc_dict)\n",
    "    var4d.var4d_chain(max_iter=500, optim_method='BFGS')"
   ]
  },
  {
   "cell_type": "markdown",
   "id": "9d95a552-f9e1-463e-98d9-a0e5d8941ce5",
   "metadata": {
    "scrolled": true
   },
   "source": [
    "### Step 2: A single inversion with unperturbed prior and observations"
   ]
  },
  {
   "cell_type": "code",
   "execution_count": null,
   "id": "6a7b4e71-74e2-453a-9f18-a0eda9f4e56d",
   "metadata": {},
   "outputs": [],
   "source": [
    "flux_corr_structure = {'temp_corr': 2.0} # 2-month temporal correlation, no horizontal correlation\n",
    "obs_assim_dict = {'sites': ['mlo', 'spo', 'brw', 'smo']} # just the four observatories\n",
    "prior_flux_unc_dict = {'prior_unc_source': 'reco', 'prior_unc_scale': {'land': 0.25, 'ocean': 0.5}}\n",
    "var4d = Var4D_Components('noaa_observatories_reco', verbose=False, store_intermediate=True)\n",
    "var4d.var4d_setup(obs_to_assim=obs_assim_dict, corr_structure=flux_corr_structure, **prior_flux_unc_dict)\n",
    "var4d.var4d_chain(max_iter=500, optim_method='BFGS')"
   ]
  },
  {
   "cell_type": "markdown",
   "id": "c17ac26a-a26c-400a-9d5d-f1d020cd2052",
   "metadata": {},
   "source": [
    "### Step 3: Summarize the ensemble runs"
   ]
  },
  {
   "cell_type": "code",
   "execution_count": null,
   "id": "f3fbd1ca-bec3-4a30-86cb-c294a9f02206",
   "metadata": {},
   "outputs": [],
   "source": [
    "from visualize_results import Monte_Carlo_avg\n",
    "mc = Monte_Carlo_avg('noaa_observatories_mc_reco')\n",
    "mc.summarize_observations()\n",
    "mc.summarize_emissions()"
   ]
  },
  {
   "cell_type": "markdown",
   "id": "38113cc9-f1e7-42c9-b91d-5601584fa97c",
   "metadata": {},
   "source": [
    "### Step 4: Plot regional flux totals and observations with uncertainties"
   ]
  },
  {
   "cell_type": "code",
   "execution_count": null,
   "id": "388cc96b-dd58-4b73-85b9-91a0aa73c630",
   "metadata": {},
   "outputs": [],
   "source": [
    "from visualize_results import Visualize_Fluxes, Visualize_Obs"
   ]
  },
  {
   "cell_type": "markdown",
   "id": "1505ee40-d1e9-4b14-b9a8-aecf1a204c46",
   "metadata": {},
   "source": [
    "#### Regional fluxes\n",
    "##### Using the Monte Carlo ensemble to calculate errors"
   ]
  },
  {
   "cell_type": "code",
   "execution_count": null,
   "id": "39b83151-a031-41a9-b1f7-2083cb701f31",
   "metadata": {},
   "outputs": [],
   "source": [
    "vf = Visualize_Fluxes('noaa_observatories_reco')\n",
    "# vf.plot_region(['North American Boreal', 'North American Temperate', 'South American Tropical', 'South American Temperate'])\n",
    "vf.plot_region(['North America', 'South America', 'South American Tropical', 'Tropical Asia'], plot_errs=True)"
   ]
  },
  {
   "cell_type": "markdown",
   "id": "3628606b-9e34-4944-9dbb-ae1a0b0d52c1",
   "metadata": {},
   "source": [
    "##### Using the BFGS-derived approximation to the Hessian to calculate errors"
   ]
  },
  {
   "cell_type": "code",
   "execution_count": null,
   "id": "118816be-eea1-4395-9af3-d7da90d0e6b2",
   "metadata": {},
   "outputs": [],
   "source": [
    "vf = Visualize_Fluxes('noaa_observatories_reco')\n",
    "vf.plot_region(['North America', 'South America', 'South American Tropical', 'Tropical Asia'], plot_errs=True, err_source='hessian')"
   ]
  },
  {
   "cell_type": "markdown",
   "id": "d55e63b1-849c-499d-b9d9-c2a8c96e316c",
   "metadata": {},
   "source": [
    "#### In situ observations"
   ]
  },
  {
   "cell_type": "code",
   "execution_count": null,
   "id": "1a22d672-3645-47cb-8794-652a600a06de",
   "metadata": {},
   "outputs": [],
   "source": [
    "po = Visualize_Obs('noaa_observatories_reco')\n",
    "# po.plot_site(['mlo','wkt','amt', 'smo'])\n",
    "po.plot_site(['mlo','wkt','amt', 'smo'], plot_errs=True)"
   ]
  },
  {
   "cell_type": "markdown",
   "id": "8391dc8e-91f0-49ed-ae9d-72a57c03eb19",
   "metadata": {},
   "source": [
    "#### Correlations between annual fluxes"
   ]
  },
  {
   "cell_type": "code",
   "execution_count": null,
   "id": "70e51213-0118-4208-8941-9d0b565552ef",
   "metadata": {},
   "outputs": [],
   "source": [
    "mc = Monte_Carlo_avg('noaa_observatories_mc_reco')\n",
    "mc.plot_annual_correlations()"
   ]
  },
  {
   "cell_type": "markdown",
   "id": "1a32cfb3-aeb0-46eb-bb85-39193b07ebb5",
   "metadata": {},
   "source": [
    "## Example 3: Assimilate all OCO2 observations\n",
    "### Step 1: Ensemble of inversions with perturbed priors and observations\n",
    "Do __not__ execute this cell unless you have time to wait. We have already performed this ensemble of inversions. To use that output, copy over `~/shared/ssim-ghg-data/precomputed_output/inversion_examples/var4d/mip_oco2_mc_reco` to your output folder `~/inversion_output/`."
   ]
  },
  {
   "cell_type": "code",
   "execution_count": null,
   "id": "37cb6450-bd77-4154-a669-637ce2b212b7",
   "metadata": {},
   "outputs": [],
   "source": [
    "flux_corr_structure = {'temp_corr': 2.0} # 2-month temporal correlation, no horizontal correlation\n",
    "obs_assim_dict = {'oco2': True} # all OCO2 obs from the MIP\n",
    "prior_flux_unc_dict = {'prior_unc_source': 'reco', 'prior_unc_scale': {'land': 0.25, 'ocean': 0.5}}\n",
    "for i in range(71,101):\n",
    "    inv_name = 'mip_oco2_mc_reco/%03i'%i\n",
    "    var4d = Var4D_Components(inv_name, verbose=True, store_intermediate=False)\n",
    "    var4d.var4d_setup(obs_to_assim=obs_assim_dict, corr_structure=flux_corr_structure, perturb_obs=True, perturb_flux=True, **prior_flux_unc_dict)\n",
    "    var4d.var4d_chain(gradnorm=1.0E-5)"
   ]
  },
  {
   "cell_type": "markdown",
   "id": "71f8dfb9-4ac3-4960-b88d-8da9879e2efb",
   "metadata": {},
   "source": [
    "### Step 2: A single inversion with unperturbed prior and observations"
   ]
  },
  {
   "cell_type": "code",
   "execution_count": null,
   "id": "5fcd570b-6dee-422e-9eb3-29494d1bc650",
   "metadata": {},
   "outputs": [],
   "source": [
    "flux_corr_structure = {'temp_corr': 2.0} # 2-month temporal correlation, no horizontal correlation\n",
    "obs_assim_dict = {'oco2': True} # all OCO2 obs from the MIP\n",
    "prior_flux_unc_dict = {'prior_unc_source': 'reco', 'prior_unc_scale': {'land': 0.25, 'ocean': 0.5}}\n",
    "var4d = Var4D_Components('mip_oco2_reco', verbose=False, store_intermediate=True)\n",
    "var4d.var4d_setup(obs_to_assim=obs_assim_dict, corr_structure=flux_corr_structure, **prior_flux_unc_dict)\n",
    "var4d.var4d_chain(gradnorm=1.0E-5)"
   ]
  },
  {
   "cell_type": "markdown",
   "id": "a534ab41-d71e-4300-a08d-909a172d3ec7",
   "metadata": {},
   "source": [
    "### Step 3: Summarize the ensemble"
   ]
  },
  {
   "cell_type": "code",
   "execution_count": null,
   "id": "04b85cc3-1347-47c2-8225-5972efb4b2fc",
   "metadata": {},
   "outputs": [],
   "source": [
    "from visualize_results import Monte_Carlo_avg\n",
    "mc = Monte_Carlo_avg('mip_oco2_mc_reco')\n",
    "mc.summarize_observations()\n",
    "mc.summarize_emissions()"
   ]
  },
  {
   "cell_type": "markdown",
   "id": "767cdcff-1b11-4cc6-8dee-e2723e2417ed",
   "metadata": {},
   "source": [
    "### Step 4: Plot regional flux totals and observations with uncertainties\n",
    "\n",
    "#### Regional fluxes\n",
    "##### Using the Monte Carlo ensemble to calculate errors"
   ]
  },
  {
   "cell_type": "code",
   "execution_count": null,
   "id": "5b5cbb57-a889-4681-8778-9fdecea8a8ba",
   "metadata": {},
   "outputs": [],
   "source": [
    "vf = Visualize_Fluxes('mip_oco2_reco')\n",
    "vf.plot_region(['North America', 'South America', 'South American Tropical', 'Tropical Asia'], plot_errs=True)"
   ]
  },
  {
   "cell_type": "markdown",
   "id": "5fd99d50-674c-4536-b6b7-32b1c19ca5b5",
   "metadata": {},
   "source": [
    "##### Using the BFGS-derived approximation to the Hessian to calculate errors"
   ]
  },
  {
   "cell_type": "code",
   "execution_count": null,
   "id": "b06cd053-ce8a-476b-831b-0260da433d21",
   "metadata": {},
   "outputs": [],
   "source": [
    "vf = Visualize_Fluxes('mip_oco2_reco')\n",
    "vf.plot_region(['North America', 'South America', 'South American Tropical', 'Tropical Asia'], plot_errs=True, err_source='hessian')"
   ]
  },
  {
   "cell_type": "markdown",
   "id": "f6e446ff-5de1-4b8f-8d6b-f68ccbfdd6aa",
   "metadata": {},
   "source": [
    "#### In situ observations (which were not assimilated)"
   ]
  },
  {
   "cell_type": "code",
   "execution_count": null,
   "id": "71f89e39-9eca-412d-9374-af49df4d343e",
   "metadata": {},
   "outputs": [],
   "source": [
    "po = Visualize_Obs('mip_oco2_reco')\n",
    "po.plot_site(['mlo','wkt','amt', 'smo'], plot_errs=True)"
   ]
  },
  {
   "cell_type": "markdown",
   "id": "e1753dd3-c9f6-4657-8f74-0ca34f800729",
   "metadata": {},
   "source": [
    "#### Correlations between annual fluxes"
   ]
  },
  {
   "cell_type": "code",
   "execution_count": null,
   "id": "df85cd9a-7c16-4b3d-8f25-288cf662a204",
   "metadata": {},
   "outputs": [],
   "source": [
    "mc = Monte_Carlo_avg('mip_oco2_mc_reco')\n",
    "mc.plot_annual_correlations()"
   ]
  },
  {
   "cell_type": "code",
   "execution_count": null,
   "id": "0e472a99-8c3d-4c05-a14d-8162653512cb",
   "metadata": {},
   "outputs": [],
   "source": []
  }
 ],
 "metadata": {
  "language_info": {
   "name": "python"
  }
 },
 "nbformat": 4,
 "nbformat_minor": 5
}
