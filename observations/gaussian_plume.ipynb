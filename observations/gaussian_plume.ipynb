{
 "cells": [
  {
   "cell_type": "code",
   "execution_count": null,
   "id": "abc94aa3-d6f2-4d84-b6fc-7d6ad1cf2492",
   "metadata": {},
   "outputs": [],
   "source": [
    "from scipy.stats import multivariate_normal\n",
    "import numpy as np\n",
    "import matplotlib.pyplot as plt\n",
    "import seaborn as sns\n",
    "import pandas as pd\n",
    "from random import choices\n",
    "from glob import glob\n",
    "import xarray as xr\n",
    "import datetime as dt"
   ]
  },
  {
   "cell_type": "markdown",
   "id": "55f432cd-e8da-42a5-906e-452c5f16790c",
   "metadata": {},
   "source": [
    "## This notebook explores the Gaussian Plume dispersion model along with a simple inverse example that assumes *in situ* observations at the surface.\n",
    "\n",
    "### Author: Sean Crowell\n",
    "### Date: XXX\n",
    "### Purpose: SSIM-GHG 2025"
   ]
  },
  {
   "cell_type": "markdown",
   "id": "7461c65a-2a2b-42bd-9fa7-627affc0029e",
   "metadata": {},
   "source": [
    "### Gaussian Plume solution with constant eddy diffusivity "
   ]
  },
  {
   "cell_type": "code",
   "execution_count": null,
   "id": "103eb8f7-c6cb-4bb4-b1b9-9eaae5e748c6",
   "metadata": {},
   "outputs": [],
   "source": [
    "def gaus_plume(emis_rate=None,advect_wind=None,sig_y=None,sig_z=None,coords=None):\n",
    "    x,y,z,H = coords[:]\n",
    "    dq = emis_rate/(4*np.pi*advect_wind*sig_y*sig_z)\n",
    "    dq *= np.exp(-y**2/sig_y**2)\n",
    "    dq *= np.exp(-(z+H)**2/sig_z**2) + np.exp(-(z-H)**2/sig_z**2)\n",
    "    return dq"
   ]
  },
  {
   "cell_type": "code",
   "execution_count": null,
   "id": "c508cd8a-0c28-4a45-892e-34285eb14af4",
   "metadata": {},
   "outputs": [],
   "source": [
    "Q = 1000/60/60 #kg/s\n",
    "u = 5 #m/s\n",
    "k = 5 #m^2/s\n",
    "H = 0\n",
    "x = np.arange(0,11,0.01)\n",
    "sig_y = np.sqrt(2*k/u*x)\n",
    "sig_z = np.sqrt(2*k/u*x)\n",
    "y = np.arange(-10,11,0.5)\n",
    "z = np.arange(np.max((H-10,0)),H+11,1)\n",
    "dq = np.zeros((z.shape[0],y.shape[0],x.shape[0]))\n",
    "for iz,zz in enumerate(z):\n",
    "    for iy,yy in enumerate(y):\n",
    "        for ix,xx in enumerate(x):\n",
    "            dq[iz,iy,ix] = gaus_plume(emis_rate=Q,advect_wind=u,sig_y=sig_y[ix],sig_z=sig_z[ix],coords=np.array([xx,yy,zz,H]))\n",
    "plt.pcolormesh(x,y,dq[0],vmin=0.001,cmap=plt.cm.hot_r); plt.colorbar()\n",
    "plt.plot(x,np.sqrt(2*k/u*x))\n",
    "plt.gca().set_xlim([0,1])"
   ]
  },
  {
   "cell_type": "code",
   "execution_count": null,
   "id": "9c484d46-958f-42ef-a8d1-5eb0f18a8514",
   "metadata": {},
   "outputs": [],
   "source": [
    "plt.plot(y,dq[0,:,1])\n",
    "plt.plot(y,dq[0,:,5])\n",
    "plt.plot(y,dq[0,:,10])\n",
    "\n",
    "plt.figure()\n",
    "plt.plot(dq[:,:,:].sum((0,1)))"
   ]
  },
  {
   "cell_type": "code",
   "execution_count": null,
   "id": "430a13ea-45b2-4a78-b264-e5e261c98aa8",
   "metadata": {},
   "outputs": [],
   "source": [
    "dq[0]"
   ]
  },
  {
   "cell_type": "code",
   "execution_count": null,
   "id": "bfc651bf-e6b7-4e54-a15b-f4913f2c99a3",
   "metadata": {},
   "outputs": [],
   "source": []
  }
 ],
 "metadata": {
  "language_info": {
   "name": "python"
  }
 },
 "nbformat": 4,
 "nbformat_minor": 5
}
