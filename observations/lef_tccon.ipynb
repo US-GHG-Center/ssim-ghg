{
 "cells": [
  {
   "cell_type": "code",
   "execution_count": null,
   "metadata": {},
   "outputs": [],
   "source": [
    "import matplotlib.pyplot as plt\n",
    "import datetime as dt\n",
    "import numpy as np\n",
    "from h5py import File\n",
    "import pandas as pd\n",
    "import xarray as xr\n",
    "from glob import glob\n",
    "import scipy.optimize as opt\n",
    "import seaborn as sns"
   ]
  },
  {
   "cell_type": "markdown",
   "metadata": {
    "id": "Dl2CaCnsl5o0"
   },
   "source": [
    "# Analysis of LEF TCCON data\n",
    "## Read in LEF data at all levels and create afternoon averages for each day\n"
   ]
  },
  {
   "cell_type": "code",
   "execution_count": null,
   "metadata": {},
   "outputs": [],
   "source": [
    "files = glob('./tccon.latest.public/pa*')\n",
    "lef_all = {}\n",
    "lef_day = {}\n",
    "for fi in files:\n",
    "    st = fi.split('/')[-1][:2]\n",
    "    tmp = xr.open_dataset(fi)\n",
    "    #t = np.array([dt.datetime(1970,1,1) + dt.timedelta(days=ti/86400.) for ti in tmp['time'][:].data])\n",
    "    lef_all[st] = pd.DataFrame({'xco2':tmp['xco2'].data,'lat':tmp['lat'].data,'lon':tmp['long'].data},index=pd.DatetimeIndex(tmp['time'].data))\n",
    "    solar_time = np.array([lef_all[st].index[i] + dt.timedelta(hours=lef_all[st]['lon'].iloc[i]/180. * 12) for i in range(len(lef_all[st].index))])\n",
    "    lef_all[st].index = solar_time[:]\n",
    "    #lef_all[st].index = [lef_all[st].index[i].date() for i in range(len(lef_all[st].index))]\n",
    "\n",
    "for st in lef_all.keys():\n",
    "    lef_day[st] = lef_all[st].between_time('12:00','16:00').groupby(pd.Grouper(freq='D')).mean()\n",
    "    lef_day[st].dropna()"
   ]
  },
  {
   "cell_type": "markdown",
   "metadata": {
    "id": "4nbtagZ_l5o1"
   },
   "source": [
    "## Plot full and afternoon averaged time series to see impacts of filtering"
   ]
  },
  {
   "cell_type": "code",
   "execution_count": null,
   "metadata": {},
   "outputs": [],
   "source": [
    "fig,ax = plt.subplots(1,1,figsize=(10,8))\n",
    "sites = [st]\n",
    "for ky in sites:\n",
    "  lef_all[ky].xco2.plot(title='LEF Full CO$_2$ Record',ax=ax)\n",
    "  lef_day[ky].xco2.plot(title='LEF Afternoon Daily Average CO$_2$',ax=ax)\n",
    "ax.legend(['All','Afternoon Avg'],ncol=3)\n",
    "ax.set_ylabel(r'CO$_2$ Dry Air Mole Fraction (ppm)');\n"
   ]
  },
  {
   "cell_type": "markdown",
   "metadata": {
    "id": "WSYXReGV5YUr"
   },
   "source": [
    "#### Zoom in on a few recent years\n",
    "\n",
    "As long as you have a DateTime index for your DataFrame, you can subsample with the DateTime objects directly"
   ]
  },
  {
   "cell_type": "code",
   "execution_count": null,
   "metadata": {},
   "outputs": [],
   "source": [
    "fig,ax = plt.subplots(1,1,figsize=(10,6))\n",
    "sites=['pa']\n",
    "for ky in sites:\n",
    "  #Syntax is df[datetime1:datetime2] to subsample a DataFrame\n",
    "  lef_all[ky].xco2.plot(ax=ax)\n",
    "  lef_day[ky].xco2.plot(ax=ax)\n",
    "ax.legend(['All Times','Afternoon Average'],ncol=3)\n",
    "ax.set_ylabel(r'CO$_2$ Col Avg Dry Air Mole Frac (XCO2, ppm)');\n",
    "ax.set_xlim([dt.datetime(2016,1,1),dt.datetime(2019,1,1)]);\n",
    "ax.set_ylim([390,430]);"
   ]
  },
  {
   "cell_type": "markdown",
   "metadata": {},
   "source": [
    "## Questions\n",
    "1. What happened to the \"spikes\" in the full data record when we only look at the daytime average data?\n",
    "2. Why do the time series look so different?"
   ]
  },
  {
   "cell_type": "markdown",
   "metadata": {
    "id": "lIs4d9Ttl5o2"
   },
   "source": [
    "## Fit a trend and seasonal cycle to the daytime data\n",
    "### We treat the trend with a polynomial and the seasonality as a pure sinusoid or a skewed sinusoid:\n",
    "\n",
    "Thoning fit: $f(t) = a_o + a_1 t + ... + a_n t^n + \\Sigma_{i=1}^{nh} c_i \\sin(2\\pi i t + \\phi_i)$\n",
    "\n",
    "Skew Sine Wave: $f(t) = a_o + + a_1 t + ... + a_n t^n + c_o \\sin[\\omega (t-\\phi_1) + \\cos^{-1}(c_1\\cos(\\omega(t-\\phi_2)))]$"
   ]
  },
  {
   "cell_type": "code",
   "execution_count": null,
   "metadata": {},
   "outputs": [],
   "source": [
    "def thoning(x,*params):\n",
    "  fout = 0.\n",
    "  pn = params[:4]\n",
    "  for ip,p in enumerate(pn):\n",
    "    fout += p*x**ip\n",
    "  cn = params[4:]\n",
    "  nh = len(cn)//2\n",
    "  for i in range(nh):\n",
    "    fout += cn[i]*np.sin(2*np.pi*(i+1)*x + cn[i+nh])\n",
    "  return fout\n",
    "\n",
    "def skewsine(x,*params):\n",
    "    fout = 0.\n",
    "    pn = params[:4]\n",
    "    for ip,p in enumerate(pn):\n",
    "        fout += p*x**ip\n",
    "    cn = params[4:]\n",
    "    freq = 2*np.pi/365.\n",
    "    fout += cn[0]*np.sin(freq*(x-cn[1])+np.arccos(cn[2]*np.cos(freq*(x-cn[3]))))\n",
    "    return fout\n",
    "\n",
    "def trend(x,*params):\n",
    "  fout = 0.\n",
    "  pn = params[:]\n",
    "  for ip,p in enumerate(pn):\n",
    "    fout += p*x**ip\n",
    "  return fout\n",
    "\n",
    "pt = {}\n",
    "for st in sites:\n",
    "    tmp = lef_day[st].dropna()\n",
    "    inds = np.where(tmp.index.year > 2005)\n",
    "    t = np.array([(ti-dt.datetime(2000,1,1)).total_seconds() for ti in tmp.index[inds]])/86400./365.\n",
    "    y = tmp.xco2.iloc[inds[0]]\n",
    "    p0 = np.array([300,10,1,0,20,20,20,20,0,0,0,0])\n",
    "    pt[st] = opt.curve_fit(thoning,t,y,p0=p0,method='lm')[0]\n",
    "    t = np.array([(ti-dt.datetime(2000,1,1)).total_seconds() for ti in lef_day[st].index])/86400./365.\n",
    "    lef_day[st]['thoning'] = thoning(t,*pt[st])\n",
    "    lef_day[st]['trend'] = thoning(t,*pt[st][:4])\n",
    "    \n",
    "ps = {}\n",
    "for st in sites:\n",
    "    tmp = lef_day[st].dropna()\n",
    "    inds = np.where(tmp.index.year > 2005)\n",
    "    t = np.array([(ti-dt.datetime(2000,1,1)).total_seconds() for ti in tmp.index[inds]])/86400.\n",
    "    y = tmp.xco2.iloc[inds[0]]\n",
    "    p0 = np.array([300,10,1,0,-40,-100,0.5,-300])\n",
    "    ps[st] = opt.curve_fit(skewsine,t,y,p0=p0,method='lm')[0]\n",
    "    t = np.array([(ti-dt.datetime(2000,1,1)).total_seconds() for ti in lef_day[st].index])/86400./365.\n",
    "    lef_day[st]['skewsine'] = skewsine(t,*ps[st])\n"
   ]
  },
  {
   "cell_type": "markdown",
   "metadata": {
    "id": "Tb23EquFl5o2"
   },
   "source": [
    "## Comparison Between Fitted Curves"
   ]
  },
  {
   "cell_type": "code",
   "execution_count": null,
   "metadata": {},
   "outputs": [],
   "source": [
    "t = np.array([(ti-dt.datetime(2000,1,1)).total_seconds() for ti in lef_day['pa'].index])/86400./365.\n",
    "plt.plot(t,lef_day['pa']['xco2'],'.')\n",
    "plt.plot(t,thoning(t,*pt['pa']))\n",
    "plt.plot(t,skewsine(t*365,*ps['pa']))\n",
    "plt.title('Curve Fits vs. Daytime Data (30m altitude)')\n",
    "plt.ylabel('CO$_2$ Mole Fraction (ppm)')\n",
    "for i in range(6,23,2):\n",
    "    plt.axvspan(i,i+1,0,1,color='grey',alpha=0.1)\n",
    "plt.xticks(np.arange(6.5,23,1),np.arange(2006,2023),rotation=75);\n"
   ]
  },
  {
   "cell_type": "code",
   "execution_count": null,
   "metadata": {},
   "outputs": [],
   "source": [
    "fig,ax=plt.subplots(1,1)\n",
    "for ky in sites:\n",
    "    lef_day[ky]['detrend'] = lef_day[ky].thoning-lef_day[ky].trend\n",
    "    seas = lef_day[ky].groupby(lef_day[ky]['xco2'].index.month)['detrend'].mean()\n",
    "    seas.plot()\n",
    "ax.legend(sites)\n",
    "ax.set_title(f'Seasonal Cycle at LEF')\n",
    "ax.set_ylabel('Seasonal Variation (ppm)')\n",
    "ax.legend(sites)\n",
    "#ax.set_ylim([-3,38])\n",
    "ax.plot([1,12],[0,0],'--k')\n",
    "ax.set_xlabel('Hour of Day (LST)')"
   ]
  },
  {
   "cell_type": "markdown",
   "metadata": {
    "executionInfo": {
     "elapsed": 8787,
     "status": "ok",
     "timestamp": 1713285412118,
     "user": {
      "displayName": "Sean Crowell",
      "userId": "13194722322756500067"
     },
     "user_tz": -120
    },
    "id": "drjpJbTgSPtI",
    "outputId": "8e9a1849-815d-47e4-f5ee-638791e29c7b"
   },
   "source": [
    "## Questions\n",
    "\n",
    "1. How does this seasonal cycle compare to the in situ data?\n",
    "2. What might be causing the differences?"
   ]
  },
  {
   "cell_type": "markdown",
   "metadata": {
    "id": "tJ_VlKWdl5o2"
   },
   "source": [
    "## Examination of Residuals"
   ]
  },
  {
   "cell_type": "code",
   "execution_count": null,
   "metadata": {},
   "outputs": [],
   "source": [
    "plt.plot(t,thoning(t,*pt['pa'])-lef_day['pa']['xco2'])\n",
    "for i in range(0,23,2):\n",
    "    plt.axvspan(i,i+1,0,1,color='grey',alpha=0.1)\n",
    "plt.xticks(np.arange(0.5,23,1),np.arange(2000,2023),rotation=75);\n",
    "plt.xlim([8,23])\n",
    "plt.title('LEF XCO2 Seasonal Cycle and Trend Fit Daytime Residuals')\n",
    "plt.ylabel('Residual (ppm)')"
   ]
  },
  {
   "cell_type": "code",
   "execution_count": null,
   "metadata": {},
   "outputs": [],
   "source": [
    "for st in lef_all.keys():\n",
    "    t = np.array([(ti-dt.datetime(2000,1,1)).total_seconds() for ti in lef_all[st].index])/86400./365\n",
    "    plt.plot(lef_all[st].xco2-thoning(t,*pt[st]))\n",
    "plt.title('LEF Detrended, Deseasonalized Time Series')\n",
    "plt.ylabel('XCO$_2$ (ppm)')\n",
    "plt.legend(sites)"
   ]
  },
  {
   "cell_type": "markdown",
   "metadata": {
    "executionInfo": {
     "elapsed": 8787,
     "status": "ok",
     "timestamp": 1713285412118,
     "user": {
      "displayName": "Sean Crowell",
      "userId": "13194722322756500067"
     },
     "user_tz": -120
    },
    "id": "drjpJbTgSPtI",
    "outputId": "8e9a1849-815d-47e4-f5ee-638791e29c7b"
   },
   "source": [
    "## Questions\n",
    "\n",
    "1. How do you interpret the parameters in the curve fits?\n",
    "2. How would you interpret the residuals in the daytime data after fitting the curves?\n",
    "3. What do the large remaining variations in the fits versus the full time series represent?"
   ]
  },
  {
   "cell_type": "markdown",
   "metadata": {
    "id": "usLu4RHUl5o3"
   },
   "source": [
    "# Diurnal Cycle Analysis\n",
    "\n",
    "With detrended and deseasonalized data, we can start to examine other frequencies of variability.  The first place to look is changes over the course of a day from season to season.\n",
    "\n",
    "## First create a detrended, deseasonalized time series:"
   ]
  },
  {
   "cell_type": "code",
   "execution_count": null,
   "metadata": {},
   "outputs": [],
   "source": [
    "for st in sites:\n",
    "    tmp = lef_all[st]\n",
    "    t = np.array([(ti-dt.datetime(2000,1,1)).total_seconds() for ti in tmp.index])/86400./365.\n",
    "    lef_all[st]['xco2_de'] = lef_all[st].xco2-thoning(t,*pt[st])"
   ]
  },
  {
   "cell_type": "markdown",
   "metadata": {
    "id": "JeNPKIAjl5o3"
   },
   "source": [
    "## Now use groupby to plot diurnal cycle for 4 different months"
   ]
  },
  {
   "cell_type": "code",
   "execution_count": null,
   "metadata": {},
   "outputs": [],
   "source": [
    "fig,axs=plt.subplots(2,2,figsize=(10,10))\n",
    "for isn,sn in enumerate(['MAM','JJA','SON','dDJF']):\n",
    "  ax = axs[isn//2,isn%2]\n",
    "  for ky in sites:\n",
    "    inds = np.where((lef_all[ky].index.month > 3*isn+2)*(lef_all[ky].index.month <= 3*isn+5))\n",
    "    if sn == 'DJF':\n",
    "      inds = np.where((lef_all[ky].index.month == 12) + (lef_all[ky].index.month < 3))\n",
    "    ssn_ts = lef_all[ky].iloc[inds]\n",
    "    ts = ssn_ts.groupby(ssn_ts['xco2_de'].index.hour)['xco2_de'].mean()\n",
    "    ax.plot(ts)\n",
    "  ax.legend(sites)\n",
    "  ax.set_title(f'Diurnal Cycle at LEF for {sn}')\n",
    "  ax.set_ylabel('Diurnal Variation (ppm)')\n",
    "  ax.set_ylim([-1.5,1.5])\n",
    "  ax.plot([0,24],[0,0],'--k')\n",
    "  ax.set_xlabel('Hour of Day (Local)')"
   ]
  },
  {
   "cell_type": "markdown",
   "metadata": {
    "id": "WU52XpRmDcUT"
   },
   "source": [
    "## Questions\n",
    "\n",
    "1. Why is there no data at night?\n",
    "2. What drives the differences in daytime minimum mole fractions between the different seasons?\n",
    "3. What are we assuming about the statistics of the detrended, deseasonalized time series when we make these plots?"
   ]
  },
  {
   "cell_type": "markdown",
   "metadata": {},
   "source": [
    "# Synoptic Variations"
   ]
  },
  {
   "cell_type": "code",
   "execution_count": null,
   "metadata": {},
   "outputs": [],
   "source": [
    "for ky in sites:\n",
    "  inds = np.where((lef_all[ky].index.month == 6) + (lef_all[ky].index.year == 2016))\n",
    "  syn_ts = lef_all[ky].iloc[inds]\n",
    "  ts = syn_ts.groupby(syn_ts['xco2_de'].index.hour)['xco2_de'].mean()\n",
    "  syn_ts['synoptic'] = syn_ts['xco2_de']\n",
    "  syn_ts['synoptic'].plot(marker='.',linestyle='')\n",
    "plt.xlim([dt.datetime(2016,7,15),dt.datetime(2016,8,15)])\n",
    "plt.ylim([-10,10])\n",
    "plt.title('Intermediate Temporal Variations in XCO2');\n",
    "plt.ylabel('XCO2 Variations (ppm)');"
   ]
  },
  {
   "cell_type": "markdown",
   "metadata": {
    "id": "WU52XpRmDcUT"
   },
   "source": [
    "## Questions\n",
    "\n",
    "1. How do these variations compare to the in situ data?\n",
    "2. What would cause the differences between the two different datasets?"
   ]
  },
  {
   "cell_type": "code",
   "execution_count": null,
   "metadata": {},
   "outputs": [],
   "source": []
  }
 ],
 "metadata": {
  "language_info": {
   "name": "python"
  }
 },
 "nbformat": 4,
 "nbformat_minor": 4
}
