{
 "cells": [
  {
   "cell_type": "code",
   "execution_count": null,
   "metadata": {},
   "outputs": [],
   "source": [
    "import matplotlib.pyplot as plt\n",
    "import datetime as dt\n",
    "import pytz,os\n",
    "import numpy as np\n",
    "import pandas as pd\n",
    "import xarray as xr\n",
    "from glob import glob\n",
    "import scipy.optimize as opt\n",
    "import yaml\n",
    "import seaborn as sns"
   ]
  },
  {
   "cell_type": "code",
   "execution_count": null,
   "metadata": {},
   "outputs": [],
   "source": [
    "with open('../site_settings.yml','r') as file:\n",
    "    _s = yaml.safe_load(file)\n",
    "    obs_settings = _s['observations']\n",
    "    global_paths = _s['global_paths']"
   ]
  },
  {
   "cell_type": "markdown",
   "metadata": {
    "id": "Dl2CaCnsl5o0"
   },
   "source": [
    "# Analysis of LEF data\n",
    "## Read in LEF in situ data and create afternoon averages for each day\n"
   ]
  },
  {
   "cell_type": "code",
   "execution_count": null,
   "metadata": {},
   "outputs": [],
   "source": [
    "utc = pytz.timezone('UTC')\n",
    "local_tz = pytz.timezone('America/Chicago')\n",
    "obspack_files = glob(os.path.join(global_paths['input_folder'], obs_settings['obspack_folder'], obs_settings['obspack_surface_code']+'*'))\n",
    "lef_is_all = {}\n",
    "lef_is_day = {}\n",
    "start_date = dt.datetime(2004,1,1)\n",
    "end_date = dt.datetime(2022,1,1)\n",
    "for fi in obspack_files:\n",
    "    ht = fi.split('-')[-1].split('.nc')[0]\n",
    "    print(ht)\n",
    "    if not ht.split('magl')[0] in obs_settings['obspack_surface_heights'].split(','): continue\n",
    "    tmp = xr.open_dataset(fi,decode_timedelta=True)\n",
    "    lef_is_all[ht] = pd.DataFrame({'co2':tmp['value'].data*1e6,'lat':tmp['latitude'].data,'lon':tmp['longitude']},index=tmp['time'].data)\n",
    "    solar_time = np.array([lef_is_all[ht].index[i] + dt.timedelta(hours=float(lef_is_all[ht]['lon'].iloc[i]/180.) * 12) for i in range(len(lef_is_all[ht].index))])\n",
    "    lef_is_all[ht].index = solar_time[:]\n",
    "    lef_is_all[ht] = lef_is_all[ht][start_date:end_date].dropna()\n",
    "    \n",
    "for ht in lef_is_all.keys():\n",
    "    lef_is_day[ht] = lef_is_all[ht].between_time('12:00','16:00').groupby(pd.Grouper(freq='D')).mean()\n",
    "    lef_is_day[ht].dropna()\n",
    "    lef_is_day[ht] = lef_is_day[ht][start_date:end_date].dropna()\n"
   ]
  },
  {
   "cell_type": "markdown",
   "metadata": {},
   "source": [
    "## Read in LEF in situ aircraft data and bin by altitude"
   ]
  },
  {
   "cell_type": "code",
   "execution_count": null,
   "metadata": {},
   "outputs": [],
   "source": [
    "aircraft_file = os.path.join(global_paths['input_folder'], obs_settings['obspack_folder'], obs_settings['obspack_aircraft_code']+'.nc')\n",
    "start_date = dt.datetime(2004,1,1)\n",
    "end_date = dt.datetime(2022,1,1)\n",
    "\n",
    "tmp = xr.open_dataset(aircraft_file,decode_timedelta=True)\n",
    "alt_bin_edges = np.array([0,1000,2000,4000,10000])\n",
    "alt_bin_centers = alt_bin_edges[:-1] + 0.5*np.diff(alt_bin_edges)\n",
    "alt_ob = tmp['altitude'].data\n",
    "alt_bin_inds = np.digitize(alt_ob,alt_bin_edges)-np.ones(len(alt_ob)).astype(int)\n",
    "alt_binned = alt_bin_centers[alt_bin_inds]\n",
    "\n",
    "lef_pfp = {}\n",
    "for ialt in range(len(alt_bin_edges)-1):\n",
    "    ht = alt_bin_edges[ialt+1]\n",
    "    inds = np.where((alt_ob <= alt_bin_edges[ialt+1])*(alt_ob > alt_bin_edges[ialt]))\n",
    "                                                       \n",
    "    lef_pfp[ht] = pd.DataFrame({'co2':tmp['value'].data[inds]*1e6,'alt':tmp['altitude'].data[inds],'date':tmp['time'].data[inds],'lat':tmp['latitude'].data[inds],'lon':tmp['longitude'].data[inds]},index=tmp['time'].data[inds])\n",
    "    solar_time = np.array([lef_pfp[ht].index[i] + dt.timedelta(hours=float(lef_pfp[ht]['lon'].iloc[i]/180.) * 12) for i in range(len(lef_pfp[ht].index))])\n",
    "    lef_pfp[ht].index = solar_time[:]\n",
    "    lef_pfp[ht] = lef_pfp[ht][start_date:end_date].dropna()"
   ]
  },
  {
   "cell_type": "markdown",
   "metadata": {},
   "source": [
    "## Read in LEF TCCON data"
   ]
  },
  {
   "cell_type": "code",
   "execution_count": null,
   "metadata": {},
   "outputs": [],
   "source": [
    "files = glob(os.path.join(global_paths['input_folder'], obs_settings['tccon_folder'], obs_settings['tccon_site']+'*'))\n",
    "lef_tc_all = {}\n",
    "lef_tc_day = {}\n",
    "for fi in files:\n",
    "    st = fi.split('/')[-1][:2]\n",
    "    if st not in obs_settings['tccon_site'].split(','): continue\n",
    "    tmp = xr.open_dataset(fi,decode_timedelta=True)\n",
    "    lef_tc_all[st] = pd.DataFrame({'xco2':tmp['xco2'].data,'lat':tmp['lat'].data,'lon':tmp['long'].data},index=pd.DatetimeIndex(tmp['time'].data))\n",
    "    solar_time = np.array([lef_tc_all[st].index[i] + dt.timedelta(hours=float(lef_tc_all[st]['lon'].iloc[i]/180.) * 12) for i in range(len(lef_tc_all[st].index))])\n",
    "    lef_tc_all[st].index = solar_time[:]\n",
    "    date_inds = np.where((lef_tc_all[st].index > start_date)*(lef_tc_all[st].index < end_date))\n",
    "    lef_tc_all[st] = lef_tc_all[st].iloc[date_inds].dropna()\n",
    "\n",
    "for st in lef_tc_all.keys():\n",
    "    lef_tc_day[st] = lef_tc_all[st].between_time('12:00','16:00').groupby(pd.Grouper(freq='D')).mean()\n",
    "    lef_tc_day[st].dropna()\n",
    "    date_inds = np.where((lef_tc_day[st].index > start_date)*(lef_tc_day[st].index < end_date))\n",
    "    lef_tc_day[st] = lef_tc_day[st].iloc[date_inds].dropna()\n"
   ]
  },
  {
   "cell_type": "markdown",
   "metadata": {
    "id": "4nbtagZ_l5o1"
   },
   "source": [
    "## Plot full and afternoon averaged time series"
   ]
  },
  {
   "cell_type": "code",
   "execution_count": null,
   "metadata": {},
   "outputs": [],
   "source": [
    "heights = sorted([int(ht) for ht in obs_settings['obspack_surface_heights'].split(',')])\n",
    "heights = [ f'{ht}magl' for ht in heights]\n",
    "\n",
    "fig,axs = plt.subplots(2,1,figsize=(10,8))\n",
    "labels = heights[:]\n",
    "labels.append('tccon')\n",
    "for ky in heights:\n",
    "  lef_is_all[ky].co2.plot(title='LEF Full In Situ CO$_2$',ax=axs[0])\n",
    "  lef_is_day[ky].co2.plot(title='LEF Afternoon Daily Average In Situ CO$_2$',ax=axs[1])\n",
    "lef_tc_all['pa'].xco2.plot(ax=axs[0])\n",
    "lef_tc_day['pa'].xco2.plot(ax=axs[1])\n",
    "\n",
    "axs[0].legend(labels,ncol=4)\n",
    "axs[0].set_ylabel(r'CO$_2$ Dry Air Mole Fraction (ppm)');\n",
    "axs[0].set_xticks([])\n",
    "xl = axs[1].get_xlim()\n",
    "axs[0].set_xlim(xl)\n",
    "axs[1].legend(labels,ncol=4)\n",
    "axs[1].set_ylabel(r'CO$_2$ Dry Air Mole Fraction (ppm)');"
   ]
  },
  {
   "cell_type": "markdown",
   "metadata": {
    "id": "WSYXReGV5YUr"
   },
   "source": [
    "#### Zoom in on a few recent years"
   ]
  },
  {
   "cell_type": "code",
   "execution_count": null,
   "metadata": {},
   "outputs": [],
   "source": [
    "fig,axs = plt.subplots(2,1,figsize=(10,8))\n",
    "start_date = dt.datetime(2016,1,1)\n",
    "end_date = dt.datetime(2019,1,1)\n",
    "for ky in heights:\n",
    "  lef_is_all[ky][start_date:end_date].co2.plot(title='LEF In Situ CO2 and TCCON XCO2',ax=axs[0])\n",
    "  lef_is_day[ky][start_date:end_date].co2.plot(title='LEF Afternoon Daily Average In Situ CO$_2$ and TCCON XCO2',ax=axs[1])\n",
    "date_inds = np.where((lef_tc_all['pa'].index > start_date)*(lef_tc_all['pa'].index < end_date))\n",
    "lef_tc_all['pa'].iloc[date_inds].xco2.plot(ax=axs[0])\n",
    "date_inds = np.where((lef_tc_day['pa'].index > start_date)*(lef_tc_day['pa'].index < end_date))\n",
    "lef_tc_day['pa'].iloc[date_inds].xco2.plot(ax=axs[1])\n",
    "\n",
    "axs[0].legend(labels,ncol=4)\n",
    "axs[0].set_ylabel(r'CO$_2$ Dry Air Mole Fraction (ppm)');\n",
    "axs[0].set_xticks([])\n",
    "xl = axs[1].get_xlim()\n",
    "axs[0].set_xlim(xl)\n",
    "axs[1].legend(labels,ncol=4)\n",
    "axs[1].set_ylabel(r'CO$_2$ Dry Air Mole Fraction (ppm)');"
   ]
  },
  {
   "cell_type": "markdown",
   "metadata": {},
   "source": [
    "## Questions\n",
    "1. What happened to the \"spikes\" in the full data record when we only look at the daytime average data?\n",
    "2. Are the \"full\" in situ and TCCON datasets really comparable? How are they different in terms of temporal coverage?\n",
    "3. What data were filtered in the \"day\" TCCON dataset vs. \"day\" in situ dataset?"
   ]
  },
  {
   "cell_type": "markdown",
   "metadata": {},
   "source": [
    "## Exploring variation with altitude"
   ]
  },
  {
   "cell_type": "code",
   "execution_count": null,
   "metadata": {},
   "outputs": [],
   "source": [
    "fig,axs = plt.subplots(2,1,figsize=(10,8))\n",
    "labels = [heights[0]]\n",
    "ax = axs[0]\n",
    "lef_is_day['30magl'].co2.plot(title='LEF Afternoon Daytime In Situ CO$_2$ and TCCON XCO$_2$',ax=ax)\n",
    "\n",
    "for alt in list(lef_pfp.keys())[:-1]:\n",
    "    lef_pfp[alt].co2.plot(ax=ax)\n",
    "    labels.append(f'{int(alt)}magl')\n",
    "labels.append('tccon')\n",
    "lef_tc_day['pa'].xco2.plot(ax=ax)\n",
    "ax.legend(labels,ncol=3)\n",
    "ax.set_ylabel(r'CO$_2$ Dry Air Mole Fraction (ppm)');\n",
    "#ax.set_xticks([])\n",
    "\n",
    "ax=axs[1]\n",
    "start_date = dt.datetime(2009,1,1)\n",
    "end_date = dt.datetime(2010,1,1)\n",
    "\n",
    "lef_is_day['30magl'][start_date:end_date].co2.plot(title=f'{start_date.year} LEF Daytime In Situ CO$_2$ and TCCON XCO2',ax=ax)\n",
    "for alt in alt_bin_edges[1:]:\n",
    "    ax.plot(lef_pfp[alt][start_date:end_date].index,lef_pfp[alt][start_date:end_date].co2,'.')\n",
    "    #lef_pfp.iloc[inds][start_date:end_date].reset_index().plot(x='index',y='co2',kind='scatter',ax=ax)\n",
    "\n",
    "date_inds = np.where((lef_tc_day['pa'].index > start_date)*(lef_tc_day['pa'].index < end_date))\n",
    "lef_tc_day['pa'].iloc[date_inds].xco2.plot(ax=ax)\n",
    "ax.legend(labels,ncol=3)\n",
    "fig.tight_layout()"
   ]
  },
  {
   "cell_type": "markdown",
   "metadata": {
    "id": "lIs4d9Ttl5o2"
   },
   "source": [
    "## Fit a trend and seasonal cycle to the daytime data\n",
    "### We treat the trend with a polynomial and the seasonality as a sinusoid:\n",
    "\n",
    "Thoning fit: $f(t) = a_o + a_1 t + ... + a_n t^n + \\Sigma_{i=1}^{nh} c_i \\sin(2\\pi i t + \\phi_i)$"
   ]
  },
  {
   "cell_type": "code",
   "execution_count": null,
   "metadata": {},
   "outputs": [],
   "source": [
    "def thoning(x,*params):\n",
    "  fout = 0.\n",
    "  pn = params[:4]\n",
    "  for ip,p in enumerate(pn):\n",
    "    fout += p*x**ip\n",
    "  cn = params[4:]\n",
    "  nh = len(cn)//2\n",
    "  for i in range(nh):\n",
    "    fout += cn[i]*np.sin(2*np.pi*(i+1)*x + cn[i+nh])\n",
    "  return fout\n",
    "\n",
    "def trend(x,*params):\n",
    "  fout = 0.\n",
    "  pn = params[:]\n",
    "  for ip,p in enumerate(pn):\n",
    "    fout += p*x**ip\n",
    "  return fout\n",
    "\n",
    "pt_is_all = {}\n",
    "pt_is_day = {}\n",
    "for ht in heights:\n",
    "    tmp = lef_is_all[ht].dropna()\n",
    "    t = np.array([(ti-dt.datetime(2004,1,1)).total_seconds() for ti in tmp.index])/86400./365.\n",
    "    y = tmp.co2[:]\n",
    "    p0 = np.array([300,10,1,1,20,20,20,20,0,0,0,0])\n",
    "    pt_is_all[ht] = opt.curve_fit(thoning,t,y,p0=p0,method='lm')[0]\n",
    "    lef_is_all[ht]['thoning'] = thoning(t,*pt_is_all[ht])\n",
    "    lef_is_all[ht]['trend'] = thoning(t,*pt_is_all[ht][:4])\n",
    "    \n",
    "    tmp = lef_is_day[ht].dropna()\n",
    "    t = np.array([(ti-dt.datetime(2004,1,1)).total_seconds() for ti in tmp.index])/86400./365.    \n",
    "    y = tmp.co2[:]\n",
    "    p0 = np.array([300,10,1,1,20,20,20,20,0,0,0,0])\n",
    "    pt_is_day[ht] = opt.curve_fit(thoning,t,y,p0=p0,method='lm')[0]\n",
    "    lef_is_day[ht]['thoning'] = thoning(t,*pt_is_day[ht])\n",
    "    lef_is_day[ht]['trend'] = thoning(t,*pt_is_day[ht][:4])\n",
    "\n",
    "pt_ac = {}\n",
    "for ht in list(lef_pfp.keys())[:-1]:\n",
    "    tmp = lef_pfp[ht].dropna()\n",
    "    inds = np.where(tmp.index.year > 2004)\n",
    "    t = np.array([(ti-dt.datetime(2004,1,1)).total_seconds() for ti in tmp.index])/86400./365.\n",
    "    y = tmp.co2[:]\n",
    "    p0 = np.array([300,10,1,1,20,20,20,20,0,0,0,0])\n",
    "    pt_ac[ht] = opt.curve_fit(thoning,t,y,p0=p0,method='lm')[0]\n",
    "    lef_pfp[ht]['thoning'] = thoning(t,*pt_ac[ht])\n",
    "    lef_pfp[ht]['trend'] = thoning(t,*pt_ac[ht][:4])\n",
    "\n",
    "pt_tc = {}\n",
    "for st in ['pa']:\n",
    "    tmp = lef_tc_day[st].dropna()\n",
    "    t = np.array([(ti-dt.datetime(2004,1,1)).total_seconds() for ti in tmp.index])/86400./365.\n",
    "    y = tmp.xco2[:]\n",
    "    p0 = np.array([300,10,1,0,20,20,20,20,0,0,0,0])\n",
    "    pt_tc[st] = opt.curve_fit(thoning,t,y,p0=p0,method='lm')[0]\n",
    "    lef_tc_day[st]['thoning'] = thoning(t,*pt_tc[st])\n",
    "    lef_tc_day[st]['trend'] = thoning(t,*pt_tc[st][:4])\n"
   ]
  },
  {
   "cell_type": "markdown",
   "metadata": {
    "id": "Tb23EquFl5o2"
   },
   "source": [
    "## Daytime Data and Curve Fit"
   ]
  },
  {
   "cell_type": "code",
   "execution_count": null,
   "metadata": {},
   "outputs": [],
   "source": [
    "fig,axs = plt.subplots(2,2,figsize=(12,8))\n",
    "\n",
    "ax = axs[0,0]\n",
    "t = np.array([(ti-dt.datetime(2004,1,1)).total_seconds() for ti in lef_is_all[heights[0]].index])/86400./365.\n",
    "ax.plot(t,lef_is_all[heights[0]]['co2'],'.')\n",
    "ax.plot(t,lef_is_all[heights[0]]['thoning'])\n",
    "ax.set_title(f'Curve Fits vs. In Situ Data ({heights[0]})')\n",
    "ax.set_ylabel('CO$_2$ Mole Fraction (ppm)')\n",
    "for i in range(0,22-4,2):\n",
    "    ax.axvspan(i,i+1,0,1,color='grey',alpha=0.1)\n",
    "ax.set_xticks(np.arange(0.5,22-4,1),np.arange(2004,2022),rotation=75);\n",
    "ax.set_xlim([0,18])\n",
    "\n",
    "ax = axs[0,1]\n",
    "t = np.array([(ti-dt.datetime(2004,1,1)).total_seconds() for ti in lef_is_day[heights[0]].index])/86400./365.\n",
    "ax.plot(t,lef_is_day[heights[0]]['co2'],'.')\n",
    "ax.plot(t,lef_is_day[heights[0]]['thoning'])\n",
    "ax.set_title(f'Curve Fits vs. Daytime In Situ Data ({heights[0]})')\n",
    "ax.set_ylabel('CO$_2$ Mole Fraction (ppm)')\n",
    "for i in range(0,22-4,2):\n",
    "    ax.axvspan(i,i+1,0,1,color='grey',alpha=0.1)\n",
    "ax.set_xticks(np.arange(0.5,22-4,1),np.arange(2004,2022),rotation=75);\n",
    "ax.set_xlim([0,18])\n",
    "\n",
    "ax = axs[1,0]\n",
    "t = np.array([(ti-dt.datetime(2004,1,1)).total_seconds() for ti in lef_pfp[2000].index])/86400./365.\n",
    "ax.plot(t,lef_pfp[2000]['co2'],'.')\n",
    "ax.plot(t,lef_pfp[2000]['thoning'])\n",
    "ax.set_title(f'Curve Fits vs. Aircraft PFP Data (2000m)')\n",
    "ax.set_ylabel('CO$_2$ Mole Fraction (ppm)')\n",
    "for i in range(0,22-4,2):\n",
    "    ax.axvspan(i,i+1,0,1,color='grey',alpha=0.1)\n",
    "ax.set_xticks(np.arange(0.5,22-4,1),np.arange(2004,2022),rotation=75);\n",
    "ax.set_xlim([0,18])\n",
    "\n",
    "ax = axs[1,1]\n",
    "t = np.array([(ti-dt.datetime(2004,1,1)).total_seconds() for ti in lef_tc_day['pa'].index])/86400./365.\n",
    "ax.plot(t,lef_tc_day['pa']['xco2'],'.')\n",
    "ax.plot(t,thoning(t,*pt_tc['pa']))\n",
    "ax.set_title('Curve Fits vs. Daytime TCCON Data')\n",
    "ax.set_ylabel('XCO$_2$ Mole Fraction (ppm)')\n",
    "for i in range(0,22-4,2):\n",
    "    ax.axvspan(i,i+1,0,1,color='grey',alpha=0.1)\n",
    "ax.set_xticks(np.arange(0.5,22-4,1),np.arange(2004,2022),rotation=75);\n",
    "ax.set_xlim([0,18])\n",
    "\n",
    "fig.tight_layout()"
   ]
  },
  {
   "cell_type": "markdown",
   "metadata": {
    "id": "tJ_VlKWdl5o2"
   },
   "source": [
    "## Examination of Residuals"
   ]
  },
  {
   "cell_type": "code",
   "execution_count": null,
   "metadata": {},
   "outputs": [],
   "source": [
    "fig,ax = plt.subplots(1,1)\n",
    "t = np.array([(ti-dt.datetime(2004,1,1)).total_seconds() for ti in lef_is_day[heights[0]].index])/86400./365.\n",
    "g1 = ax.plot(t,thoning(t,*pt_is_day[heights[0]])-lef_is_day[heights[0]]['co2'])\n",
    "t = np.array([(ti-dt.datetime(2004,1,1)).total_seconds() for ti in lef_tc_day['pa'].index])/86400./365.\n",
    "g2 = ax.plot(t,thoning(t,*pt_tc['pa'])-lef_tc_day['pa']['xco2'])\n",
    "for i in range(0,22-4,2):\n",
    "    ax.axvspan(i,i+1,0,1,color='grey',alpha=0.1)\n",
    "ax.set_xticks(np.arange(0.5,22-4,1),np.arange(2004,2022),rotation=75);\n",
    "ax.set_xlim([0,18])\n",
    "ax.set_title('LEF Seasonal Cycle and Trend Fit Daytime Residuals')\n",
    "ax.set_ylabel('Residual (ppm)')\n",
    "ax.legend([g1[0],g2[0]],['In Situ','TCCON'])"
   ]
  },
  {
   "cell_type": "markdown",
   "metadata": {
    "executionInfo": {
     "elapsed": 8787,
     "status": "ok",
     "timestamp": 1713285412118,
     "user": {
      "displayName": "Sean Crowell",
      "userId": "13194722322756500067"
     },
     "user_tz": -120
    },
    "id": "drjpJbTgSPtI",
    "outputId": "8e9a1849-815d-47e4-f5ee-638791e29c7b"
   },
   "source": [
    "## Questions\n",
    "\n",
    "1. How do you interpret the parameters in the curve fits?\n",
    "2. What do the large remaining variations in the fits versus the full time series represent?"
   ]
  },
  {
   "cell_type": "markdown",
   "metadata": {},
   "source": [
    "# Seasonal Cycle Analysis"
   ]
  },
  {
   "cell_type": "code",
   "execution_count": null,
   "metadata": {},
   "outputs": [],
   "source": [
    "labels = [heights[0]]\n",
    "fig,ax=plt.subplots(1,1)\n",
    "for ky in heights[:1]:\n",
    "    lef_is_day[ky]['detrend'] = lef_is_day[ky].thoning-lef_is_day[ky].trend\n",
    "    seas = lef_is_day[ky].groupby(lef_is_day[ky]['co2'].index.month)['detrend'].mean()\n",
    "    seas.plot(ax=ax)\n",
    "\n",
    "for ky in list(lef_pfp.keys())[:-1]:\n",
    "    lef_pfp[ky]['detrend'] = lef_pfp[ky].thoning-lef_pfp[ky].trend\n",
    "    seas = lef_pfp[ky].groupby(lef_pfp[ky]['co2'].index.month)['detrend'].mean()\n",
    "    seas.plot(ax=ax)\n",
    "    labels.append(f'{ky}magl')\n",
    "\n",
    "lef_tc_day['pa']['detrend'] = lef_tc_day['pa'].thoning-lef_tc_day['pa'].trend\n",
    "seas_tc = lef_tc_day['pa'].groupby(lef_tc_day['pa']['xco2'].index.month)['detrend'].mean()\n",
    "seas_tc.plot(ax=ax)\n",
    "labels.append('tccon')\n",
    "\n",
    "ax.legend(labels)\n",
    "ax.set_title(f'Seasonal Cycle in Daytime CO$_2$ at LEF')\n",
    "ax.set_ylabel('Seasonal Variation (ppm)')\n",
    "ax.legend(labels)\n",
    "#ax.set_ylim([-3,38])\n",
    "ax.plot([1,12],[0,0],'--k')\n",
    "ax.set_xticks([3,6,9],['March','June','Sept']);"
   ]
  },
  {
   "cell_type": "markdown",
   "metadata": {},
   "source": [
    "## Questions\n",
    "1. How does the seasonal cycle in the in situ data vary with altitude?\n",
    "2. Why is the TCCON seasonal cycle lagged relative to the in situ data?"
   ]
  },
  {
   "cell_type": "markdown",
   "metadata": {
    "id": "usLu4RHUl5o3"
   },
   "source": [
    "# Diurnal Cycle Analysis\n",
    "\n",
    "### With detrended and deseasonalized data, we can start to examine other frequencies of variability.  The first place to look is changes over the course of a day from season to season.\n",
    "\n",
    "## First create a detrended, deseasonalized time series by subtracting the Thoning fit to the daytime data. "
   ]
  },
  {
   "cell_type": "code",
   "execution_count": null,
   "metadata": {},
   "outputs": [],
   "source": [
    "for h in heights:\n",
    "    t = np.array([(ti-dt.datetime(2004,1,1)).total_seconds() for ti in lef_is_all[h].index])/86400./365.\n",
    "    lef_is_all[h]['co2_de'] = lef_is_all[h].co2-thoning(t,*pt_is_day[h])"
   ]
  },
  {
   "cell_type": "markdown",
   "metadata": {
    "id": "JeNPKIAjl5o3"
   },
   "source": [
    "## Now use groupby to plot diurnal cycle for 4 different months"
   ]
  },
  {
   "cell_type": "code",
   "execution_count": null,
   "metadata": {},
   "outputs": [],
   "source": [
    "fig,axs=plt.subplots(2,2,figsize=(10,10))\n",
    "for isn,sn in enumerate(['MAM','JJA','SON','DJF']):\n",
    "  ax = axs[isn//2,isn%2]\n",
    "  for ky in heights:\n",
    "    inds = np.where((lef_is_all[ky].index.month > 3*isn+2)*(lef_is_all[ky].index.month <= 3*isn+5))\n",
    "    if sn == 'DJF':\n",
    "      inds = np.where((lef_is_all[ky].index.month == 12) + (lef_is_all[ky].index.month < 3))\n",
    "    ssn_ts = lef_is_all[ky].iloc[inds]\n",
    "    ts = ssn_ts.groupby(ssn_ts['co2_de'].index.hour)['co2_de'].mean()\n",
    "    ax.plot(ts)\n",
    "  ax.legend(heights)\n",
    "  ax.set_title(f'Diurnal Cycle at LEF for {sn}')\n",
    "  ax.set_ylabel('Diurnal Variation (ppm)')\n",
    "  ax.legend(heights)\n",
    "  ax.set_ylim([-3,38])\n",
    "  ax.plot([0,24],[0,0],'--k')\n",
    "  ax.set_xlabel('Hour of Day (UTC)')"
   ]
  },
  {
   "cell_type": "markdown",
   "metadata": {
    "id": "WU52XpRmDcUT"
   },
   "source": [
    "## Questions\n",
    "\n",
    "1. Why did we choose the daytime data seasonality and trend to subtract? \n",
    "2. Why are the mole fractions in the 30m data so much larger than the others at nighttime, but overlap with the others in the daytime?\n",
    "3. What drives the differences in daytime minimum mole fractions between the different seasons?\n",
    "4. What drives the differences in nighttime maximum mole fractions between the different seasons?\n",
    "5. What are we assuming about the statistics of the detrended, deseasonalized time series when we make these plots?"
   ]
  },
  {
   "cell_type": "markdown",
   "metadata": {
    "id": "SkQcTc3Jl5o3"
   },
   "source": [
    "# Extra Credit: Analyze Correlations with Local Eddy Covariance Flux Observations\n",
    "These data are taken from the Ameriflux measurement site maintained by Ankur Desai's group at the University of Wisconsin and hosted at https://ameriflux.lbl.gov/doi/AmeriFlux/US-PFa/.\n",
    "\n",
    "Descriptions of variables can be found at https://ameriflux.lbl.gov/data/aboutdata/data-variables/.\n",
    "\n",
    "**What is the spatial scale of flux sensed here**"
   ]
  },
  {
   "cell_type": "code",
   "execution_count": null,
   "metadata": {},
   "outputs": [],
   "source": [
    "ec = pd.read_csv( os.path.join(global_paths['input_folder'], obs_settings['ameriflux_file']), skiprows=2 )"
   ]
  },
  {
   "cell_type": "code",
   "execution_count": null,
   "metadata": {},
   "outputs": [],
   "source": [
    "ec.keys()"
   ]
  },
  {
   "cell_type": "markdown",
   "metadata": {
    "id": "-fJKHjCql5o3"
   },
   "source": [
    "## First create a datetime index so we can do time series analysis"
   ]
  },
  {
   "cell_type": "code",
   "execution_count": null,
   "metadata": {},
   "outputs": [],
   "source": [
    "ts = ec['TIMESTAMP_START'].values\n",
    "ts_str = [str(t) for t in ts]\n",
    "YYYY = [int(t[:4]) for t in ts_str]\n",
    "MM = [int(t[4:6]) for t in ts_str]\n",
    "DD = [int(t[6:8]) for t in ts_str]\n",
    "hh = [int(t[8:10]) for t in ts_str]\n",
    "mm = [int(t[10:12]) for t in ts_str]\n",
    "dts = np.array([dt.datetime(YYYY[i],MM[i],DD[i],hh[i],mm[i],0) + dt.timedelta(seconds=7*3600) for i in range(len(ts_str))])\n",
    "solar_time = np.array([dts[i] + dt.timedelta(hours=-90.2723/180. * 12) for i in range(len(dts))])\n",
    "\n",
    "#Convert UTC to Solar/Local Time\n",
    "ec.index = solar_time"
   ]
  },
  {
   "cell_type": "markdown",
   "metadata": {
    "id": "F3cXhR-2l5o3"
   },
   "source": [
    "## Filter out bad data"
   ]
  },
  {
   "cell_type": "code",
   "execution_count": null,
   "metadata": {},
   "outputs": [],
   "source": [
    "ec.replace(-9999,np.nan,inplace=True)"
   ]
  },
  {
   "cell_type": "markdown",
   "metadata": {
    "id": "GZ_1Kj_Al5o3"
   },
   "source": [
    "## U$^*$ Filtering\n",
    "We need to exclude data where the winds are not sufficiently turbulent to satisfy the eddy covariance flux theory:\n",
    "https://www.bgc-jena.mpg.de/5624872/Ustar-filtering\n",
    "\n",
    "**Simple explanation:** exclude data below a threshold u$^*$ value where the data has a strong linear dependency.  In general this threshold is seasonally dependent and site-specific."
   ]
  },
  {
   "cell_type": "code",
   "execution_count": null,
   "metadata": {},
   "outputs": [],
   "source": [
    "ec['ustar_cut'] = pd.cut(ec['USTAR_1_1_1'],np.arange(0,5,0.2))\n",
    "plt.figure(figsize=(10,4))\n",
    "sns.boxplot(x=ec['ustar_cut'],y=np.abs(ec['NEE_PI_1_1_1']),showfliers=False,)\n",
    "plt.xlim([0,10])"
   ]
  },
  {
   "cell_type": "markdown",
   "metadata": {
    "id": "SC9lPXqC1hh-"
   },
   "source": []
  },
  {
   "cell_type": "markdown",
   "metadata": {
    "id": "99MiG_I0zanj"
   },
   "source": [
    "### Net Ecosystem Exchange (NEE) with PI corrections (_PI) and gap filling (_F)"
   ]
  },
  {
   "cell_type": "code",
   "execution_count": null,
   "metadata": {},
   "outputs": [],
   "source": [
    "ec['NEE_PI_F'].plot(title='Net Ecosystem Exchange ($\\mu$mol m$^{-2}$)',ylabel='Net Flux ($\\mu$mol m$^{-2}$)');"
   ]
  },
  {
   "cell_type": "markdown",
   "metadata": {
    "id": "vUeuruR1z8dD"
   },
   "source": [
    "### PIs separate the NEE into Gross Ecosystem Exchange (GEE) and Ecosystem Respiration (RECO) - typically temperature predicts RECO and GEE is taken as the residual flux."
   ]
  },
  {
   "cell_type": "code",
   "execution_count": null,
   "metadata": {},
   "outputs": [],
   "source": [
    "ec.NEE_PI_F.groupby(pd.Grouper(freq='m')).mean()[dt.datetime(2009,1,1):dt.datetime(2019,1,1)].plot()\n",
    "ec.RECO_PI_F.groupby(pd.Grouper(freq='m')).mean()[dt.datetime(2009,1,1):dt.datetime(2019,1,1)].plot()\n",
    "(ec.GPP_PI_F).groupby(pd.Grouper(freq='m')).mean()[dt.datetime(2009,1,1):dt.datetime(2019,1,1)].plot()\n",
    "plt.legend(['NEE (to Atmosphere)','RECO','GPP'])\n",
    "plt.ylabel('CO$_2$ Flux ($\\mu$mol m$^{-2}$ s$^{-1}$)');\n",
    "plt.title('Monthly CO$_2$ Flux from 2016 to 2018 at LEF');"
   ]
  },
  {
   "cell_type": "markdown",
   "metadata": {},
   "source": [
    "### Seasonality of GPP and RECO tell us about ecosystem processes "
   ]
  },
  {
   "cell_type": "code",
   "execution_count": null,
   "metadata": {},
   "outputs": [],
   "source": [
    "ec.NEE_PI_F.groupby(ec.index.month).mean().plot()\n",
    "ec.RECO_PI_F.groupby(ec.index.month).mean().plot()\n",
    "ec.GPP_PI_F.groupby(ec.index.month).mean().plot()\n",
    "plt.legend(['NEE (to Atmosphere)','RECO','GPP'])\n",
    "plt.ylabel('CO$_2$ Flux ($\\mu$mol m$^{-2}$ s$^{-1}$)');\n",
    "plt.title('Seasonal Cycle of CO$_2$ Flux at LEF');\n",
    "plt.plot(np.array([1,12]),np.zeros(2),'--k')\n",
    "plt.gca().set_xticks([3,6,9],['Mar','June','Sept']);"
   ]
  },
  {
   "cell_type": "markdown",
   "metadata": {},
   "source": [
    "#### Questions:\n",
    "1. What drives the seasonal cycle of GPP (i.e., photosynthesis)?\n",
    "2. What drives the seasonal cycle of RECO? Does it make sense that it is correlated with GPP?\n",
    "3. What drives the seasonal cycle of NEE?"
   ]
  },
  {
   "cell_type": "markdown",
   "metadata": {
    "id": "z-C8vfHyl5o4"
   },
   "source": [
    "\n",
    "\n",
    "## Now plot the diurnal net flux versus the de-trended, de-seasonalized mole fraction."
   ]
  },
  {
   "cell_type": "code",
   "execution_count": null,
   "metadata": {},
   "outputs": [],
   "source": [
    "pt,lb = [],[]\n",
    "pt.append(plt.plot([0,0],[1,1],color='tab:red'))\n",
    "pt.append(plt.plot([0,0],[1,1],'--',color='k'))\n",
    "plt.close()\n",
    "\n",
    "fig,axs=plt.subplots(2,2,figsize=(15,8))\n",
    "for isn,sn in enumerate(['MAM','JJA','SON','DJF']):\n",
    "  ax = axs[isn//2,isn%2]\n",
    "  ky = f'NEE_PI'\n",
    "  inds = np.where((ec.index.month > 3*isn+2)*(ec.index.month <= 3*isn+5))\n",
    "  if sn == 'DJF':\n",
    "    inds = np.where((ec.index.month == 12) + (ec.index.month < 3))\n",
    "  ssn_ts = ec.iloc[inds]\n",
    "  ts = ssn_ts.groupby(ssn_ts.index.hour)[ky].mean()\n",
    "  ax.plot(ts,color='tab:red')\n",
    "\n",
    "  ax2 = ax.twinx()\n",
    "  for ky in heights:\n",
    "    inds = np.where((lef_is_all[ky].index.month > 3*isn+2)*(lef_is_all[ky].index.month <= 3*isn+5))\n",
    "    if sn == 'DJF':\n",
    "      inds = np.where((lef_is_all[ky].index.month == 12) + (lef_is_all[ky].index.month < 3))\n",
    "    ssn_ts = lef_is_all[ky].iloc[inds]\n",
    "    ts = ssn_ts.groupby(ssn_ts['co2_de'].index.hour)['co2_de'].mean()\n",
    "    ax2.plot(ts,'--')\n",
    "  ax.set_title(f'Diurnal Cycle at LEF for {sn}')\n",
    "  ax.set_ylabel('Diurnal Variation ($\\mu$mol m$^{-2}$ s$^{-1}$)',color='tab:red')\n",
    "  ax2.set_ylim([-3,38])\n",
    "  ax2.plot([0,24],[0,0],'--k')\n",
    "  ax.legend([pt[0][0],pt[1][0]],['Flux','Conc Anom'],loc='upper left')\n",
    "\n",
    "  ax.set_title(f'Diurnal Cycle at LEF for {sn}')\n",
    "  ax2.set_ylabel('Diurnal Variation (ppm)')\n",
    "  ax2.legend(heights)\n",
    "  ax.set_ylim([-15,8])\n",
    "  ax.plot([0,24],[0,0],'k')\n",
    "  ax.set_xlabel('Hour of Day (Local)')\n",
    "plt.tight_layout()"
   ]
  },
  {
   "cell_type": "markdown",
   "metadata": {
    "id": "vOjrNN4Fl5o4"
   },
   "source": [
    "## Questions\n",
    "\n",
    "1. What drives the differences in flux from season to season?\n",
    "2. What drives the daily cycle of flux?\n",
    "3. Are the flux and mole fraction time series correlated? Is there an obvious lag?  What would be causing that lag?"
   ]
  },
  {
   "cell_type": "code",
   "execution_count": null,
   "metadata": {},
   "outputs": [],
   "source": []
  }
 ],
 "metadata": {
  "language_info": {
   "name": "python"
  }
 },
 "nbformat": 4,
 "nbformat_minor": 4
}
