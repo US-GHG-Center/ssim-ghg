{
 "cells": [
  {
   "cell_type": "code",
   "execution_count": null,
   "metadata": {},
   "outputs": [],
   "source": [
    "import matplotlib.pyplot as plt\n",
    "import datetime as dt\n",
    "import pytz\n",
    "import numpy as np\n",
    "from h5py import File\n",
    "import pandas as pd\n",
    "import xarray as xr\n",
    "from glob import glob\n",
    "import scipy.optimize as opt\n",
    "import seaborn as sns\n",
    "\n",
    "!pip install pysolar\n",
    "from pysolar.solar import get_altitude,get_altitude_fast"
   ]
  },
  {
   "cell_type": "markdown",
   "metadata": {
    "id": "Dl2CaCnsl5o0"
   },
   "source": [
    "# Analysis of LEF data at 3 different levels\n",
    "## Read in LEF data at all levels and create afternoon averages for each day\n"
   ]
  },
  {
   "cell_type": "code",
   "execution_count": null,
   "metadata": {},
   "outputs": [],
   "source": [
    "utc = pytz.timezone('UTC')\n",
    "local_tz = pytz.timezone('America/Chicago')\n",
    "files = glob('../obspack_co2_1_GLOBALVIEWplus_v9.1_2023-12-08/data/nc/co2_lef_tower-insitu_1_allvalid*.nc')\n",
    "lef_all = {}\n",
    "lef_day = {}\n",
    "for fi in files:\n",
    "    ht = int(fi.split('-')[-1].split('.nc')[0].split('magl')[0])\n",
    "    tmp = xr.open_dataset(fi)\n",
    "    lef_all[ht] = pd.DataFrame({'co2':tmp['value'].data*1e6,'lat':tmp['latitude'].data,'lon':tmp['longitude']},index=tmp['time'].data)\n",
    "    solar_time = np.array([lef_all[ht].index[i] + dt.timedelta(hours=lef_all[ht]['lon'].iloc[i]/180. * 12) for i in range(len(lef_all[ht].index))])\n",
    "    lef_all[ht].index = solar_time[:]\n",
    "    \n",
    "for ht in lef_all.keys():\n",
    "    lef_day[ht] = lef_all[ht].between_time('12:00','16:00').groupby(pd.Grouper(freq='D')).mean()\n",
    "    lef_day[ht].dropna()"
   ]
  },
  {
   "cell_type": "markdown",
   "metadata": {
    "id": "4nbtagZ_l5o1"
   },
   "source": [
    "## Plot full and afternoon averaged time series to see impacts of filtering"
   ]
  },
  {
   "cell_type": "code",
   "execution_count": null,
   "metadata": {},
   "outputs": [],
   "source": [
    "fig,axs = plt.subplots(2,1,figsize=(10,8))\n",
    "heights = [30,122,396]\n",
    "start_date = dt.datetime(2000,1,1)\n",
    "end_date = dt.datetime(2020,1,1)\n",
    "for ky in heights:\n",
    "  lef_all[ky][start_date:end_date].co2.plot(title='LEF Full CO$_2$ Record',ax=axs[0])\n",
    "  lef_day[ky][start_date:end_date].co2.plot(title='LEF Afternoon Daily Average CO$_2$',ax=axs[1])\n",
    "axs[0].legend(heights,ncol=3)\n",
    "axs[0].set_ylabel(r'CO$_2$ Dry Air Mole Fraction (ppm)');\n",
    "axs[0].set_xticks([])\n",
    "xl = axs[1].get_xlim()\n",
    "axs[0].set_xlim(xl)\n",
    "axs[1].legend(heights,ncol=3)\n",
    "axs[1].set_ylabel(r'CO$_2$ Dry Air Mole Fraction (ppm)');"
   ]
  },
  {
   "cell_type": "markdown",
   "metadata": {
    "id": "WSYXReGV5YUr"
   },
   "source": [
    "#### Zoom in on a few recent years\n",
    "\n",
    "As long as you have a DateTime index for your DataFrame, you can subsample with the DateTime objects directly"
   ]
  },
  {
   "cell_type": "code",
   "execution_count": null,
   "metadata": {},
   "outputs": [],
   "source": [
    "fig,axs = plt.subplots(2,1,figsize=(10,8))\n",
    "heights = [30,122,396]\n",
    "start_date = dt.datetime(2016,1,1)\n",
    "end_date = dt.datetime(2019,1,1)\n",
    "for ky in heights:\n",
    "  lef_all[ky][start_date:end_date].co2.plot(title='LEF Full CO$_2$ Record',ax=axs[0])\n",
    "  lef_day[ky][start_date:end_date].co2.plot(title='LEF Afternoon Daily Average CO$_2$',ax=axs[1])\n",
    "axs[0].legend(heights,ncol=3)\n",
    "axs[0].set_ylabel(r'CO$_2$ Dry Air Mole Fraction (ppm)');\n",
    "axs[0].set_xticks([])\n",
    "xl = axs[1].get_xlim()\n",
    "axs[0].set_xlim(xl)\n",
    "axs[1].legend(heights,ncol=3)\n",
    "axs[1].set_ylabel(r'CO$_2$ Dry Air Mole Fraction (ppm)');"
   ]
  },
  {
   "cell_type": "markdown",
   "metadata": {},
   "source": [
    "## Questions\n",
    "1. What happened to the \"spikes\" in the full data record when we only look at the daytime average data?\n",
    "2. Why do the time series look so different?"
   ]
  },
  {
   "cell_type": "markdown",
   "metadata": {
    "id": "lIs4d9Ttl5o2"
   },
   "source": [
    "## Fit a trend and seasonal cycle to the daytime data\n",
    "### We treat the trend with a polynomial and the seasonality as a pure sinusoid or a skewed sinusoid:\n",
    "\n",
    "Thoning fit: $f(t) = a_o + a_1 t + ... + a_n t^n + \\Sigma_{i=1}^{nh} c_i \\sin(2\\pi i t + \\phi_i)$\n",
    "\n",
    "Skew Sine Wave: $f(t) = a_o + + a_1 t + ... + a_n t^n + c_o \\sin[\\omega (t-\\phi_1) + \\cos^{-1}(c_1\\cos(\\omega(t-\\phi_2)))]$"
   ]
  },
  {
   "cell_type": "code",
   "execution_count": null,
   "metadata": {},
   "outputs": [],
   "source": [
    "def thoning(x,*params):\n",
    "  fout = 0.\n",
    "  pn = params[:4]\n",
    "  for ip,p in enumerate(pn):\n",
    "    fout += p*x**ip\n",
    "  cn = params[4:]\n",
    "  nh = len(cn)//2\n",
    "  for i in range(nh):\n",
    "    fout += cn[i]*np.sin(2*np.pi*(i+1)*x + cn[i+nh])\n",
    "  return fout\n",
    "\n",
    "def skewsine(x,*params):\n",
    "    fout = 0.\n",
    "    pn = params[:4]\n",
    "    for ip,p in enumerate(pn):\n",
    "        fout += p*x**ip\n",
    "    cn = params[4:]\n",
    "    freq = 2*np.pi/365.\n",
    "    fout += cn[0]*np.sin(freq*(x-cn[1])+np.arccos(cn[2]*np.cos(freq*(x-cn[3]))))\n",
    "    return fout\n",
    "\n",
    "def trend(x,*params):\n",
    "  fout = 0.\n",
    "  pn = params[:]\n",
    "  for ip,p in enumerate(pn):\n",
    "    fout += p*x**ip\n",
    "  return fout\n",
    "\n",
    "pt = {}\n",
    "for ht in [30,122,396]:\n",
    "    tmp = lef_day[ht].dropna()\n",
    "    inds = np.where(tmp.index.year > 2005)\n",
    "    t = np.array([(ti-dt.datetime(2000,1,1)).total_seconds() for ti in tmp.index[inds]])/86400./365.\n",
    "    y = tmp.co2.iloc[inds[0]]\n",
    "    p0 = np.array([300,10,1,0,20,20,20,20,0,0,0,0])\n",
    "    pt[ht] = opt.curve_fit(thoning,t,y,p0=p0,method='lm')[0]\n",
    "    t = np.array([(ti-dt.datetime(2000,1,1)).total_seconds() for ti in lef_day[ht].index])/86400./365.\n",
    "    lef_day[ht]['thoning'] = thoning(t,*pt[ht])\n",
    "    lef_day[ht]['trend'] = thoning(t,*pt[ht][:4])\n",
    "    \n",
    "ps = {}\n",
    "for ht in [30,122,396]:\n",
    "    tmp = lef_day[ht].dropna()\n",
    "    inds = np.where(tmp.index.year > 2005)\n",
    "    t = np.array([(ti-dt.datetime(2000,1,1)).total_seconds() for ti in tmp.index[inds]])/86400.\n",
    "    y = tmp.co2.iloc[inds[0]]\n",
    "    p0 = np.array([300,10,1,0,-40,-100,0.5,-300])\n",
    "    ps[ht] = opt.curve_fit(skewsine,t,y,p0=p0,method='lm')[0]\n",
    "    t = np.array([(ti-dt.datetime(2000,1,1)).total_seconds() for ti in lef_day[ht].index])/86400./365.\n",
    "    lef_day[ht]['skewsine'] = skewsine(t,*ps[ht])\n"
   ]
  },
  {
   "cell_type": "markdown",
   "metadata": {
    "id": "Tb23EquFl5o2"
   },
   "source": [
    "## Comparison Between Fitted Curves"
   ]
  },
  {
   "cell_type": "code",
   "execution_count": null,
   "metadata": {},
   "outputs": [],
   "source": [
    "t = np.array([(ti-dt.datetime(2000,1,1)).total_seconds() for ti in lef_day[30].index])/86400./365.\n",
    "plt.plot(t,lef_day[30]['co2'],'.')\n",
    "plt.plot(t,thoning(t,*pt[30]))\n",
    "plt.plot(t,skewsine(t*365,*ps[30]))\n",
    "plt.title('Curve Fits vs. Daytime Data (30m altitude)')\n",
    "plt.ylabel('CO$_2$ Mole Fraction (ppm)')\n",
    "for i in range(0,23,2):\n",
    "    plt.axvspan(i,i+1,0,1,color='grey',alpha=0.1)\n",
    "plt.xticks(np.arange(0.5,23,1),np.arange(2000,2023),rotation=75);\n"
   ]
  },
  {
   "cell_type": "code",
   "execution_count": null,
   "metadata": {},
   "outputs": [],
   "source": [
    "fig,ax=plt.subplots(1,1)\n",
    "for ky in heights:\n",
    "    lef_day[ky]['detrend'] = lef_day[ky].thoning-lef_day[ky].trend\n",
    "    seas = lef_day[ky].groupby(lef_day[ky]['co2'].index.month)['detrend'].mean()\n",
    "    seas.plot()\n",
    "ax.legend(heights)\n",
    "ax.set_title(f'Seasonal Cycle in Daytime CO$_2$ at LEF')\n",
    "ax.set_ylabel('Seasonal Variation (ppm)')\n",
    "ax.legend(heights)\n",
    "#ax.set_ylim([-3,38])\n",
    "ax.plot([1,12],[0,0],'--k')\n",
    "ax.set_xlabel('Hour of Day (LST)')"
   ]
  },
  {
   "cell_type": "markdown",
   "metadata": {
    "id": "tJ_VlKWdl5o2"
   },
   "source": [
    "## Examination of Residuals"
   ]
  },
  {
   "cell_type": "code",
   "execution_count": null,
   "metadata": {},
   "outputs": [],
   "source": [
    "plt.plot(t,thoning(t,*pt[30])-lef_day[30]['co2'])\n",
    "for i in range(0,23,2):\n",
    "    plt.axvspan(i,i+1,0,1,color='grey',alpha=0.1)\n",
    "plt.xticks(np.arange(0.5,23,1),np.arange(2000,2023),rotation=75);\n",
    "plt.xlim([6,23])\n",
    "plt.title('LEF (30m) Seasonal Cycle and Trend Fit Daytime Residuals')\n",
    "plt.ylabel('Residual (ppm)')"
   ]
  },
  {
   "cell_type": "code",
   "execution_count": null,
   "metadata": {},
   "outputs": [],
   "source": [
    "for h in heights:\n",
    "    t = np.array([(ti-dt.datetime(2000,1,1)).total_seconds() for ti in lef_all[h].index])/86400./365\n",
    "    plt.plot(lef_all[h].co2-thoning(t,*pt[h]))\n",
    "plt.title('LEF Detrended, Deseasonalized Time Series')\n",
    "plt.ylabel('CO$_2$ (ppm)')\n",
    "plt.legend(heights)"
   ]
  },
  {
   "cell_type": "markdown",
   "metadata": {
    "executionInfo": {
     "elapsed": 8787,
     "status": "ok",
     "timestamp": 1713285412118,
     "user": {
      "displayName": "Sean Crowell",
      "userId": "13194722322756500067"
     },
     "user_tz": -120
    },
    "id": "drjpJbTgSPtI",
    "outputId": "8e9a1849-815d-47e4-f5ee-638791e29c7b"
   },
   "source": [
    "## Questions\n",
    "\n",
    "1. How do you interpret the parameters in the curve fits?\n",
    "2. How would you interpret the residuals in the daytime data after fitting the curves?\n",
    "3. What do the large remaining variations in the fits versus the full time series represent?"
   ]
  },
  {
   "cell_type": "markdown",
   "metadata": {
    "id": "usLu4RHUl5o3"
   },
   "source": [
    "# Diurnal Cycle Analysis\n",
    "\n",
    "With detrended and deseasonalized data, we can start to examine other frequencies of variability.  The first place to look is changes over the course of a day from season to season.\n",
    "\n",
    "## First create a detrended, deseasonalized time series:"
   ]
  },
  {
   "cell_type": "code",
   "execution_count": null,
   "metadata": {},
   "outputs": [],
   "source": [
    "for h in heights:\n",
    "    tmp = lef_all[h]\n",
    "    t = np.array([(ti-dt.datetime(2000,1,1)).total_seconds() for ti in tmp.index])/86400./365.\n",
    "    lef_all[h]['co2_de'] = lef_all[h].co2-thoning(t,*pt[h])"
   ]
  },
  {
   "cell_type": "markdown",
   "metadata": {
    "id": "JeNPKIAjl5o3"
   },
   "source": [
    "## Now use groupby to plot diurnal cycle for 4 different months"
   ]
  },
  {
   "cell_type": "code",
   "execution_count": null,
   "metadata": {},
   "outputs": [],
   "source": [
    "fig,axs=plt.subplots(2,2,figsize=(10,10))\n",
    "for isn,sn in enumerate(['MAM','JJA','SON','DJF']):\n",
    "  ax = axs[isn//2,isn%2]\n",
    "  for ky in heights:\n",
    "    inds = np.where((lef_all[ky].index.month > 3*isn+2)*(lef_all[ky].index.month <= 3*isn+5))\n",
    "    if sn == 'DJF':\n",
    "      inds = np.where((lef_all[ky].index.month == 12) + (lef_all[ky].index.month < 3))\n",
    "    ssn_ts = lef_all[ky].iloc[inds]\n",
    "    ts = ssn_ts.groupby(ssn_ts['co2_de'].index.hour)['co2_de'].mean()\n",
    "    ax.plot(ts)\n",
    "  ax.legend(heights)\n",
    "  ax.set_title(f'Diurnal Cycle at LEF for {sn}')\n",
    "  ax.set_ylabel('Diurnal Variation (ppm)')\n",
    "  ax.legend(heights)\n",
    "  ax.set_ylim([-3,38])\n",
    "  ax.plot([0,24],[0,0],'--k')\n",
    "  ax.set_xlabel('Hour of Day (UTC)')"
   ]
  },
  {
   "cell_type": "markdown",
   "metadata": {
    "id": "WU52XpRmDcUT"
   },
   "source": [
    "## Questions\n",
    "\n",
    "1. Why are the mole fractions in the 30m data so much larger than the others at nighttime, but overlap with the others in the daytime?\n",
    "2. What drives the differences in daytime minimum mole fractions between the different seasons?\n",
    "3. What drives the differences in nighttime maximum mole fractions between the different seasons?\n",
    "4. What are we assuming about the statistics of the detrended, deseasonalized time series when we make these plots?"
   ]
  },
  {
   "cell_type": "markdown",
   "metadata": {
    "id": "SkQcTc3Jl5o3"
   },
   "source": [
    "# Extra Credit: Analyze Correlations with Local Eddy Covariance Flux Observations\n",
    "These data are taken from the Ameriflux measurement site maintained by Ankur Desai's group at the University of Wisconsin and hosted at https://ameriflux.lbl.gov/doi/AmeriFlux/US-PFa/.\n",
    "\n",
    "Descriptions of variables can be found at https://ameriflux.lbl.gov/data/aboutdata/data-variables/.\n",
    "\n",
    "**What is the spatial scale of flux sensed here**"
   ]
  },
  {
   "cell_type": "code",
   "execution_count": null,
   "metadata": {},
   "outputs": [],
   "source": [
    "ec = pd.read_csv('..//AMF_US-PFa_BASE-BADM_28-5/AMF_US-PFa_BASE_HR_28-5.csv',skiprows=2)"
   ]
  },
  {
   "cell_type": "code",
   "execution_count": null,
   "metadata": {},
   "outputs": [],
   "source": [
    "ec.keys()"
   ]
  },
  {
   "cell_type": "markdown",
   "metadata": {
    "id": "-fJKHjCql5o3"
   },
   "source": [
    "## First create a datetime index so we can do time series analysis"
   ]
  },
  {
   "cell_type": "code",
   "execution_count": null,
   "metadata": {},
   "outputs": [],
   "source": [
    "ts = ec['TIMESTAMP_START'].values\n",
    "ts_str = [str(t) for t in ts]\n",
    "YYYY = [int(t[:4]) for t in ts_str]\n",
    "MM = [int(t[4:6]) for t in ts_str]\n",
    "DD = [int(t[6:8]) for t in ts_str]\n",
    "hh = [int(t[8:10]) for t in ts_str]\n",
    "mm = [int(t[10:12]) for t in ts_str]\n",
    "dts = np.array([dt.datetime(YYYY[i],MM[i],DD[i],hh[i],mm[i],0) + dt.timedelta(seconds=7*3600) for i in range(len(ts_str))])\n",
    "solar_time = np.array([dts[i] + dt.timedelta(hours=-90.2723/180. * 12) for i in range(len(dts))])\n",
    "\n",
    "#Convert UTC to Solar/Local Time\n",
    "ec.index = solar_time"
   ]
  },
  {
   "cell_type": "markdown",
   "metadata": {
    "id": "F3cXhR-2l5o3"
   },
   "source": [
    "## Filter out bad data"
   ]
  },
  {
   "cell_type": "code",
   "execution_count": null,
   "metadata": {},
   "outputs": [],
   "source": [
    "ec.replace(-9999,np.nan,inplace=True)"
   ]
  },
  {
   "cell_type": "markdown",
   "metadata": {
    "id": "GZ_1Kj_Al5o3"
   },
   "source": [
    "## U$^*$ Filtering\n",
    "We need to exclude data where the winds are not sufficiently turbulent to satisfy the eddy covariance flux theory:\n",
    "https://www.bgc-jena.mpg.de/5624872/Ustar-filtering\n",
    "\n",
    "**Simple explanation:** exclude data below a threshold u$^*$ value where the data has a strong linear dependency.  In general this threshold is seasonally dependent and site-specific."
   ]
  },
  {
   "cell_type": "code",
   "execution_count": null,
   "metadata": {},
   "outputs": [],
   "source": [
    "ec['ustar_cut'] = pd.cut(ec['USTAR_1_1_1'],np.arange(0,5,0.2))\n",
    "plt.figure(figsize=(10,4))\n",
    "sns.boxplot(x=ec['ustar_cut'],y=np.abs(ec['NEE_PI_1_1_1']),showfliers=False,)\n",
    "plt.xlim([0,10])"
   ]
  },
  {
   "cell_type": "markdown",
   "metadata": {
    "id": "SC9lPXqC1hh-"
   },
   "source": []
  },
  {
   "cell_type": "markdown",
   "metadata": {
    "id": "99MiG_I0zanj"
   },
   "source": [
    "### Net Ecosystem Exchange (NEE) with PI corrections (_PI) and gap filling (_F)"
   ]
  },
  {
   "cell_type": "code",
   "execution_count": null,
   "metadata": {},
   "outputs": [],
   "source": [
    "ec['NEE_PI_F'].plot(title='Net Ecosystem Exchange ($\\mu$mol m$^{-2}$)',ylabel='Net Flux ($\\mu$mol m$^{-2}$)');"
   ]
  },
  {
   "cell_type": "markdown",
   "metadata": {
    "id": "vUeuruR1z8dD"
   },
   "source": [
    "### PIs separate the NEE into Gross Ecosystem Exchange (GEE) and Ecosystem Respiration (RECO) - typically temperature predicts RECO and GEE is taken as the residual flux."
   ]
  },
  {
   "cell_type": "code",
   "execution_count": null,
   "metadata": {},
   "outputs": [],
   "source": [
    "ec.NEE_PI_F.groupby(pd.Grouper(freq='m')).mean()[dt.datetime(2009,1,1):dt.datetime(2019,1,1)].plot()\n",
    "ec.RECO_PI_F.groupby(pd.Grouper(freq='m')).mean()[dt.datetime(2009,1,1):dt.datetime(2019,1,1)].plot()\n",
    "(ec.GPP_PI_F).groupby(pd.Grouper(freq='m')).mean()[dt.datetime(2009,1,1):dt.datetime(2019,1,1)].plot()\n",
    "plt.legend(['NEE (to Atmosphere)','RECO','GPP'])\n",
    "plt.ylabel('CO$_2$ Flux ($\\mu$mol m$^{-2}$ s$^{-1}$)');\n",
    "plt.title('Monthly CO$_2$ Flux from 2016 to 2018 at LEF');"
   ]
  },
  {
   "cell_type": "markdown",
   "metadata": {},
   "source": [
    "### Seasonality of GPP and RECO tell us about ecosystem processes "
   ]
  },
  {
   "cell_type": "code",
   "execution_count": null,
   "metadata": {},
   "outputs": [],
   "source": [
    "ec.NEE_PI_F.groupby(ec.index.month).mean().plot()\n",
    "ec.RECO_PI_F.groupby(ec.index.month).mean().plot()\n",
    "ec.GPP_PI_F.groupby(ec.index.month).mean().plot()\n",
    "#ec.RECO_PI_F.groupby(pd.Grouper(freq='m')).mean()[dt.datetime(2009,1,1):dt.datetime(2019,1,1)].plot()\n",
    "#(ec.GPP_PI_F).groupby(pd.Grouper(freq='m')).mean()[dt.datetime(2009,1,1):dt.datetime(2019,1,1)].plot()\n",
    "plt.legend(['NEE (to Atmosphere)','RECO','GPP'])\n",
    "plt.ylabel('CO$_2$ Flux ($\\mu$mol m$^{-2}$ s$^{-1}$)');\n",
    "plt.title('Seasonal Cycle of CO$_2$ Flux at LEF');\n",
    "plt.plot(np.array([1,12]),np.zeros(2),'--k')\n",
    "plt.gca().set_xticks([3,6,9],['Mar','June','Sept']);"
   ]
  },
  {
   "cell_type": "markdown",
   "metadata": {},
   "source": [
    "#### Questions:\n",
    "1. What drives the seasonal cycle of GPP (i.e., photosynthesis)?\n",
    "2. What drives the seasonal cycle of RECO? Does it make sense that it is correlated with GPP?\n",
    "3. What drives the seasonal cycle of NEE?"
   ]
  },
  {
   "cell_type": "markdown",
   "metadata": {
    "id": "z-C8vfHyl5o4"
   },
   "source": [
    "\n",
    "\n",
    "## Now plot the diurnal net flux versus the de-trended, de-seasonalized mole fraction."
   ]
  },
  {
   "cell_type": "code",
   "execution_count": null,
   "metadata": {},
   "outputs": [],
   "source": [
    "pt,lb = [],[]\n",
    "pt.append(plt.plot([0,0],[1,1],color='tab:red'))\n",
    "pt.append(plt.plot([0,0],[1,1],'--',color='k'))\n",
    "plt.close()\n",
    "\n",
    "fig,axs=plt.subplots(2,2,figsize=(15,8))\n",
    "for isn,sn in enumerate(['MAM','JJA','SON','DJF']):\n",
    "  ax = axs[isn//2,isn%2]\n",
    "  ky = f'NEE_PI'\n",
    "  inds = np.where((ec.index.month > 3*isn+2)*(ec.index.month <= 3*isn+5))\n",
    "  if sn == 'DJF':\n",
    "    inds = np.where((ec.index.month == 12) + (ec.index.month < 3))\n",
    "  ssn_ts = ec.iloc[inds]\n",
    "  ts = ssn_ts.groupby(ssn_ts.index.hour)[ky].mean()\n",
    "  ax.plot(ts,color='tab:red')\n",
    "\n",
    "  ax2 = ax.twinx()\n",
    "  for ky in heights:\n",
    "    inds = np.where((lef_all[ky].index.month > 3*isn+2)*(lef_all[ky].index.month <= 3*isn+5))\n",
    "    if sn == 'DJF':\n",
    "      inds = np.where((lef_all[ky].index.month == 12) + (lef_all[ky].index.month < 3))\n",
    "    ssn_ts = lef_all[ky].iloc[inds]\n",
    "    ts = ssn_ts.groupby(ssn_ts['co2_de'].index.hour)['co2_de'].mean()\n",
    "    ax2.plot(ts,'--')\n",
    "  ax.set_title(f'Diurnal Cycle at LEF for {sn}')\n",
    "  ax.set_ylabel('Diurnal Variation ($\\mu$mol m$^{-2}$ s$^{-1}$)',color='tab:red')\n",
    "  ax2.set_ylim([-3,38])\n",
    "  ax2.plot([0,24],[0,0],'--k')\n",
    "  ax.legend([pt[0][0],pt[1][0]],['Flux','Conc Anom'],loc='upper left')\n",
    "\n",
    "  ax.set_title(f'Diurnal Cycle at LEF for {sn}')\n",
    "  ax2.set_ylabel('Diurnal Variation (ppm)')\n",
    "  ax2.legend(heights)\n",
    "  ax.set_ylim([-15,8])\n",
    "  ax.plot([0,24],[0,0],'k')\n",
    "  ax.set_xlabel('Hour of Day (Local)')\n",
    "plt.tight_layout()"
   ]
  },
  {
   "cell_type": "markdown",
   "metadata": {
    "id": "vOjrNN4Fl5o4"
   },
   "source": [
    "## Questions\n",
    "\n",
    "1. What drives the differences in flux from season to season?\n",
    "2. What drives the daily cycle of flux?\n",
    "3. Are the flux and mole fraction time series correlated? Is there an obvious lag?  What would be causing that lag?"
   ]
  },
  {
   "cell_type": "code",
   "execution_count": null,
   "metadata": {},
   "outputs": [],
   "source": []
  }
 ],
 "metadata": {
  "language_info": {
   "name": "python"
  }
 },
 "nbformat": 4,
 "nbformat_minor": 4
}
