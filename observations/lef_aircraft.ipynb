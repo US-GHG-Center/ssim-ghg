{
 "cells": [
  {
   "cell_type": "code",
   "execution_count": null,
   "metadata": {},
   "outputs": [],
   "source": [
    "import matplotlib.pyplot as plt\n",
    "import datetime as dt\n",
    "import numpy as np\n",
    "from netCDF4 import Dataset\n",
    "from h5py import File\n",
    "import pandas as pd\n",
    "import xarray as xr\n",
    "from glob import glob\n",
    "import scipy.optimize as opt\n",
    "import seaborn as sns\n",
    "from dateutil.relativedelta import relativedelta\n"
   ]
  },
  {
   "cell_type": "markdown",
   "metadata": {
    "id": "TUvoKKB_kPkw"
   },
   "source": [
    "# Analysis of Aircraft Observations at LEF\n",
    "## Read in LEF data"
   ]
  },
  {
   "cell_type": "code",
   "execution_count": null,
   "metadata": {},
   "outputs": [],
   "source": [
    "fnm = './obspack_co2_1_GLOBALVIEWplus_v9.1_2023-12-08/data/nc/co2_lef_aircraft-pfp_1_allvalid.nc'\n",
    "tmp = xr.open_dataset(fnm)\n",
    "lef_pfp = pd.DataFrame({'co2':tmp['value'].data*1e6,'alt':tmp['altitude'].data,'date':tmp['time'].data},index=tmp['time'].data)\n",
    "inds = np.where(lef_pfp.index < dt.datetime(2004,1,1))[0]\n",
    "lef_pfp = lef_pfp.drop([lef_pfp.index[i] for i in inds])\n",
    "lef_pfp['ts'] = np.array([(t-dt.datetime(2004,1,1)).total_seconds()/365/86400 for t in lef_pfp['date']])"
   ]
  },
  {
   "cell_type": "markdown",
   "metadata": {
    "id": "iCE-0TnGkPkx"
   },
   "source": [
    "## Bin Data by Month and Altitude\n",
    "\n",
    "This binning technique uses the `hist2d` function to sum up the number of observations in each altitude $\\times$ time bin with and without multiplication by CO$_2$ values.  The ratio gives the average CO$_2$ in each bin."
   ]
  },
  {
   "cell_type": "code",
   "execution_count": null,
   "metadata": {},
   "outputs": [],
   "source": [
    "t = lef_pfp['ts'].values\n",
    "# Assign month+year to each point for easy binning\n",
    "m = np.array([lef_pfp.index[i].month + (lef_pfp.index[i].year-2004)*12 for i in range(len(lef_pfp.index))])\n",
    "co2 = lef_pfp['co2'].values\n",
    "alt = lef_pfp['alt'].values\n",
    "\n",
    "# 500m altitude bins\n",
    "alt_bins = np.arange(0,5000,500)\n",
    "\n",
    "# 1 month time bins\n",
    "time_bins = np.arange(-0.5,m.max()+1.5,1)\n",
    "\n",
    "# Bin with hist2d\n",
    "n,x,y = plt.hist2d(m,alt,(time_bins,alt_bins))[:3]\n",
    "nco2,x,y = plt.hist2d(m,alt,(time_bins,alt_bins),weights=co2)[:3]\n",
    "plt.close()\n",
    "\n",
    "#Compute average by bin\n",
    "co2_b = nco2.T/n.T\n",
    "\n",
    "# Save values in DataFrames\n",
    "lef_bin = {}\n",
    "alts = 0.5*(alt_bins[:-1]+alt_bins[1:])\n",
    "for i,alt in enumerate(alts):\n",
    "    lef_bin[alt] = pd.DataFrame({'co2':co2_b[i]},index=np.array([dt.datetime(2004,1,1) + relativedelta(months=i) for i in range(co2_b.shape[1])]))\n",
    "\n",
    "# Toss out empty DataFrames\n",
    "alts = sorted(lef_bin.keys())\n",
    "for alt in alts:\n",
    "    if len(lef_bin[alt]['co2'].dropna()) < 12: del(lef_bin[alt])\n",
    "alts = sorted(lef_bin.keys())"
   ]
  },
  {
   "cell_type": "markdown",
   "metadata": {
    "id": "S3YdCuZxkPkx"
   },
   "source": [
    "## Detrend the data:\n",
    "\n",
    "Trend: $f(t) = a_o + a_1 t + ... + a_n t^n$\n",
    "\n",
    "### **Change the number of terms**"
   ]
  },
  {
   "cell_type": "code",
   "execution_count": null,
   "metadata": {},
   "outputs": [],
   "source": [
    "def trend(x,*params):\n",
    "  fout = 0.\n",
    "  pn = params[:]\n",
    "  for ip,p in enumerate(pn):\n",
    "    fout += p*x**ip\n",
    "  return fout\n",
    "\n",
    "\n",
    "pt = {}\n",
    "for ht in sorted(lef_bin.keys()):\n",
    "    tmp = lef_bin[ht].dropna()\n",
    "    t = np.array([(ti-dt.datetime(2004,1,1)).total_seconds() for ti in tmp.index])/86400./365.\n",
    "    y = tmp['co2'].values.flatten()\n",
    "\n",
    "    # prior polynomial coefficients\n",
    "    p0 = np.array([300,10,1,0])\n",
    "\n",
    "    # fit the trend\n",
    "    pt[ht] = opt.curve_fit(trend,t,y,p0=p0,method='lm')[0]\n",
    "\n",
    "    # Save values in DataFrames\n",
    "    t = np.array([(ti-dt.datetime(2004,1,1)).total_seconds() for ti in lef_bin[ht].index])/86400./365.\n",
    "    lef_bin[ht]['co2_detrend'] = lef_bin[ht]['co2']-trend(t,*pt[ht])\n",
    "    lef_bin[ht]['co2_trend'] = trend(t,*pt[ht])\n",
    "    lef_bin[ht]['alt'] = np.array([ht for i in range(len(t))])\n",
    "\n",
    "    # Compute climatology and save\n",
    "    clim1 = [np.nanmean(lef_bin[ht]['co2_detrend'][i::12]) for i in range(12)]\n",
    "    clim = []\n",
    "    j = 0\n",
    "    for i in range(0,len(lef_bin[ht]['co2_detrend'])//12):\n",
    "        clim.extend(clim1)\n",
    "        j += 12\n",
    "    clim[j:len(lef_bin[ht]['co2_detrend'])] = clim1[:len(lef_bin[ht]['co2_detrend'])-j]\n",
    "    lef_bin[ht]['co2_de_clim'] = clim"
   ]
  },
  {
   "cell_type": "markdown",
   "metadata": {
    "id": "BspagetLkPkx"
   },
   "source": [
    "## Plot the Trends by Altitude"
   ]
  },
  {
   "cell_type": "code",
   "execution_count": null,
   "metadata": {},
   "outputs": [],
   "source": [
    "for i,alt in enumerate(alts[:-1]):\n",
    "    plt.plot(lef_bin[alt]['co2_trend'])\n",
    "plt.ylabel('CO$_2$ Mole Fraction Trend Curve (ppm)')"
   ]
  },
  {
   "cell_type": "markdown",
   "metadata": {
    "id": "WP3rtNb5kPky"
   },
   "source": [
    "## Plot the Average Seasonal Cycle of the Detrended Data"
   ]
  },
  {
   "cell_type": "code",
   "execution_count": null,
   "metadata": {},
   "outputs": [],
   "source": [
    "for i,alt in enumerate(alts[:-1]):\n",
    "    plt.plot(np.arange(1,13,1),lef_bin[alt]['co2_de_clim'][:12])\n",
    "plt.legend(alts[:-1])\n",
    "plt.plot([1,12],[0,0],'--k');\n",
    "plt.title('Average Detrended Seasonal Cycle by Flight Altitude')\n",
    "plt.ylabel('Detrended CO$_2$ (ppm)')\n",
    "plt.xticks(np.arange(1,13,1),['J','F','M','A','M','J','J','A','S','O','N','D']);"
   ]
  },
  {
   "cell_type": "markdown",
   "metadata": {
    "id": "ifp7VVx6kPky"
   },
   "source": [
    "## Plot the Raw Time Series and Average Seasonal Cycle"
   ]
  },
  {
   "cell_type": "code",
   "execution_count": null,
   "metadata": {},
   "outputs": [],
   "source": [
    "fig,axs = plt.subplots(len(alts[:-1]),figsize=(6,12))\n",
    "for i,alt in enumerate(alts[:-1]):\n",
    "    ax = axs[len(alts[:-1])-i-1]\n",
    "    ax.plot(lef_bin[alt]['co2_detrend'])\n",
    "    ax.plot(lef_bin[alt]['co2_de_clim'],'--')\n",
    "    ax.set_ylim([-25,10])\n",
    "    #ax.set_ylabel(f'Detrended CO$_2$ (ppm)')\n",
    "    ax.grid('on')\n",
    "    ax.spines['top'].set_visible(False)\n",
    "    ax.spines['right'].set_visible(False)\n",
    "    ax.spines['bottom'].set_visible(False)\n",
    "    ax.spines['left'].set_visible(False)\n",
    "    xl = ax.get_xlim()\n",
    "    ax.text(0.95*xl[1],-25,alt,backgroundcolor='white')\n",
    "    if i > 0: ax.set_xticklabels([])\n",
    "    if i == len(alts)-2: ax.legend(['Detrended CO2','Climatology'])\n",
    "fig.text(0.005,0.4,'Detrended CO$_2$ (ppm)',rotation='vertical',fontsize=18)"
   ]
  },
  {
   "cell_type": "markdown",
   "metadata": {
    "id": "OBsZ4KqmkPkz"
   },
   "source": [
    "# Questions\n",
    "1. How big are the trend differences between the different altitudes?  Would you expect different long term trends in the boundary layer versus the free troposphere?\n",
    "2. What drives the difference in seasonal cycle at the different altitudes?\n",
    "3. What do the differences between the average seasonal cycle and the monthly CO$_2$ time series represent? What might be driving these differences?"
   ]
  },
  {
   "cell_type": "code",
   "execution_count": null,
   "metadata": {},
   "outputs": [],
   "source": []
  }
 ],
 "metadata": {
  "language_info": {
   "name": "python"
  }
 },
 "nbformat": 4,
 "nbformat_minor": 4
}
