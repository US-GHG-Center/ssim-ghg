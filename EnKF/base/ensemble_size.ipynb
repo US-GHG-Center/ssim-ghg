{
 "cells": [
  {
   "cell_type": "code",
   "execution_count": null,
   "id": "a0604fe1-f890-47ba-98a2-f07c217efbc1",
   "metadata": {},
   "outputs": [],
   "source": [
    "library(fields)\n",
    "library(colorspace)\n",
    "source(\"../tools/enkf.r\")\n",
    "options(repr.plot.width=18,repr.plot.height=5,repr.plot.res=100)\n",
    "diagval <- 2\n",
    "Sx <- diag(rep(diagval,50))\n",
    "nmemb1 <- 10\n",
    "nmemb2 <- 50\n",
    "foo1 <- generate_ensemble(Sx=Sx,nmemb=nmemb1)\n",
    "foo2 <- generate_ensemble(Sx=Sx,nmemb=nmemb2)\n",
    "layout(matrix(1:3,ncol=3))\n",
    "imagePlot(Sx,zlim=c(-1,1)*diagval,col=diverge_hsv(31),main=\"True covariance\")\n",
    "imagePlot(limit.z(cov(foo1),c(-1,1)*diagval),zlim=c(-1,1)*diagval,col=diverge_hsv(31),main=sprintf(\"Sampled covariance with %d members\",nmemb1))\n",
    "imagePlot(limit.z(cov(foo2),c(-1,1)*diagval),zlim=c(-1,1)*diagval,col=diverge_hsv(31),main=sprintf(\"Sampled covariance with %d members\",nmemb2))\n"
   ]
  }
 ],
 "metadata": {
  "language_info": {
   "name": "R"
  }
 },
 "nbformat": 4,
 "nbformat_minor": 5
}
