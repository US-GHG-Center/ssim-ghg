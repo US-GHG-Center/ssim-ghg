{
 "cells": [
  {
   "cell_type": "code",
   "execution_count": null,
   "id": "17ed09ee-a168-4a14-984d-8961ec185bd6",
   "metadata": {},
   "outputs": [],
   "source": [
    "%load_ext autoreload\n",
    "%autoreload 2\n",
    "\n",
    "import numpy as np\n",
    "import sys\n",
    "from scipy.special import erfcinv as erfcinv\n",
    "import tqdm as tqdm\n",
    "import time\n",
    "from models import gauss_func,gp_3D_solution,calculate_cost,gp_1D_solution,calculate_dcost\n",
    "import matplotlib.pyplot as plt\n",
    "from plotting import mole_fraction_plot\n",
    "from read_settings import read_settings"
   ]
  },
  {
   "cell_type": "code",
   "execution_count": null,
   "id": "a5ef1410-224e-4e0c-bacd-5a41e62e926e",
   "metadata": {},
   "outputs": [],
   "source": [
    "grid,source,atm,obs = read_settings('../site_settings.yml')\n",
    "x = grid['advect_axis']\n",
    "y = grid['crosswind_axis']\n",
    "z = grid['vertical_axis']"
   ]
  },
  {
   "cell_type": "markdown",
   "id": "b52a0eb9-5083-4810-bc8c-a918eca88845",
   "metadata": {},
   "source": [
    "# Inverse Problem: Estimate the Parameters from Data\n",
    "## Perfect Model Experiment\n",
    "### Generate some noisy observations"
   ]
  },
  {
   "cell_type": "code",
   "execution_count": null,
   "id": "961cf8b0-31f2-4c3c-ac12-7d6b3e509e29",
   "metadata": {},
   "outputs": [],
   "source": [
    "obs_x = x[44]*np.ones(y.shape[0])\n",
    "obs_y = y[:]\n",
    "obs_z = np.zeros(y.shape[0])\n",
    "observation_loc = {'x':obs_x,'y':obs_y,'z':obs_z}\n",
    "obs_mole_fraction = gp_1D_solution(loc=observation_loc,atm=atm,source=source)+atm['background']\n",
    "noisy_obs_mole_fraction = obs_mole_fraction + obs['is_noise']/100.*atm['background']*np.random.randn(*obs_mole_fraction.shape)\n",
    "noisy_obs_mole_fraction_enh = noisy_obs_mole_fraction - atm['background']\n",
    "\n",
    "observation = {'mole_fraction':noisy_obs_mole_fraction_enh,'uncert':obs['is_noise']/100.*atm['background']}\n",
    "for ky in observation_loc.keys(): \n",
    "    observation[ky] = observation_loc[ky]"
   ]
  },
  {
   "cell_type": "markdown",
   "id": "eb5c8c18-0a65-4ff7-bcf0-f41474837c48",
   "metadata": {},
   "source": [
    "### Define the prior parameters"
   ]
  },
  {
   "cell_type": "code",
   "execution_count": null,
   "id": "9a7f1ba4-1f27-4153-b3ed-05a4b75f64b7",
   "metadata": {},
   "outputs": [],
   "source": [
    "prior_atm=atm.copy()\n",
    "prior_source=source.copy()\n",
    "prior_source['emis_rate'] = 0.5*source['emis_rate']\n",
    "prior_source['emis_rate_uncert'] = 0.5*prior_source['emis_rate']"
   ]
  },
  {
   "cell_type": "markdown",
   "id": "c6b926bf-c863-4744-9485-d85e4a3f1bb8",
   "metadata": {},
   "source": [
    "### Examine the Cost Function"
   ]
  },
  {
   "cell_type": "code",
   "execution_count": null,
   "id": "b2801efc-edbc-4619-9bb2-d6f8267a1b68",
   "metadata": {},
   "outputs": [],
   "source": [
    "n_samples = 1000\n",
    "emis_rate_ensemble = prior_source['emis_rate'] + prior_source['emis_rate_uncert']*np.random.randn(n_samples)\n",
    "current_source=prior_source.copy()\n",
    "current_atm=prior_atm.copy()\n",
    "cost = np.zeros(n_samples)\n",
    "dcost = np.zeros(n_samples)\n",
    "loc = {'x':obs_x,'y':obs_y,'z':obs_z}\n",
    "\n",
    "for i in range(n_samples):\n",
    "    current_source['emis_rate'] = emis_rate_ensemble[i]\n",
    "    emission = {'current':emis_rate_ensemble[i],'prior':prior_source['emis_rate'],'prior_uncert':prior_source['emis_rate_uncert']}\n",
    "    cost[i] = calculate_cost(observation=observation,emission=emission,source=current_source,atm=current_atm)\n",
    "    dcost[i] = calculate_dcost(observation=observation,emission=emission,source=current_source,atm=current_atm)\n",
    "plt.scatter(emis_rate_ensemble,cost/cost.max(),s=1)\n",
    "plt.scatter(emis_rate_ensemble,dcost/dcost.max(),s=1)\n",
    "plt.legend(['Cost','Jacobian'])"
   ]
  },
  {
   "cell_type": "markdown",
   "id": "fc0eefba-6968-4f1f-9276-8a4a1e3a0b36",
   "metadata": {},
   "source": [
    "### Gradient Descent Optimizer"
   ]
  },
  {
   "cell_type": "code",
   "execution_count": null,
   "id": "068afc53-3bc7-4351-b5fe-04683aa914ec",
   "metadata": {},
   "outputs": [],
   "source": [
    "max_iterations = 1000\n",
    "current_source = prior_source.copy()\n",
    "observation = {'mole_fraction':noisy_obs_mole_fraction_enh,'uncert':obs['is_noise']/100.*atm['background']}\n",
    "for ky in observation_loc.keys(): \n",
    "    observation[ky] = observation_loc[ky]\n",
    "emission = {'current':prior_source['emis_rate'],'prior':prior_source['emis_rate'],'prior_uncert':prior_source['emis_rate_uncert']}\n",
    "cost = np.zeros(max_iterations)\n",
    "cost[0] = calculate_cost(observation=observation,emission=emission,source=current_source,atm=atm)\n",
    "dcost = np.zeros(max_iterations)\n",
    "dcost[0] = calculate_dcost(observation=observation,emission=emission,source=current_source,atm=atm)\n",
    "emis = np.zeros(max_iterations)\n",
    "emis[0]=prior_source['emis_rate']\n",
    "iter=1\n",
    "while (iter < max_iterations)*(np.abs(jac[iter-1]/jac[0])> 1e-2):    \n",
    "    emis[iter] = emis[iter-1]-0.01*jac[iter-1]\n",
    "    emission = {'current':emis[iter],'prior':prior_source['emis_rate'],'prior_uncert':prior_source['emis_rate_uncert']}\n",
    "    current_source['emis_rate']=emis[iter]\n",
    "    cost[iter] = calculate_cost(observation=observation,emission=emission,source=current_source,atm=atm)\n",
    "    dcost[iter] = calculate_dcost(observation=observation,emission=emission,source=current_source,atm=atm)\n",
    "    iter+=1\n",
    "n_iter = iter-1\n",
    "posterior={'emission':emission['current']}\n",
    "posterior['mole_fraction']=gp_1D_solution(loc=observation_loc,atm=atm,source=current_source)\n",
    "posterior['uncert']=((posterior['mole_fraction']**2/posterior['emission']**2).sum()/observation['uncert']**2 + 1./prior_source['emis_rate_uncert']**2)**(-1)\n",
    "\n",
    "plt.plot(cost[:n_iter])\n",
    "plt.title('Cost Function vs. Iterations');\n",
    "plt.xlabel('Iteration Number');\n",
    "plt.ylabel('Cost');"
   ]
  },
  {
   "cell_type": "markdown",
   "id": "51fbcf0c-b8dd-4613-87f9-ab5f413a8dbd",
   "metadata": {},
   "source": [
    "### Prior and Posterior Residuals"
   ]
  },
  {
   "cell_type": "code",
   "execution_count": null,
   "id": "9046b168-d473-4540-8e11-be243fb42f6e",
   "metadata": {},
   "outputs": [],
   "source": [
    "prior_mole_fraction = gp_1D_solution(loc=observation_loc,atm=prior_atm,source=prior_source)\n",
    "g1 = plt.hist(prior_mole_fraction-posterior['mole_fraction'],bins=np.linspace(-1,1,21));\n",
    "g2 = plt.hist(posterior['mole_fraction']-observation['mole_fraction'],bins=np.linspace(-1,1,21),alpha=0.4);\n",
    "plt.legend([g1[2],g2[2]],['Prior','Posterior'])\n",
    "plt.xlabel('Model Data Mismatch (ppm)')"
   ]
  },
  {
   "cell_type": "code",
   "execution_count": null,
   "id": "34b4c90d-2430-4b9c-867c-f53d7e558d31",
   "metadata": {},
   "outputs": [],
   "source": []
  },
  {
   "cell_type": "code",
   "execution_count": null,
   "id": "c9ba64dc-5a9c-4c05-8e16-9458d6e4c830",
   "metadata": {},
   "outputs": [],
   "source": []
  }
 ],
 "metadata": {
  "language_info": {
   "name": "python"
  }
 },
 "nbformat": 4,
 "nbformat_minor": 5
}
