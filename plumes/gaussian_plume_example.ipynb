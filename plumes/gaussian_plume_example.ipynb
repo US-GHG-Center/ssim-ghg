{
 "cells": [
  {
   "cell_type": "code",
   "execution_count": null,
   "id": "17ed09ee-a168-4a14-984d-8961ec185bd6",
   "metadata": {},
   "outputs": [],
   "source": [
    "%load_ext autoreload\n",
    "%autoreload 2\n",
    "\n",
    "import numpy as np\n",
    "import sys\n",
    "from scipy.special import erfcinv as erfcinv\n",
    "import tqdm as tqdm\n",
    "import time\n",
    "from models import gauss_func,gp_forward_model\n",
    "import matplotlib.pyplot as plt\n",
    "from plotting import mole_fraction_plot\n",
    "from read_settings import read_settings"
   ]
  },
  {
   "cell_type": "code",
   "execution_count": null,
   "id": "a5ef1410-224e-4e0c-bacd-5a41e62e926e",
   "metadata": {},
   "outputs": [],
   "source": [
    "grid,source,atm,obs = read_settings('../site_settings.yml')"
   ]
  },
  {
   "cell_type": "markdown",
   "id": "8ea8c88b-733a-42a9-8bfc-606867f421bd",
   "metadata": {},
   "source": [
    "## Compute GP Solution on 3-D Grid"
   ]
  },
  {
   "cell_type": "code",
   "execution_count": null,
   "id": "b6fbd0e1-eab5-40de-a494-e1e519a23887",
   "metadata": {},
   "outputs": [],
   "source": [
    "mass_density_enh = gp_forward_model(source=source,atm=atm,grid=grid)\n",
    "mole_fraction_enh = mass_density_enh * atm['scaling']\n",
    "mole_fraction = atm['background'] + mole_fraction_enh\n",
    "is_mf_error = obs['is_noise']/100.*np.random.randn(*mole_fraction_enh.shape)*atm['background']\n",
    "noisy_mole_fraction = mole_fraction+is_mf_error\n",
    "\n",
    "x = grid['advect_axis']\n",
    "y = grid['crosswind_axis']\n",
    "z = grid['vertical_axis']"
   ]
  },
  {
   "cell_type": "markdown",
   "id": "dd346782-8f30-414a-8c44-63382cd531d9",
   "metadata": {},
   "source": [
    "## Surface Mole Fraction Plots"
   ]
  },
  {
   "cell_type": "code",
   "execution_count": null,
   "id": "a1016a1f-49d6-45af-a3c6-7cc3d08a14df",
   "metadata": {},
   "outputs": [],
   "source": [
    "lev=0\n",
    "mole_fraction_plot(mole_fraction=mole_fraction[lev],plot_lims=[1.8,3.5],x=x,y=y,x_slices=[1000,2000,3000,4000],title=f'CH$_4$ (ppm) at {z[lev]}m above surface')\n",
    "mole_fraction_plot(mole_fraction=is_mf_error[lev],plot_lims=[-4e-3,4e-3],x=x,y=y,x_slices=[1000,2000,3000,4000],title=f'CH$_4$ Noise (ppm) at {z[lev]}m above surface',cmap=plt.cm.RdBu_r)\n",
    "mole_fraction_plot(mole_fraction=noisy_mole_fraction[lev],plot_lims=[1.8,3.5],x=x,y=y,x_slices=[1000,2000,3000,4000],title=f'Noisy CH$_4$ (ppm) at {z[lev]}m above surface')"
   ]
  },
  {
   "cell_type": "markdown",
   "id": "e1c97b4b-7244-4bfc-a735-3e41f0007853",
   "metadata": {},
   "source": [
    "## Vertical Profile of Mole Fraction Plots"
   ]
  },
  {
   "cell_type": "code",
   "execution_count": null,
   "id": "8f490065-573e-459e-aaf2-074d650118ea",
   "metadata": {},
   "outputs": [],
   "source": [
    "y_slice = 0\n",
    "slice_ind = np.argwhere(np.abs(y-y_slice)<1e-3)[0][0]\n",
    "mole_fraction_plot(mole_fraction=mole_fraction[:,slice_ind,:],plot_lims=[1.8,5],x=x,y=z,x_slices=[500,1000,2000,4000],ylabel=f'Vertical Direction (km)',title=f'Vertical CH$_4$ (ppm) along y={y_slice}')\n"
   ]
  },
  {
   "cell_type": "markdown",
   "id": "153a63f5-48b7-4886-adf2-b976e18a0705",
   "metadata": {},
   "source": [
    "## Compute Column Average Mole Fraction "
   ]
  },
  {
   "cell_type": "code",
   "execution_count": null,
   "id": "1a800714-3f8c-42d6-864b-2d15b97586ec",
   "metadata": {},
   "outputs": [],
   "source": [
    "col_mass_density_enh = mass_density_enh.sum(0)*grid['dp']\n",
    "column_avg_mole_fraction = mole_fraction.sum(0)*np.abs(grid['dp'])/(grid['p'][0]-grid['p'][-1]) + atm['background']*np.abs(grid['dp'])/grid['p'][-1]\n",
    "col_mf_error = obs['col_noise']/100*np.random.randn(*column_avg_mole_fraction.shape)*atm['background']\n",
    "noisy_column_avg_mole_fraction = column_avg_mole_fraction + col_mf_error"
   ]
  },
  {
   "cell_type": "markdown",
   "id": "14de2b71-67e2-45bf-abcd-645067f2de35",
   "metadata": {},
   "source": [
    "## Column Avg Mole Fraction Plots"
   ]
  },
  {
   "cell_type": "code",
   "execution_count": null,
   "id": "80093b2f-5154-4e3c-9440-81790f8453d0",
   "metadata": {},
   "outputs": [],
   "source": [
    "mole_fraction_plot(mole_fraction=column_avg_mole_fraction[:],plot_lims=[1.8,2.3],x=x,y=y,x_slices=[1000,2000,3000,4000],title=f'XCH$_4$ (ppm)')\n",
    "mole_fraction_plot(mole_fraction=col_mf_error[:],plot_lims=[-0.3,0.3],x=x,y=y,x_slices=[1000,2000,3000,4000],title=f'XCH$_4$ Noise (ppm)',cmap=plt.cm.RdBu_r)\n",
    "mole_fraction_plot(mole_fraction=noisy_column_avg_mole_fraction[:],plot_lims=[1.6,2.3],x=x,y=y,x_slices=[1000,2000,3000,4000],title=f'Noisy XCH$_4$ (ppm)')"
   ]
  },
  {
   "cell_type": "code",
   "execution_count": null,
   "id": "9a7f1ba4-1f27-4153-b3ed-05a4b75f64b7",
   "metadata": {},
   "outputs": [],
   "source": []
  }
 ],
 "metadata": {
  "language_info": {
   "name": "python"
  }
 },
 "nbformat": 4,
 "nbformat_minor": 5
}
